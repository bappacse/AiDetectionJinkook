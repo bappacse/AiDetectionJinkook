{
 "cells": [
  {
   "cell_type": "code",
   "execution_count": 2,
   "id": "983726e3",
   "metadata": {},
   "outputs": [],
   "source": [
    "from ultralytics import YOLO"
   ]
  },
  {
   "cell_type": "code",
   "execution_count": 3,
   "id": "a8688ce6",
   "metadata": {},
   "outputs": [
    {
     "name": "stdout",
     "output_type": "stream",
     "text": [
      "Downloading https://github.com/ultralytics/assets/releases/download/v8.1.0/yolov8n.pt to 'yolov8n.pt'...\n"
     ]
    },
    {
     "name": "stderr",
     "output_type": "stream",
     "text": [
      "100%|██████████████████████████████████████████████████████████████████████████████| 6.23M/6.23M [00:23<00:00, 281kB/s]\n"
     ]
    }
   ],
   "source": [
    "model = YOLO('yolov8n.pt')"
   ]
  },
  {
   "cell_type": "code",
   "execution_count": 4,
   "id": "3c432a45",
   "metadata": {},
   "outputs": [
    {
     "name": "stdout",
     "output_type": "stream",
     "text": [
      "Ultralytics YOLOv8.1.42  Python-3.9.18 torch-2.1.2 CUDA:0 (NVIDIA GeForce GTX 1050 Ti, 4096MiB)\n",
      "\u001b[34m\u001b[1mengine\\trainer: \u001b[0mtask=detect, mode=train, model=yolov8n.pt, data=C:/Users/smallBird/Desktop/OT/EXP12_Yolo/data.yaml, epochs=50, time=None, patience=100, batch=16, imgsz=96, save=True, save_period=-1, cache=False, device=None, workers=8, project=None, name=train, exist_ok=False, pretrained=True, optimizer=auto, verbose=True, seed=0, deterministic=True, single_cls=False, rect=False, cos_lr=False, close_mosaic=10, resume=False, amp=True, fraction=1.0, profile=False, freeze=None, multi_scale=False, overlap_mask=True, mask_ratio=4, dropout=0.0, val=True, split=val, save_json=False, save_hybrid=False, conf=None, iou=0.7, max_det=300, half=False, dnn=False, plots=True, source=None, vid_stride=1, stream_buffer=False, visualize=False, augment=False, agnostic_nms=False, classes=None, retina_masks=False, embed=None, show=False, save_frames=False, save_txt=False, save_conf=False, save_crop=False, show_labels=True, show_conf=True, show_boxes=True, line_width=None, format=torchscript, keras=False, optimize=False, int8=False, dynamic=False, simplify=False, opset=None, workspace=4, nms=False, lr0=0.01, lrf=0.01, momentum=0.937, weight_decay=0.0005, warmup_epochs=3.0, warmup_momentum=0.8, warmup_bias_lr=0.1, box=7.5, cls=0.5, dfl=1.5, pose=12.0, kobj=1.0, label_smoothing=0.0, nbs=64, hsv_h=0.015, hsv_s=0.7, hsv_v=0.4, degrees=0.0, translate=0.1, scale=0.5, shear=0.0, perspective=0.0, flipud=0.0, fliplr=0.5, bgr=0.0, mosaic=1.0, mixup=0.0, copy_paste=0.0, auto_augment=randaugment, erasing=0.4, crop_fraction=1.0, cfg=None, tracker=botsort.yaml, save_dir=runs\\detect\\train\n",
      "Downloading https://ultralytics.com/assets/Arial.ttf to 'C:\\Users\\smallBird\\AppData\\Roaming\\Ultralytics\\Arial.ttf'...\n"
     ]
    },
    {
     "name": "stderr",
     "output_type": "stream",
     "text": [
      "100%|███████████████████████████████████████████████████████████████████████████████| 755k/755k [00:00<00:00, 1.14MB/s]\n"
     ]
    },
    {
     "name": "stdout",
     "output_type": "stream",
     "text": [
      "Overriding model.yaml nc=80 with nc=1\n",
      "\n",
      "                   from  n    params  module                                       arguments                     \n",
      "  0                  -1  1       464  ultralytics.nn.modules.conv.Conv             [3, 16, 3, 2]                 \n",
      "  1                  -1  1      4672  ultralytics.nn.modules.conv.Conv             [16, 32, 3, 2]                \n",
      "  2                  -1  1      7360  ultralytics.nn.modules.block.C2f             [32, 32, 1, True]             \n",
      "  3                  -1  1     18560  ultralytics.nn.modules.conv.Conv             [32, 64, 3, 2]                \n",
      "  4                  -1  2     49664  ultralytics.nn.modules.block.C2f             [64, 64, 2, True]             \n",
      "  5                  -1  1     73984  ultralytics.nn.modules.conv.Conv             [64, 128, 3, 2]               \n",
      "  6                  -1  2    197632  ultralytics.nn.modules.block.C2f             [128, 128, 2, True]           \n",
      "  7                  -1  1    295424  ultralytics.nn.modules.conv.Conv             [128, 256, 3, 2]              \n",
      "  8                  -1  1    460288  ultralytics.nn.modules.block.C2f             [256, 256, 1, True]           \n",
      "  9                  -1  1    164608  ultralytics.nn.modules.block.SPPF            [256, 256, 5]                 \n",
      " 10                  -1  1         0  torch.nn.modules.upsampling.Upsample         [None, 2, 'nearest']          \n",
      " 11             [-1, 6]  1         0  ultralytics.nn.modules.conv.Concat           [1]                           \n",
      " 12                  -1  1    148224  ultralytics.nn.modules.block.C2f             [384, 128, 1]                 \n",
      " 13                  -1  1         0  torch.nn.modules.upsampling.Upsample         [None, 2, 'nearest']          \n",
      " 14             [-1, 4]  1         0  ultralytics.nn.modules.conv.Concat           [1]                           \n",
      " 15                  -1  1     37248  ultralytics.nn.modules.block.C2f             [192, 64, 1]                  \n",
      " 16                  -1  1     36992  ultralytics.nn.modules.conv.Conv             [64, 64, 3, 2]                \n",
      " 17            [-1, 12]  1         0  ultralytics.nn.modules.conv.Concat           [1]                           \n",
      " 18                  -1  1    123648  ultralytics.nn.modules.block.C2f             [192, 128, 1]                 \n",
      " 19                  -1  1    147712  ultralytics.nn.modules.conv.Conv             [128, 128, 3, 2]              \n",
      " 20             [-1, 9]  1         0  ultralytics.nn.modules.conv.Concat           [1]                           \n",
      " 21                  -1  1    493056  ultralytics.nn.modules.block.C2f             [384, 256, 1]                 \n",
      " 22        [15, 18, 21]  1    751507  ultralytics.nn.modules.head.Detect           [1, [64, 128, 256]]           \n",
      "Model summary: 225 layers, 3011043 parameters, 3011027 gradients, 8.2 GFLOPs\n",
      "\n",
      "Transferred 319/355 items from pretrained weights\n",
      "\u001b[34m\u001b[1mTensorBoard: \u001b[0mStart with 'tensorboard --logdir runs\\detect\\train', view at http://localhost:6006/\n"
     ]
    },
    {
     "name": "stderr",
     "output_type": "stream",
     "text": [
      "Failed to detect the name of this notebook, you can set it manually with the WANDB_NOTEBOOK_NAME environment variable to enable code saving.\n",
      "\u001b[34m\u001b[1mwandb\u001b[0m: Currently logged in as: \u001b[33mzhenguo26\u001b[0m (\u001b[33mkw_jklee\u001b[0m). Use \u001b[1m`wandb login --relogin`\u001b[0m to force relogin\n"
     ]
    },
    {
     "data": {
      "text/html": [
       "wandb version 0.16.6 is available!  To upgrade, please run:\n",
       " $ pip install wandb --upgrade"
      ],
      "text/plain": [
       "<IPython.core.display.HTML object>"
      ]
     },
     "metadata": {},
     "output_type": "display_data"
    },
    {
     "data": {
      "text/html": [
       "Tracking run with wandb version 0.16.2"
      ],
      "text/plain": [
       "<IPython.core.display.HTML object>"
      ]
     },
     "metadata": {},
     "output_type": "display_data"
    },
    {
     "data": {
      "text/html": [
       "Run data is saved locally in <code>C:\\Users\\smallBird\\Desktop\\OT\\EXP12_Yolo\\wandb\\run-20240405_111457-38zor6jg</code>"
      ],
      "text/plain": [
       "<IPython.core.display.HTML object>"
      ]
     },
     "metadata": {},
     "output_type": "display_data"
    },
    {
     "data": {
      "text/html": [
       "Syncing run <strong><a href='https://wandb.ai/kw_jklee/YOLOv8/runs/38zor6jg' target=\"_blank\">train</a></strong> to <a href='https://wandb.ai/kw_jklee/YOLOv8' target=\"_blank\">Weights & Biases</a> (<a href='https://wandb.me/run' target=\"_blank\">docs</a>)<br/>"
      ],
      "text/plain": [
       "<IPython.core.display.HTML object>"
      ]
     },
     "metadata": {},
     "output_type": "display_data"
    },
    {
     "data": {
      "text/html": [
       " View project at <a href='https://wandb.ai/kw_jklee/YOLOv8' target=\"_blank\">https://wandb.ai/kw_jklee/YOLOv8</a>"
      ],
      "text/plain": [
       "<IPython.core.display.HTML object>"
      ]
     },
     "metadata": {},
     "output_type": "display_data"
    },
    {
     "data": {
      "text/html": [
       " View run at <a href='https://wandb.ai/kw_jklee/YOLOv8/runs/38zor6jg' target=\"_blank\">https://wandb.ai/kw_jklee/YOLOv8/runs/38zor6jg</a>"
      ],
      "text/plain": [
       "<IPython.core.display.HTML object>"
      ]
     },
     "metadata": {},
     "output_type": "display_data"
    },
    {
     "name": "stdout",
     "output_type": "stream",
     "text": [
      "Freezing layer 'model.22.dfl.conv.weight'\n",
      "\u001b[34m\u001b[1mAMP: \u001b[0mrunning Automatic Mixed Precision (AMP) checks with YOLOv8n...\n",
      "\u001b[34m\u001b[1mAMP: \u001b[0mchecks passed \n"
     ]
    },
    {
     "name": "stderr",
     "output_type": "stream",
     "text": [
      "\u001b[34m\u001b[1mtrain: \u001b[0mScanning C:\\Users\\smallBird\\Desktop\\OT\\EXP12_Yolo\\train\\labels... 5100 images, 0 backgrounds, 0 corrupt: 100%|██\u001b[0m\n"
     ]
    },
    {
     "name": "stdout",
     "output_type": "stream",
     "text": [
      "\u001b[34m\u001b[1mtrain: \u001b[0mNew cache created: C:\\Users\\smallBird\\Desktop\\OT\\EXP12_Yolo\\train\\labels.cache\n"
     ]
    },
    {
     "name": "stderr",
     "output_type": "stream",
     "text": [
      "\u001b[34m\u001b[1mval: \u001b[0mScanning C:\\Users\\smallBird\\Desktop\\OT\\EXP12_Yolo\\valid\\labels... 600 images, 0 backgrounds, 0 corrupt: 100%|█████\u001b[0m\n"
     ]
    },
    {
     "name": "stdout",
     "output_type": "stream",
     "text": [
      "\u001b[34m\u001b[1mval: \u001b[0mNew cache created: C:\\Users\\smallBird\\Desktop\\OT\\EXP12_Yolo\\valid\\labels.cache\n",
      "Plotting labels to runs\\detect\\train\\labels.jpg... \n",
      "\u001b[34m\u001b[1moptimizer:\u001b[0m 'optimizer=auto' found, ignoring 'lr0=0.01' and 'momentum=0.937' and determining best 'optimizer', 'lr0' and 'momentum' automatically... \n",
      "\u001b[34m\u001b[1moptimizer:\u001b[0m AdamW(lr=0.002, momentum=0.9) with parameter groups 57 weight(decay=0.0), 64 weight(decay=0.0005), 63 bias(decay=0.0)\n",
      "\u001b[34m\u001b[1mTensorBoard: \u001b[0mmodel graph visualization added \n",
      "Image sizes 96 train, 96 val\n",
      "Using 8 dataloader workers\n",
      "Logging results to \u001b[1mruns\\detect\\train\u001b[0m\n",
      "Starting training for 50 epochs...\n",
      "\n",
      "      Epoch    GPU_mem   box_loss   cls_loss   dfl_loss  Instances       Size\n"
     ]
    },
    {
     "name": "stderr",
     "output_type": "stream",
     "text": [
      "       1/50      0.22G     0.8051      1.054      1.014         22         96: 100%|██████████| 319/319 [00:44<00:00,  \n",
      "                 Class     Images  Instances      Box(P          R      mAP50  mAP50-95): 100%|██████████| 19/19 [00:03"
     ]
    },
    {
     "name": "stdout",
     "output_type": "stream",
     "text": [
      "                   all        600        600          1          1      0.995      0.955\n"
     ]
    },
    {
     "name": "stderr",
     "output_type": "stream",
     "text": [
      "\n"
     ]
    },
    {
     "name": "stdout",
     "output_type": "stream",
     "text": [
      "\n",
      "      Epoch    GPU_mem   box_loss   cls_loss   dfl_loss  Instances       Size\n"
     ]
    },
    {
     "name": "stderr",
     "output_type": "stream",
     "text": [
      "       2/50     0.231G       0.58     0.4417     0.9195         19         96: 100%|██████████| 319/319 [00:38<00:00,  \n",
      "                 Class     Images  Instances      Box(P          R      mAP50  mAP50-95): 100%|██████████| 19/19 [00:03"
     ]
    },
    {
     "name": "stdout",
     "output_type": "stream",
     "text": [
      "                   all        600        600          1          1      0.995      0.945\n"
     ]
    },
    {
     "name": "stderr",
     "output_type": "stream",
     "text": [
      "\n"
     ]
    },
    {
     "name": "stdout",
     "output_type": "stream",
     "text": [
      "\n",
      "      Epoch    GPU_mem   box_loss   cls_loss   dfl_loss  Instances       Size\n"
     ]
    },
    {
     "name": "stderr",
     "output_type": "stream",
     "text": [
      "       3/50     0.231G      0.557     0.3989     0.9195         23         96: 100%|██████████| 319/319 [00:33<00:00,  \n",
      "                 Class     Images  Instances      Box(P          R      mAP50  mAP50-95): 100%|██████████| 19/19 [00:03"
     ]
    },
    {
     "name": "stdout",
     "output_type": "stream",
     "text": [
      "                   all        600        600          1          1      0.995      0.919\n"
     ]
    },
    {
     "name": "stderr",
     "output_type": "stream",
     "text": [
      "\n"
     ]
    },
    {
     "name": "stdout",
     "output_type": "stream",
     "text": [
      "\n",
      "      Epoch    GPU_mem   box_loss   cls_loss   dfl_loss  Instances       Size\n"
     ]
    },
    {
     "name": "stderr",
     "output_type": "stream",
     "text": [
      "       4/50     0.231G     0.5218      0.372     0.9072         35         96: 100%|██████████| 319/319 [00:33<00:00,  \n",
      "                 Class     Images  Instances      Box(P          R      mAP50  mAP50-95): 100%|██████████| 19/19 [00:03"
     ]
    },
    {
     "name": "stdout",
     "output_type": "stream",
     "text": [
      "                   all        600        600          1          1      0.995      0.955\n"
     ]
    },
    {
     "name": "stderr",
     "output_type": "stream",
     "text": [
      "\n"
     ]
    },
    {
     "name": "stdout",
     "output_type": "stream",
     "text": [
      "\n",
      "      Epoch    GPU_mem   box_loss   cls_loss   dfl_loss  Instances       Size\n"
     ]
    },
    {
     "name": "stderr",
     "output_type": "stream",
     "text": [
      "       5/50     0.231G     0.4899     0.3432     0.9032         23         96: 100%|██████████| 319/319 [00:32<00:00,  \n",
      "                 Class     Images  Instances      Box(P          R      mAP50  mAP50-95): 100%|██████████| 19/19 [00:03"
     ]
    },
    {
     "name": "stdout",
     "output_type": "stream",
     "text": [
      "                   all        600        600          1          1      0.995      0.965\n"
     ]
    },
    {
     "name": "stderr",
     "output_type": "stream",
     "text": [
      "\n"
     ]
    },
    {
     "name": "stdout",
     "output_type": "stream",
     "text": [
      "\n",
      "      Epoch    GPU_mem   box_loss   cls_loss   dfl_loss  Instances       Size\n"
     ]
    },
    {
     "name": "stderr",
     "output_type": "stream",
     "text": [
      "       6/50     0.231G     0.4761     0.3273     0.8986         27         96: 100%|██████████| 319/319 [00:32<00:00,  \n",
      "                 Class     Images  Instances      Box(P          R      mAP50  mAP50-95): 100%|██████████| 19/19 [00:03"
     ]
    },
    {
     "name": "stdout",
     "output_type": "stream",
     "text": [
      "                   all        600        600          1          1      0.995      0.942\n"
     ]
    },
    {
     "name": "stderr",
     "output_type": "stream",
     "text": [
      "\n"
     ]
    },
    {
     "name": "stdout",
     "output_type": "stream",
     "text": [
      "\n",
      "      Epoch    GPU_mem   box_loss   cls_loss   dfl_loss  Instances       Size\n"
     ]
    },
    {
     "name": "stderr",
     "output_type": "stream",
     "text": [
      "       7/50     0.231G     0.4577     0.3126     0.8938         26         96: 100%|██████████| 319/319 [00:32<00:00,  \n",
      "                 Class     Images  Instances      Box(P          R      mAP50  mAP50-95): 100%|██████████| 19/19 [00:03\n"
     ]
    },
    {
     "name": "stdout",
     "output_type": "stream",
     "text": [
      "                   all        600        600          1          1      0.995      0.963\n",
      "\n",
      "      Epoch    GPU_mem   box_loss   cls_loss   dfl_loss  Instances       Size\n"
     ]
    },
    {
     "name": "stderr",
     "output_type": "stream",
     "text": [
      "       8/50     0.231G     0.4468     0.3003     0.8921         24         96: 100%|██████████| 319/319 [00:32<00:00,  \n",
      "                 Class     Images  Instances      Box(P          R      mAP50  mAP50-95): 100%|██████████| 19/19 [00:02"
     ]
    },
    {
     "name": "stdout",
     "output_type": "stream",
     "text": [
      "                   all        600        600          1          1      0.995       0.97\n"
     ]
    },
    {
     "name": "stderr",
     "output_type": "stream",
     "text": [
      "\n"
     ]
    },
    {
     "name": "stdout",
     "output_type": "stream",
     "text": [
      "\n",
      "      Epoch    GPU_mem   box_loss   cls_loss   dfl_loss  Instances       Size\n"
     ]
    },
    {
     "name": "stderr",
     "output_type": "stream",
     "text": [
      "       9/50     0.231G      0.434     0.2901     0.8904         26         96: 100%|██████████| 319/319 [00:31<00:00, 1\n",
      "                 Class     Images  Instances      Box(P          R      mAP50  mAP50-95): 100%|██████████| 19/19 [00:02"
     ]
    },
    {
     "name": "stdout",
     "output_type": "stream",
     "text": [
      "                   all        600        600          1          1      0.995      0.983\n"
     ]
    },
    {
     "name": "stderr",
     "output_type": "stream",
     "text": [
      "\n"
     ]
    },
    {
     "name": "stdout",
     "output_type": "stream",
     "text": [
      "\n",
      "      Epoch    GPU_mem   box_loss   cls_loss   dfl_loss  Instances       Size\n"
     ]
    },
    {
     "name": "stderr",
     "output_type": "stream",
     "text": [
      "      10/50     0.231G     0.4307      0.287     0.8911         19         96: 100%|██████████| 319/319 [00:31<00:00, 1\n",
      "                 Class     Images  Instances      Box(P          R      mAP50  mAP50-95): 100%|██████████| 19/19 [00:03"
     ]
    },
    {
     "name": "stdout",
     "output_type": "stream",
     "text": [
      "                   all        600        600          1          1      0.995       0.98\n"
     ]
    },
    {
     "name": "stderr",
     "output_type": "stream",
     "text": [
      "\n"
     ]
    },
    {
     "name": "stdout",
     "output_type": "stream",
     "text": [
      "\n",
      "      Epoch    GPU_mem   box_loss   cls_loss   dfl_loss  Instances       Size\n"
     ]
    },
    {
     "name": "stderr",
     "output_type": "stream",
     "text": [
      "      11/50     0.231G     0.4182     0.2753     0.8874         24         96: 100%|██████████| 319/319 [00:31<00:00, 1\n",
      "                 Class     Images  Instances      Box(P          R      mAP50  mAP50-95): 100%|██████████| 19/19 [00:02"
     ]
    },
    {
     "name": "stdout",
     "output_type": "stream",
     "text": [
      "                   all        600        600          1          1      0.995      0.977\n"
     ]
    },
    {
     "name": "stderr",
     "output_type": "stream",
     "text": [
      "\n"
     ]
    },
    {
     "name": "stdout",
     "output_type": "stream",
     "text": [
      "\n",
      "      Epoch    GPU_mem   box_loss   cls_loss   dfl_loss  Instances       Size\n"
     ]
    },
    {
     "name": "stderr",
     "output_type": "stream",
     "text": [
      "      12/50     0.231G     0.4164     0.2763     0.8849         23         96: 100%|██████████| 319/319 [00:32<00:00,  \n",
      "                 Class     Images  Instances      Box(P          R      mAP50  mAP50-95): 100%|██████████| 19/19 [00:02"
     ]
    },
    {
     "name": "stdout",
     "output_type": "stream",
     "text": [
      "                   all        600        600          1          1      0.995      0.987\n"
     ]
    },
    {
     "name": "stderr",
     "output_type": "stream",
     "text": [
      "\n"
     ]
    },
    {
     "name": "stdout",
     "output_type": "stream",
     "text": [
      "\n",
      "      Epoch    GPU_mem   box_loss   cls_loss   dfl_loss  Instances       Size\n"
     ]
    },
    {
     "name": "stderr",
     "output_type": "stream",
     "text": [
      "      13/50     0.231G     0.3978     0.2638      0.881         23         96: 100%|██████████| 319/319 [00:32<00:00,  \n",
      "                 Class     Images  Instances      Box(P          R      mAP50  mAP50-95): 100%|██████████| 19/19 [00:02"
     ]
    },
    {
     "name": "stdout",
     "output_type": "stream",
     "text": [
      "                   all        600        600          1          1      0.995       0.99\n"
     ]
    },
    {
     "name": "stderr",
     "output_type": "stream",
     "text": [
      "\n"
     ]
    },
    {
     "name": "stdout",
     "output_type": "stream",
     "text": [
      "\n",
      "      Epoch    GPU_mem   box_loss   cls_loss   dfl_loss  Instances       Size\n"
     ]
    },
    {
     "name": "stderr",
     "output_type": "stream",
     "text": [
      "      14/50     0.231G     0.4029     0.2653     0.8809         22         96: 100%|██████████| 319/319 [00:31<00:00, 1\n",
      "                 Class     Images  Instances      Box(P          R      mAP50  mAP50-95): 100%|██████████| 19/19 [00:02"
     ]
    },
    {
     "name": "stdout",
     "output_type": "stream",
     "text": [
      "                   all        600        600          1          1      0.995      0.989\n"
     ]
    },
    {
     "name": "stderr",
     "output_type": "stream",
     "text": [
      "\n"
     ]
    },
    {
     "name": "stdout",
     "output_type": "stream",
     "text": [
      "\n",
      "      Epoch    GPU_mem   box_loss   cls_loss   dfl_loss  Instances       Size\n"
     ]
    },
    {
     "name": "stderr",
     "output_type": "stream",
     "text": [
      "      15/50     0.231G     0.3995     0.2617     0.8784         25         96: 100%|██████████| 319/319 [00:32<00:00,  \n",
      "                 Class     Images  Instances      Box(P          R      mAP50  mAP50-95): 100%|██████████| 19/19 [00:03"
     ]
    },
    {
     "name": "stdout",
     "output_type": "stream",
     "text": [
      "                   all        600        600          1          1      0.995      0.986\n"
     ]
    },
    {
     "name": "stderr",
     "output_type": "stream",
     "text": [
      "\n"
     ]
    },
    {
     "name": "stdout",
     "output_type": "stream",
     "text": [
      "\n",
      "      Epoch    GPU_mem   box_loss   cls_loss   dfl_loss  Instances       Size\n"
     ]
    },
    {
     "name": "stderr",
     "output_type": "stream",
     "text": [
      "      16/50     0.231G     0.3912     0.2551     0.8818         31         96: 100%|██████████| 319/319 [00:31<00:00, 1\n",
      "                 Class     Images  Instances      Box(P          R      mAP50  mAP50-95): 100%|██████████| 19/19 [00:03"
     ]
    },
    {
     "name": "stdout",
     "output_type": "stream",
     "text": [
      "                   all        600        600          1          1      0.995      0.983\n"
     ]
    },
    {
     "name": "stderr",
     "output_type": "stream",
     "text": [
      "\n"
     ]
    },
    {
     "name": "stdout",
     "output_type": "stream",
     "text": [
      "\n",
      "      Epoch    GPU_mem   box_loss   cls_loss   dfl_loss  Instances       Size\n"
     ]
    },
    {
     "name": "stderr",
     "output_type": "stream",
     "text": [
      "      17/50     0.231G      0.387     0.2521     0.8761         31         96: 100%|██████████| 319/319 [00:31<00:00, 1\n",
      "                 Class     Images  Instances      Box(P          R      mAP50  mAP50-95): 100%|██████████| 19/19 [00:02"
     ]
    },
    {
     "name": "stdout",
     "output_type": "stream",
     "text": [
      "                   all        600        600          1          1      0.995      0.983\n"
     ]
    },
    {
     "name": "stderr",
     "output_type": "stream",
     "text": [
      "\n"
     ]
    },
    {
     "name": "stdout",
     "output_type": "stream",
     "text": [
      "\n",
      "      Epoch    GPU_mem   box_loss   cls_loss   dfl_loss  Instances       Size\n"
     ]
    },
    {
     "name": "stderr",
     "output_type": "stream",
     "text": [
      "      18/50     0.231G       0.38      0.249      0.879         22         96: 100%|██████████| 319/319 [00:30<00:00, 1\n",
      "                 Class     Images  Instances      Box(P          R      mAP50  mAP50-95): 100%|██████████| 19/19 [00:02"
     ]
    },
    {
     "name": "stdout",
     "output_type": "stream",
     "text": [
      "                   all        600        600          1          1      0.995      0.984\n"
     ]
    },
    {
     "name": "stderr",
     "output_type": "stream",
     "text": [
      "\n"
     ]
    },
    {
     "name": "stdout",
     "output_type": "stream",
     "text": [
      "\n",
      "      Epoch    GPU_mem   box_loss   cls_loss   dfl_loss  Instances       Size\n"
     ]
    },
    {
     "name": "stderr",
     "output_type": "stream",
     "text": [
      "      19/50     0.231G     0.3833     0.2485     0.8775         24         96: 100%|██████████| 319/319 [00:30<00:00, 1\n",
      "                 Class     Images  Instances      Box(P          R      mAP50  mAP50-95): 100%|██████████| 19/19 [00:03"
     ]
    },
    {
     "name": "stdout",
     "output_type": "stream",
     "text": [
      "                   all        600        600          1          1      0.995      0.992\n"
     ]
    },
    {
     "name": "stderr",
     "output_type": "stream",
     "text": [
      "\n"
     ]
    },
    {
     "name": "stdout",
     "output_type": "stream",
     "text": [
      "\n",
      "      Epoch    GPU_mem   box_loss   cls_loss   dfl_loss  Instances       Size\n"
     ]
    },
    {
     "name": "stderr",
     "output_type": "stream",
     "text": [
      "      20/50     0.231G      0.378     0.2416     0.8772         32         96: 100%|██████████| 319/319 [00:30<00:00, 1\n",
      "                 Class     Images  Instances      Box(P          R      mAP50  mAP50-95): 100%|██████████| 19/19 [00:02"
     ]
    },
    {
     "name": "stdout",
     "output_type": "stream",
     "text": [
      "                   all        600        600          1          1      0.995      0.991\n"
     ]
    },
    {
     "name": "stderr",
     "output_type": "stream",
     "text": [
      "\n"
     ]
    },
    {
     "name": "stdout",
     "output_type": "stream",
     "text": [
      "\n",
      "      Epoch    GPU_mem   box_loss   cls_loss   dfl_loss  Instances       Size\n"
     ]
    },
    {
     "name": "stderr",
     "output_type": "stream",
     "text": [
      "      21/50     0.231G      0.366     0.2372     0.8761         21         96: 100%|██████████| 319/319 [00:37<00:00,  \n",
      "                 Class     Images  Instances      Box(P          R      mAP50  mAP50-95): 100%|██████████| 19/19 [00:03"
     ]
    },
    {
     "name": "stdout",
     "output_type": "stream",
     "text": [
      "                   all        600        600          1          1      0.995      0.985\n"
     ]
    },
    {
     "name": "stderr",
     "output_type": "stream",
     "text": [
      "\n"
     ]
    },
    {
     "name": "stdout",
     "output_type": "stream",
     "text": [
      "\n",
      "      Epoch    GPU_mem   box_loss   cls_loss   dfl_loss  Instances       Size\n"
     ]
    },
    {
     "name": "stderr",
     "output_type": "stream",
     "text": [
      "      22/50     0.231G     0.3691     0.2379     0.8751         20         96: 100%|██████████| 319/319 [00:31<00:00, 1\n",
      "                 Class     Images  Instances      Box(P          R      mAP50  mAP50-95): 100%|██████████| 19/19 [00:03"
     ]
    },
    {
     "name": "stdout",
     "output_type": "stream",
     "text": [
      "                   all        600        600          1          1      0.995      0.992\n"
     ]
    },
    {
     "name": "stderr",
     "output_type": "stream",
     "text": [
      "\n"
     ]
    },
    {
     "name": "stdout",
     "output_type": "stream",
     "text": [
      "\n",
      "      Epoch    GPU_mem   box_loss   cls_loss   dfl_loss  Instances       Size\n"
     ]
    },
    {
     "name": "stderr",
     "output_type": "stream",
     "text": [
      "      23/50     0.231G     0.3568     0.2297      0.873         25         96: 100%|██████████| 319/319 [00:36<00:00,  \n",
      "                 Class     Images  Instances      Box(P          R      mAP50  mAP50-95): 100%|██████████| 19/19 [00:03"
     ]
    },
    {
     "name": "stdout",
     "output_type": "stream",
     "text": [
      "                   all        600        600          1          1      0.995       0.99\n"
     ]
    },
    {
     "name": "stderr",
     "output_type": "stream",
     "text": [
      "\n"
     ]
    },
    {
     "name": "stdout",
     "output_type": "stream",
     "text": [
      "\n",
      "      Epoch    GPU_mem   box_loss   cls_loss   dfl_loss  Instances       Size\n"
     ]
    },
    {
     "name": "stderr",
     "output_type": "stream",
     "text": [
      "      24/50     0.231G     0.3616     0.2329      0.871         25         96: 100%|██████████| 319/319 [00:33<00:00,  \n",
      "                 Class     Images  Instances      Box(P          R      mAP50  mAP50-95): 100%|██████████| 19/19 [00:02"
     ]
    },
    {
     "name": "stdout",
     "output_type": "stream",
     "text": [
      "                   all        600        600          1          1      0.995      0.981\n"
     ]
    },
    {
     "name": "stderr",
     "output_type": "stream",
     "text": [
      "\n"
     ]
    },
    {
     "name": "stdout",
     "output_type": "stream",
     "text": [
      "\n",
      "      Epoch    GPU_mem   box_loss   cls_loss   dfl_loss  Instances       Size\n"
     ]
    },
    {
     "name": "stderr",
     "output_type": "stream",
     "text": [
      "      25/50     0.231G     0.3545     0.2291     0.8734         31         96: 100%|██████████| 319/319 [00:31<00:00, 1\n",
      "                 Class     Images  Instances      Box(P          R      mAP50  mAP50-95): 100%|██████████| 19/19 [00:02"
     ]
    },
    {
     "name": "stdout",
     "output_type": "stream",
     "text": [
      "                   all        600        600          1          1      0.995      0.989\n"
     ]
    },
    {
     "name": "stderr",
     "output_type": "stream",
     "text": [
      "\n"
     ]
    },
    {
     "name": "stdout",
     "output_type": "stream",
     "text": [
      "\n",
      "      Epoch    GPU_mem   box_loss   cls_loss   dfl_loss  Instances       Size\n"
     ]
    },
    {
     "name": "stderr",
     "output_type": "stream",
     "text": [
      "      26/50     0.231G     0.3583     0.2308      0.873         32         96: 100%|██████████| 319/319 [00:31<00:00, 1\n",
      "                 Class     Images  Instances      Box(P          R      mAP50  mAP50-95): 100%|██████████| 19/19 [00:02"
     ]
    },
    {
     "name": "stdout",
     "output_type": "stream",
     "text": [
      "                   all        600        600          1          1      0.995      0.988\n"
     ]
    },
    {
     "name": "stderr",
     "output_type": "stream",
     "text": [
      "\n"
     ]
    },
    {
     "name": "stdout",
     "output_type": "stream",
     "text": [
      "\n",
      "      Epoch    GPU_mem   box_loss   cls_loss   dfl_loss  Instances       Size\n"
     ]
    },
    {
     "name": "stderr",
     "output_type": "stream",
     "text": [
      "      27/50     0.231G     0.3515     0.2253     0.8726         32         96: 100%|██████████| 319/319 [00:31<00:00, 1\n",
      "                 Class     Images  Instances      Box(P          R      mAP50  mAP50-95): 100%|██████████| 19/19 [00:02"
     ]
    },
    {
     "name": "stdout",
     "output_type": "stream",
     "text": [
      "                   all        600        600          1          1      0.995      0.989\n"
     ]
    },
    {
     "name": "stderr",
     "output_type": "stream",
     "text": [
      "\n"
     ]
    },
    {
     "name": "stdout",
     "output_type": "stream",
     "text": [
      "\n",
      "      Epoch    GPU_mem   box_loss   cls_loss   dfl_loss  Instances       Size\n"
     ]
    },
    {
     "name": "stderr",
     "output_type": "stream",
     "text": [
      "      28/50     0.231G     0.3541     0.2251     0.8745         28         96: 100%|██████████| 319/319 [00:30<00:00, 1\n",
      "                 Class     Images  Instances      Box(P          R      mAP50  mAP50-95): 100%|██████████| 19/19 [00:02"
     ]
    },
    {
     "name": "stdout",
     "output_type": "stream",
     "text": [
      "                   all        600        600          1          1      0.995      0.989\n"
     ]
    },
    {
     "name": "stderr",
     "output_type": "stream",
     "text": [
      "\n"
     ]
    },
    {
     "name": "stdout",
     "output_type": "stream",
     "text": [
      "\n",
      "      Epoch    GPU_mem   box_loss   cls_loss   dfl_loss  Instances       Size\n"
     ]
    },
    {
     "name": "stderr",
     "output_type": "stream",
     "text": [
      "      29/50     0.231G     0.3486     0.2223     0.8733         28         96: 100%|██████████| 319/319 [00:30<00:00, 1\n",
      "                 Class     Images  Instances      Box(P          R      mAP50  mAP50-95): 100%|██████████| 19/19 [00:02"
     ]
    },
    {
     "name": "stdout",
     "output_type": "stream",
     "text": [
      "                   all        600        600          1          1      0.995       0.99\n"
     ]
    },
    {
     "name": "stderr",
     "output_type": "stream",
     "text": [
      "\n"
     ]
    },
    {
     "name": "stdout",
     "output_type": "stream",
     "text": [
      "\n",
      "      Epoch    GPU_mem   box_loss   cls_loss   dfl_loss  Instances       Size\n"
     ]
    },
    {
     "name": "stderr",
     "output_type": "stream",
     "text": [
      "      30/50     0.231G     0.3379     0.2154     0.8686         21         96: 100%|██████████| 319/319 [00:31<00:00, 1\n",
      "                 Class     Images  Instances      Box(P          R      mAP50  mAP50-95): 100%|██████████| 19/19 [00:02"
     ]
    },
    {
     "name": "stdout",
     "output_type": "stream",
     "text": [
      "                   all        600        600          1          1      0.995      0.992\n"
     ]
    },
    {
     "name": "stderr",
     "output_type": "stream",
     "text": [
      "\n"
     ]
    },
    {
     "name": "stdout",
     "output_type": "stream",
     "text": [
      "\n",
      "      Epoch    GPU_mem   box_loss   cls_loss   dfl_loss  Instances       Size\n"
     ]
    },
    {
     "name": "stderr",
     "output_type": "stream",
     "text": [
      "      31/50     0.231G     0.3365     0.2155     0.8694         34         96: 100%|██████████| 319/319 [00:30<00:00, 1\n",
      "                 Class     Images  Instances      Box(P          R      mAP50  mAP50-95): 100%|██████████| 19/19 [00:02"
     ]
    },
    {
     "name": "stdout",
     "output_type": "stream",
     "text": [
      "                   all        600        600          1          1      0.995      0.991\n"
     ]
    },
    {
     "name": "stderr",
     "output_type": "stream",
     "text": [
      "\n"
     ]
    },
    {
     "name": "stdout",
     "output_type": "stream",
     "text": [
      "\n",
      "      Epoch    GPU_mem   box_loss   cls_loss   dfl_loss  Instances       Size\n"
     ]
    },
    {
     "name": "stderr",
     "output_type": "stream",
     "text": [
      "      32/50     0.231G     0.3359     0.2139     0.8702         26         96: 100%|██████████| 319/319 [00:31<00:00, 1\n",
      "                 Class     Images  Instances      Box(P          R      mAP50  mAP50-95): 100%|██████████| 19/19 [00:02"
     ]
    },
    {
     "name": "stdout",
     "output_type": "stream",
     "text": [
      "                   all        600        600          1          1      0.995      0.991\n"
     ]
    },
    {
     "name": "stderr",
     "output_type": "stream",
     "text": [
      "\n"
     ]
    },
    {
     "name": "stdout",
     "output_type": "stream",
     "text": [
      "\n",
      "      Epoch    GPU_mem   box_loss   cls_loss   dfl_loss  Instances       Size\n"
     ]
    },
    {
     "name": "stderr",
     "output_type": "stream",
     "text": [
      "      33/50     0.231G     0.3344     0.2109     0.8695         20         96: 100%|██████████| 319/319 [00:30<00:00, 1\n",
      "                 Class     Images  Instances      Box(P          R      mAP50  mAP50-95): 100%|██████████| 19/19 [00:02"
     ]
    },
    {
     "name": "stdout",
     "output_type": "stream",
     "text": [
      "                   all        600        600          1          1      0.995      0.991\n"
     ]
    },
    {
     "name": "stderr",
     "output_type": "stream",
     "text": [
      "\n"
     ]
    },
    {
     "name": "stdout",
     "output_type": "stream",
     "text": [
      "\n",
      "      Epoch    GPU_mem   box_loss   cls_loss   dfl_loss  Instances       Size\n"
     ]
    },
    {
     "name": "stderr",
     "output_type": "stream",
     "text": [
      "      34/50     0.231G     0.3336     0.2101     0.8671         26         96: 100%|██████████| 319/319 [00:30<00:00, 1\n",
      "                 Class     Images  Instances      Box(P          R      mAP50  mAP50-95): 100%|██████████| 19/19 [00:02"
     ]
    },
    {
     "name": "stdout",
     "output_type": "stream",
     "text": [
      "                   all        600        600          1          1      0.995      0.992\n"
     ]
    },
    {
     "name": "stderr",
     "output_type": "stream",
     "text": [
      "\n"
     ]
    },
    {
     "name": "stdout",
     "output_type": "stream",
     "text": [
      "\n",
      "      Epoch    GPU_mem   box_loss   cls_loss   dfl_loss  Instances       Size\n"
     ]
    },
    {
     "name": "stderr",
     "output_type": "stream",
     "text": [
      "      35/50     0.231G     0.3302     0.2093     0.8665         27         96: 100%|██████████| 319/319 [00:31<00:00, 1\n",
      "                 Class     Images  Instances      Box(P          R      mAP50  mAP50-95): 100%|██████████| 19/19 [00:02"
     ]
    },
    {
     "name": "stdout",
     "output_type": "stream",
     "text": [
      "                   all        600        600          1          1      0.995      0.992\n"
     ]
    },
    {
     "name": "stderr",
     "output_type": "stream",
     "text": [
      "\n"
     ]
    },
    {
     "name": "stdout",
     "output_type": "stream",
     "text": [
      "\n",
      "      Epoch    GPU_mem   box_loss   cls_loss   dfl_loss  Instances       Size\n"
     ]
    },
    {
     "name": "stderr",
     "output_type": "stream",
     "text": [
      "      36/50     0.231G     0.3229     0.2034     0.8683         32         96: 100%|██████████| 319/319 [00:30<00:00, 1\n",
      "                 Class     Images  Instances      Box(P          R      mAP50  mAP50-95): 100%|██████████| 19/19 [00:02"
     ]
    },
    {
     "name": "stdout",
     "output_type": "stream",
     "text": [
      "                   all        600        600          1          1      0.995       0.99\n"
     ]
    },
    {
     "name": "stderr",
     "output_type": "stream",
     "text": [
      "\n"
     ]
    },
    {
     "name": "stdout",
     "output_type": "stream",
     "text": [
      "\n",
      "      Epoch    GPU_mem   box_loss   cls_loss   dfl_loss  Instances       Size\n"
     ]
    },
    {
     "name": "stderr",
     "output_type": "stream",
     "text": [
      "      37/50     0.231G     0.3197     0.2024     0.8642         19         96: 100%|██████████| 319/319 [00:30<00:00, 1\n",
      "                 Class     Images  Instances      Box(P          R      mAP50  mAP50-95): 100%|██████████| 19/19 [00:02"
     ]
    },
    {
     "name": "stdout",
     "output_type": "stream",
     "text": [
      "                   all        600        600          1          1      0.995      0.991\n"
     ]
    },
    {
     "name": "stderr",
     "output_type": "stream",
     "text": [
      "\n"
     ]
    },
    {
     "name": "stdout",
     "output_type": "stream",
     "text": [
      "\n",
      "      Epoch    GPU_mem   box_loss   cls_loss   dfl_loss  Instances       Size\n"
     ]
    },
    {
     "name": "stderr",
     "output_type": "stream",
     "text": [
      "      38/50     0.231G     0.3167     0.1985     0.8657         26         96: 100%|██████████| 319/319 [00:31<00:00, 1\n",
      "                 Class     Images  Instances      Box(P          R      mAP50  mAP50-95): 100%|██████████| 19/19 [00:02"
     ]
    },
    {
     "name": "stdout",
     "output_type": "stream",
     "text": [
      "                   all        600        600          1          1      0.995      0.991\n"
     ]
    },
    {
     "name": "stderr",
     "output_type": "stream",
     "text": [
      "\n"
     ]
    },
    {
     "name": "stdout",
     "output_type": "stream",
     "text": [
      "\n",
      "      Epoch    GPU_mem   box_loss   cls_loss   dfl_loss  Instances       Size\n"
     ]
    },
    {
     "name": "stderr",
     "output_type": "stream",
     "text": [
      "      39/50     0.231G     0.3167     0.2009     0.8675         33         96: 100%|██████████| 319/319 [00:30<00:00, 1\n",
      "                 Class     Images  Instances      Box(P          R      mAP50  mAP50-95): 100%|██████████| 19/19 [00:02"
     ]
    },
    {
     "name": "stdout",
     "output_type": "stream",
     "text": [
      "                   all        600        600          1          1      0.995      0.991\n"
     ]
    },
    {
     "name": "stderr",
     "output_type": "stream",
     "text": [
      "\n"
     ]
    },
    {
     "name": "stdout",
     "output_type": "stream",
     "text": [
      "\n",
      "      Epoch    GPU_mem   box_loss   cls_loss   dfl_loss  Instances       Size\n"
     ]
    },
    {
     "name": "stderr",
     "output_type": "stream",
     "text": [
      "      40/50     0.231G     0.3154     0.1975     0.8645         21         96: 100%|██████████| 319/319 [00:30<00:00, 1\n",
      "                 Class     Images  Instances      Box(P          R      mAP50  mAP50-95): 100%|██████████| 19/19 [00:02"
     ]
    },
    {
     "name": "stdout",
     "output_type": "stream",
     "text": [
      "                   all        600        600          1          1      0.995       0.99\n"
     ]
    },
    {
     "name": "stderr",
     "output_type": "stream",
     "text": [
      "\n"
     ]
    },
    {
     "name": "stdout",
     "output_type": "stream",
     "text": [
      "Closing dataloader mosaic\n",
      "\n",
      "      Epoch    GPU_mem   box_loss   cls_loss   dfl_loss  Instances       Size\n"
     ]
    },
    {
     "name": "stderr",
     "output_type": "stream",
     "text": [
      "      41/50     0.231G     0.2467     0.1637      0.806         12         96: 100%|██████████| 319/319 [00:30<00:00, 1\n",
      "                 Class     Images  Instances      Box(P          R      mAP50  mAP50-95): 100%|██████████| 19/19 [00:02"
     ]
    },
    {
     "name": "stdout",
     "output_type": "stream",
     "text": [
      "                   all        600        600          1          1      0.995      0.991\n"
     ]
    },
    {
     "name": "stderr",
     "output_type": "stream",
     "text": [
      "\n"
     ]
    },
    {
     "name": "stdout",
     "output_type": "stream",
     "text": [
      "\n",
      "      Epoch    GPU_mem   box_loss   cls_loss   dfl_loss  Instances       Size\n"
     ]
    },
    {
     "name": "stderr",
     "output_type": "stream",
     "text": [
      "      42/50     0.231G     0.2398     0.1549     0.8035         12         96: 100%|██████████| 319/319 [00:30<00:00, 1\n",
      "                 Class     Images  Instances      Box(P          R      mAP50  mAP50-95): 100%|██████████| 19/19 [00:02"
     ]
    },
    {
     "name": "stdout",
     "output_type": "stream",
     "text": [
      "                   all        600        600          1          1      0.995      0.991\n"
     ]
    },
    {
     "name": "stderr",
     "output_type": "stream",
     "text": [
      "\n"
     ]
    },
    {
     "name": "stdout",
     "output_type": "stream",
     "text": [
      "\n",
      "      Epoch    GPU_mem   box_loss   cls_loss   dfl_loss  Instances       Size\n"
     ]
    },
    {
     "name": "stderr",
     "output_type": "stream",
     "text": [
      "      43/50     0.231G     0.2357     0.1507     0.8035         12         96: 100%|██████████| 319/319 [00:31<00:00, 1\n",
      "                 Class     Images  Instances      Box(P          R      mAP50  mAP50-95): 100%|██████████| 19/19 [00:02"
     ]
    },
    {
     "name": "stdout",
     "output_type": "stream",
     "text": [
      "                   all        600        600          1          1      0.995      0.992\n"
     ]
    },
    {
     "name": "stderr",
     "output_type": "stream",
     "text": [
      "\n"
     ]
    },
    {
     "name": "stdout",
     "output_type": "stream",
     "text": [
      "\n",
      "      Epoch    GPU_mem   box_loss   cls_loss   dfl_loss  Instances       Size\n"
     ]
    },
    {
     "name": "stderr",
     "output_type": "stream",
     "text": [
      "      44/50     0.231G     0.2297     0.1442     0.8039         12         96: 100%|██████████| 319/319 [00:30<00:00, 1\n",
      "                 Class     Images  Instances      Box(P          R      mAP50  mAP50-95): 100%|██████████| 19/19 [00:02"
     ]
    },
    {
     "name": "stdout",
     "output_type": "stream",
     "text": [
      "                   all        600        600          1          1      0.995      0.992\n"
     ]
    },
    {
     "name": "stderr",
     "output_type": "stream",
     "text": [
      "\n"
     ]
    },
    {
     "name": "stdout",
     "output_type": "stream",
     "text": [
      "\n",
      "      Epoch    GPU_mem   box_loss   cls_loss   dfl_loss  Instances       Size\n"
     ]
    },
    {
     "name": "stderr",
     "output_type": "stream",
     "text": [
      "      45/50     0.231G     0.2269     0.1408     0.8039         12         96: 100%|██████████| 319/319 [00:30<00:00, 1\n",
      "                 Class     Images  Instances      Box(P          R      mAP50  mAP50-95): 100%|██████████| 19/19 [00:02"
     ]
    },
    {
     "name": "stdout",
     "output_type": "stream",
     "text": [
      "                   all        600        600          1          1      0.995      0.991\n"
     ]
    },
    {
     "name": "stderr",
     "output_type": "stream",
     "text": [
      "\n"
     ]
    },
    {
     "name": "stdout",
     "output_type": "stream",
     "text": [
      "\n",
      "      Epoch    GPU_mem   box_loss   cls_loss   dfl_loss  Instances       Size\n"
     ]
    },
    {
     "name": "stderr",
     "output_type": "stream",
     "text": [
      "      46/50     0.231G      0.224      0.137      0.806         12         96: 100%|██████████| 319/319 [00:30<00:00, 1\n",
      "                 Class     Images  Instances      Box(P          R      mAP50  mAP50-95): 100%|██████████| 19/19 [00:02"
     ]
    },
    {
     "name": "stdout",
     "output_type": "stream",
     "text": [
      "                   all        600        600          1          1      0.995      0.993\n"
     ]
    },
    {
     "name": "stderr",
     "output_type": "stream",
     "text": [
      "\n"
     ]
    },
    {
     "name": "stdout",
     "output_type": "stream",
     "text": [
      "\n",
      "      Epoch    GPU_mem   box_loss   cls_loss   dfl_loss  Instances       Size\n"
     ]
    },
    {
     "name": "stderr",
     "output_type": "stream",
     "text": [
      "      47/50     0.231G      0.219     0.1334     0.8041         12         96: 100%|██████████| 319/319 [00:30<00:00, 1\n",
      "                 Class     Images  Instances      Box(P          R      mAP50  mAP50-95): 100%|██████████| 19/19 [00:02"
     ]
    },
    {
     "name": "stdout",
     "output_type": "stream",
     "text": [
      "                   all        600        600          1          1      0.995      0.992\n"
     ]
    },
    {
     "name": "stderr",
     "output_type": "stream",
     "text": [
      "\n"
     ]
    },
    {
     "name": "stdout",
     "output_type": "stream",
     "text": [
      "\n",
      "      Epoch    GPU_mem   box_loss   cls_loss   dfl_loss  Instances       Size\n"
     ]
    },
    {
     "name": "stderr",
     "output_type": "stream",
     "text": [
      "      48/50     0.231G     0.2166     0.1316     0.8037         12         96: 100%|██████████| 319/319 [00:29<00:00, 1\n",
      "                 Class     Images  Instances      Box(P          R      mAP50  mAP50-95): 100%|██████████| 19/19 [00:02"
     ]
    },
    {
     "name": "stdout",
     "output_type": "stream",
     "text": [
      "                   all        600        600          1          1      0.995      0.993\n"
     ]
    },
    {
     "name": "stderr",
     "output_type": "stream",
     "text": [
      "\n"
     ]
    },
    {
     "name": "stdout",
     "output_type": "stream",
     "text": [
      "\n",
      "      Epoch    GPU_mem   box_loss   cls_loss   dfl_loss  Instances       Size\n"
     ]
    },
    {
     "name": "stderr",
     "output_type": "stream",
     "text": [
      "      49/50     0.231G     0.2143     0.1276     0.8004         12         96: 100%|██████████| 319/319 [00:30<00:00, 1\n",
      "                 Class     Images  Instances      Box(P          R      mAP50  mAP50-95): 100%|██████████| 19/19 [00:02"
     ]
    },
    {
     "name": "stdout",
     "output_type": "stream",
     "text": [
      "                   all        600        600          1          1      0.995      0.992\n"
     ]
    },
    {
     "name": "stderr",
     "output_type": "stream",
     "text": [
      "\n"
     ]
    },
    {
     "name": "stdout",
     "output_type": "stream",
     "text": [
      "\n",
      "      Epoch    GPU_mem   box_loss   cls_loss   dfl_loss  Instances       Size\n"
     ]
    },
    {
     "name": "stderr",
     "output_type": "stream",
     "text": [
      "      50/50     0.231G     0.2105     0.1249     0.8007         12         96: 100%|██████████| 319/319 [00:30<00:00, 1\n",
      "                 Class     Images  Instances      Box(P          R      mAP50  mAP50-95): 100%|██████████| 19/19 [00:02"
     ]
    },
    {
     "name": "stdout",
     "output_type": "stream",
     "text": [
      "                   all        600        600          1          1      0.995      0.991\n"
     ]
    },
    {
     "name": "stderr",
     "output_type": "stream",
     "text": [
      "\n"
     ]
    },
    {
     "name": "stdout",
     "output_type": "stream",
     "text": [
      "\n",
      "50 epochs completed in 0.512 hours.\n",
      "Optimizer stripped from runs\\detect\\train\\weights\\last.pt, 6.2MB\n",
      "Optimizer stripped from runs\\detect\\train\\weights\\best.pt, 6.2MB\n",
      "\n",
      "Validating runs\\detect\\train\\weights\\best.pt...\n",
      "Ultralytics YOLOv8.1.42  Python-3.9.18 torch-2.1.2 CUDA:0 (NVIDIA GeForce GTX 1050 Ti, 4096MiB)\n",
      "Model summary (fused): 168 layers, 3005843 parameters, 0 gradients, 8.1 GFLOPs\n"
     ]
    },
    {
     "name": "stderr",
     "output_type": "stream",
     "text": [
      "                 Class     Images  Instances      Box(P          R      mAP50  mAP50-95): 100%|██████████| 19/19 [00:03\n"
     ]
    },
    {
     "name": "stdout",
     "output_type": "stream",
     "text": [
      "                   all        600        600          1          1      0.995      0.993\n",
      "Speed: 0.1ms preprocess, 0.6ms inference, 0.0ms loss, 1.2ms postprocess per image\n",
      "Results saved to \u001b[1mruns\\detect\\train\u001b[0m\n"
     ]
    },
    {
     "data": {
      "text/html": [
       "<style>\n",
       "    table.wandb td:nth-child(1) { padding: 0 10px; text-align: left ; width: auto;} td:nth-child(2) {text-align: left ; width: 100%}\n",
       "    .wandb-row { display: flex; flex-direction: row; flex-wrap: wrap; justify-content: flex-start; width: 100% }\n",
       "    .wandb-col { display: flex; flex-direction: column; flex-basis: 100%; flex: 1; padding: 10px; }\n",
       "    </style>\n",
       "<div class=\"wandb-row\"><div class=\"wandb-col\"><h3>Run history:</h3><br/><table class=\"wandb\"><tr><td>lr/pg0</td><td>▃▆███▇▇▇▇▇▇▆▆▆▆▆▅▅▅▅▅▄▄▄▄▄▄▃▃▃▃▃▂▂▂▂▂▁▁▁</td></tr><tr><td>lr/pg1</td><td>▃▆███▇▇▇▇▇▇▆▆▆▆▆▅▅▅▅▅▄▄▄▄▄▄▃▃▃▃▃▂▂▂▂▂▁▁▁</td></tr><tr><td>lr/pg2</td><td>▃▆███▇▇▇▇▇▇▆▆▆▆▆▅▅▅▅▅▄▄▄▄▄▄▃▃▃▃▃▂▂▂▂▂▁▁▁</td></tr><tr><td>metrics/mAP50(B)</td><td>▁▁▁▁▁▁▁▁▁▁▁▁▁▁▁▁▁▁▁▁▁▁▁▁▁▁▁▁▁▁▁▁▁▁▁▁▁▁▁▁</td></tr><tr><td>metrics/mAP50-95(B)</td><td>▄▃▁▄▃▅▆▇▇▇██▇▇▇█▇██▇████████████████████</td></tr><tr><td>metrics/precision(B)</td><td>██▇█████▇█████████▁█████████████████████</td></tr><tr><td>metrics/recall(B)</td><td>▁▁▁▁▁▁▁▁▁▁▁▁▁▁▁▁▁▁▁▁▁▁▁▁▁▁▁▁▁▁▁▁▁▁▁▁▁▁▁▁</td></tr><tr><td>model/GFLOPs</td><td>▁</td></tr><tr><td>model/parameters</td><td>▁</td></tr><tr><td>model/speed_PyTorch(ms)</td><td>▁</td></tr><tr><td>train/box_loss</td><td>█▅▅▅▄▄▄▄▃▃▃▃▃▃▃▃▃▃▃▃▃▃▃▃▂▂▂▂▂▂▂▂▁▁▁▁▁▁▁▁</td></tr><tr><td>train/cls_loss</td><td>█▃▃▃▃▂▂▂▂▂▂▂▂▂▂▂▂▂▂▂▂▂▂▂▂▂▂▂▂▂▂▂▁▁▁▁▁▁▁▁</td></tr><tr><td>train/dfl_loss</td><td>█▅▅▄▄▄▄▄▄▄▄▄▄▃▄▄▃▃▃▃▃▃▃▃▃▃▃▃▃▃▃▃▁▁▁▁▁▁▁▁</td></tr><tr><td>val/box_loss</td><td>█▇▇▆▆▄▃▄▄▃▃▃▃▃▃▃▃▂▂▃▃▂▂▂▂▂▂▂▂▂▂▂▂▂▂▁▁▁▁▁</td></tr><tr><td>val/cls_loss</td><td>█▇▅▄▄▃▃▃▃▃▃▃▂▃▂▂▂▂▂▂▃▂▂▂▂▂▂▂▂▂▂▂▁▁▂▁▁▁▁▁</td></tr><tr><td>val/dfl_loss</td><td>▅██▆▆▃▃▄▄▃▃▃▃▂▃▂▃▂▂▂▂▂▂▂▂▂▁▂▂▂▂▂▁▁▁▁▁▁▁▁</td></tr></table><br/></div><div class=\"wandb-col\"><h3>Run summary:</h3><br/><table class=\"wandb\"><tr><td>lr/pg0</td><td>6e-05</td></tr><tr><td>lr/pg1</td><td>6e-05</td></tr><tr><td>lr/pg2</td><td>6e-05</td></tr><tr><td>metrics/mAP50(B)</td><td>0.995</td></tr><tr><td>metrics/mAP50-95(B)</td><td>0.99274</td></tr><tr><td>metrics/precision(B)</td><td>0.99991</td></tr><tr><td>metrics/recall(B)</td><td>1.0</td></tr><tr><td>model/GFLOPs</td><td>8.194</td></tr><tr><td>model/parameters</td><td>3011043</td></tr><tr><td>model/speed_PyTorch(ms)</td><td>1.099</td></tr><tr><td>train/box_loss</td><td>0.21049</td></tr><tr><td>train/cls_loss</td><td>0.12491</td></tr><tr><td>train/dfl_loss</td><td>0.80065</td></tr><tr><td>val/box_loss</td><td>0.16862</td></tr><tr><td>val/cls_loss</td><td>0.09718</td></tr><tr><td>val/dfl_loss</td><td>0.8392</td></tr></table><br/></div></div>"
      ],
      "text/plain": [
       "<IPython.core.display.HTML object>"
      ]
     },
     "metadata": {},
     "output_type": "display_data"
    },
    {
     "data": {
      "text/html": [
       " View run <strong style=\"color:#cdcd00\">train</strong> at: <a href='https://wandb.ai/kw_jklee/YOLOv8/runs/38zor6jg' target=\"_blank\">https://wandb.ai/kw_jklee/YOLOv8/runs/38zor6jg</a><br/>Synced 6 W&B file(s), 24 media file(s), 5 artifact file(s) and 0 other file(s)"
      ],
      "text/plain": [
       "<IPython.core.display.HTML object>"
      ]
     },
     "metadata": {},
     "output_type": "display_data"
    },
    {
     "data": {
      "text/html": [
       "Find logs at: <code>.\\wandb\\run-20240405_111457-38zor6jg\\logs</code>"
      ],
      "text/plain": [
       "<IPython.core.display.HTML object>"
      ]
     },
     "metadata": {},
     "output_type": "display_data"
    },
    {
     "data": {
      "text/plain": [
       "ultralytics.utils.metrics.DetMetrics object with attributes:\n",
       "\n",
       "ap_class_index: array([0])\n",
       "box: ultralytics.utils.metrics.Metric object\n",
       "confusion_matrix: <ultralytics.utils.metrics.ConfusionMatrix object at 0x00000172964E7F10>\n",
       "curves: ['Precision-Recall(B)', 'F1-Confidence(B)', 'Precision-Confidence(B)', 'Recall-Confidence(B)']\n",
       "curves_results: [[array([          0,    0.001001,    0.002002,    0.003003,    0.004004,    0.005005,    0.006006,    0.007007,    0.008008,    0.009009,     0.01001,    0.011011,    0.012012,    0.013013,    0.014014,    0.015015,    0.016016,    0.017017,    0.018018,    0.019019,     0.02002,    0.021021,    0.022022,    0.023023,\n",
       "          0.024024,    0.025025,    0.026026,    0.027027,    0.028028,    0.029029,     0.03003,    0.031031,    0.032032,    0.033033,    0.034034,    0.035035,    0.036036,    0.037037,    0.038038,    0.039039,     0.04004,    0.041041,    0.042042,    0.043043,    0.044044,    0.045045,    0.046046,    0.047047,\n",
       "          0.048048,    0.049049,     0.05005,    0.051051,    0.052052,    0.053053,    0.054054,    0.055055,    0.056056,    0.057057,    0.058058,    0.059059,     0.06006,    0.061061,    0.062062,    0.063063,    0.064064,    0.065065,    0.066066,    0.067067,    0.068068,    0.069069,     0.07007,    0.071071,\n",
       "          0.072072,    0.073073,    0.074074,    0.075075,    0.076076,    0.077077,    0.078078,    0.079079,     0.08008,    0.081081,    0.082082,    0.083083,    0.084084,    0.085085,    0.086086,    0.087087,    0.088088,    0.089089,     0.09009,    0.091091,    0.092092,    0.093093,    0.094094,    0.095095,\n",
       "          0.096096,    0.097097,    0.098098,    0.099099,      0.1001,      0.1011,      0.1021,      0.1031,      0.1041,     0.10511,     0.10611,     0.10711,     0.10811,     0.10911,     0.11011,     0.11111,     0.11211,     0.11311,     0.11411,     0.11512,     0.11612,     0.11712,     0.11812,     0.11912,\n",
       "           0.12012,     0.12112,     0.12212,     0.12312,     0.12412,     0.12513,     0.12613,     0.12713,     0.12813,     0.12913,     0.13013,     0.13113,     0.13213,     0.13313,     0.13413,     0.13514,     0.13614,     0.13714,     0.13814,     0.13914,     0.14014,     0.14114,     0.14214,     0.14314,\n",
       "           0.14414,     0.14515,     0.14615,     0.14715,     0.14815,     0.14915,     0.15015,     0.15115,     0.15215,     0.15315,     0.15415,     0.15516,     0.15616,     0.15716,     0.15816,     0.15916,     0.16016,     0.16116,     0.16216,     0.16316,     0.16416,     0.16517,     0.16617,     0.16717,\n",
       "           0.16817,     0.16917,     0.17017,     0.17117,     0.17217,     0.17317,     0.17417,     0.17518,     0.17618,     0.17718,     0.17818,     0.17918,     0.18018,     0.18118,     0.18218,     0.18318,     0.18418,     0.18519,     0.18619,     0.18719,     0.18819,     0.18919,     0.19019,     0.19119,\n",
       "           0.19219,     0.19319,     0.19419,      0.1952,      0.1962,      0.1972,      0.1982,      0.1992,      0.2002,      0.2012,      0.2022,      0.2032,      0.2042,     0.20521,     0.20621,     0.20721,     0.20821,     0.20921,     0.21021,     0.21121,     0.21221,     0.21321,     0.21421,     0.21522,\n",
       "           0.21622,     0.21722,     0.21822,     0.21922,     0.22022,     0.22122,     0.22222,     0.22322,     0.22422,     0.22523,     0.22623,     0.22723,     0.22823,     0.22923,     0.23023,     0.23123,     0.23223,     0.23323,     0.23423,     0.23524,     0.23624,     0.23724,     0.23824,     0.23924,\n",
       "           0.24024,     0.24124,     0.24224,     0.24324,     0.24424,     0.24525,     0.24625,     0.24725,     0.24825,     0.24925,     0.25025,     0.25125,     0.25225,     0.25325,     0.25425,     0.25526,     0.25626,     0.25726,     0.25826,     0.25926,     0.26026,     0.26126,     0.26226,     0.26326,\n",
       "           0.26426,     0.26527,     0.26627,     0.26727,     0.26827,     0.26927,     0.27027,     0.27127,     0.27227,     0.27327,     0.27427,     0.27528,     0.27628,     0.27728,     0.27828,     0.27928,     0.28028,     0.28128,     0.28228,     0.28328,     0.28428,     0.28529,     0.28629,     0.28729,\n",
       "           0.28829,     0.28929,     0.29029,     0.29129,     0.29229,     0.29329,     0.29429,      0.2953,      0.2963,      0.2973,      0.2983,      0.2993,      0.3003,      0.3013,      0.3023,      0.3033,      0.3043,     0.30531,     0.30631,     0.30731,     0.30831,     0.30931,     0.31031,     0.31131,\n",
       "           0.31231,     0.31331,     0.31431,     0.31532,     0.31632,     0.31732,     0.31832,     0.31932,     0.32032,     0.32132,     0.32232,     0.32332,     0.32432,     0.32533,     0.32633,     0.32733,     0.32833,     0.32933,     0.33033,     0.33133,     0.33233,     0.33333,     0.33433,     0.33534,\n",
       "           0.33634,     0.33734,     0.33834,     0.33934,     0.34034,     0.34134,     0.34234,     0.34334,     0.34434,     0.34535,     0.34635,     0.34735,     0.34835,     0.34935,     0.35035,     0.35135,     0.35235,     0.35335,     0.35435,     0.35536,     0.35636,     0.35736,     0.35836,     0.35936,\n",
       "           0.36036,     0.36136,     0.36236,     0.36336,     0.36436,     0.36537,     0.36637,     0.36737,     0.36837,     0.36937,     0.37037,     0.37137,     0.37237,     0.37337,     0.37437,     0.37538,     0.37638,     0.37738,     0.37838,     0.37938,     0.38038,     0.38138,     0.38238,     0.38338,\n",
       "           0.38438,     0.38539,     0.38639,     0.38739,     0.38839,     0.38939,     0.39039,     0.39139,     0.39239,     0.39339,     0.39439,      0.3954,      0.3964,      0.3974,      0.3984,      0.3994,      0.4004,      0.4014,      0.4024,      0.4034,      0.4044,     0.40541,     0.40641,     0.40741,\n",
       "           0.40841,     0.40941,     0.41041,     0.41141,     0.41241,     0.41341,     0.41441,     0.41542,     0.41642,     0.41742,     0.41842,     0.41942,     0.42042,     0.42142,     0.42242,     0.42342,     0.42442,     0.42543,     0.42643,     0.42743,     0.42843,     0.42943,     0.43043,     0.43143,\n",
       "           0.43243,     0.43343,     0.43443,     0.43544,     0.43644,     0.43744,     0.43844,     0.43944,     0.44044,     0.44144,     0.44244,     0.44344,     0.44444,     0.44545,     0.44645,     0.44745,     0.44845,     0.44945,     0.45045,     0.45145,     0.45245,     0.45345,     0.45445,     0.45546,\n",
       "           0.45646,     0.45746,     0.45846,     0.45946,     0.46046,     0.46146,     0.46246,     0.46346,     0.46446,     0.46547,     0.46647,     0.46747,     0.46847,     0.46947,     0.47047,     0.47147,     0.47247,     0.47347,     0.47447,     0.47548,     0.47648,     0.47748,     0.47848,     0.47948,\n",
       "           0.48048,     0.48148,     0.48248,     0.48348,     0.48448,     0.48549,     0.48649,     0.48749,     0.48849,     0.48949,     0.49049,     0.49149,     0.49249,     0.49349,     0.49449,      0.4955,      0.4965,      0.4975,      0.4985,      0.4995,      0.5005,      0.5015,      0.5025,      0.5035,\n",
       "            0.5045,     0.50551,     0.50651,     0.50751,     0.50851,     0.50951,     0.51051,     0.51151,     0.51251,     0.51351,     0.51451,     0.51552,     0.51652,     0.51752,     0.51852,     0.51952,     0.52052,     0.52152,     0.52252,     0.52352,     0.52452,     0.52553,     0.52653,     0.52753,\n",
       "           0.52853,     0.52953,     0.53053,     0.53153,     0.53253,     0.53353,     0.53453,     0.53554,     0.53654,     0.53754,     0.53854,     0.53954,     0.54054,     0.54154,     0.54254,     0.54354,     0.54454,     0.54555,     0.54655,     0.54755,     0.54855,     0.54955,     0.55055,     0.55155,\n",
       "           0.55255,     0.55355,     0.55455,     0.55556,     0.55656,     0.55756,     0.55856,     0.55956,     0.56056,     0.56156,     0.56256,     0.56356,     0.56456,     0.56557,     0.56657,     0.56757,     0.56857,     0.56957,     0.57057,     0.57157,     0.57257,     0.57357,     0.57457,     0.57558,\n",
       "           0.57658,     0.57758,     0.57858,     0.57958,     0.58058,     0.58158,     0.58258,     0.58358,     0.58458,     0.58559,     0.58659,     0.58759,     0.58859,     0.58959,     0.59059,     0.59159,     0.59259,     0.59359,     0.59459,      0.5956,      0.5966,      0.5976,      0.5986,      0.5996,\n",
       "            0.6006,      0.6016,      0.6026,      0.6036,      0.6046,     0.60561,     0.60661,     0.60761,     0.60861,     0.60961,     0.61061,     0.61161,     0.61261,     0.61361,     0.61461,     0.61562,     0.61662,     0.61762,     0.61862,     0.61962,     0.62062,     0.62162,     0.62262,     0.62362,\n",
       "           0.62462,     0.62563,     0.62663,     0.62763,     0.62863,     0.62963,     0.63063,     0.63163,     0.63263,     0.63363,     0.63463,     0.63564,     0.63664,     0.63764,     0.63864,     0.63964,     0.64064,     0.64164,     0.64264,     0.64364,     0.64464,     0.64565,     0.64665,     0.64765,\n",
       "           0.64865,     0.64965,     0.65065,     0.65165,     0.65265,     0.65365,     0.65465,     0.65566,     0.65666,     0.65766,     0.65866,     0.65966,     0.66066,     0.66166,     0.66266,     0.66366,     0.66466,     0.66567,     0.66667,     0.66767,     0.66867,     0.66967,     0.67067,     0.67167,\n",
       "           0.67267,     0.67367,     0.67467,     0.67568,     0.67668,     0.67768,     0.67868,     0.67968,     0.68068,     0.68168,     0.68268,     0.68368,     0.68468,     0.68569,     0.68669,     0.68769,     0.68869,     0.68969,     0.69069,     0.69169,     0.69269,     0.69369,     0.69469,      0.6957,\n",
       "            0.6967,      0.6977,      0.6987,      0.6997,      0.7007,      0.7017,      0.7027,      0.7037,      0.7047,     0.70571,     0.70671,     0.70771,     0.70871,     0.70971,     0.71071,     0.71171,     0.71271,     0.71371,     0.71471,     0.71572,     0.71672,     0.71772,     0.71872,     0.71972,\n",
       "           0.72072,     0.72172,     0.72272,     0.72372,     0.72472,     0.72573,     0.72673,     0.72773,     0.72873,     0.72973,     0.73073,     0.73173,     0.73273,     0.73373,     0.73473,     0.73574,     0.73674,     0.73774,     0.73874,     0.73974,     0.74074,     0.74174,     0.74274,     0.74374,\n",
       "           0.74474,     0.74575,     0.74675,     0.74775,     0.74875,     0.74975,     0.75075,     0.75175,     0.75275,     0.75375,     0.75475,     0.75576,     0.75676,     0.75776,     0.75876,     0.75976,     0.76076,     0.76176,     0.76276,     0.76376,     0.76476,     0.76577,     0.76677,     0.76777,\n",
       "           0.76877,     0.76977,     0.77077,     0.77177,     0.77277,     0.77377,     0.77477,     0.77578,     0.77678,     0.77778,     0.77878,     0.77978,     0.78078,     0.78178,     0.78278,     0.78378,     0.78478,     0.78579,     0.78679,     0.78779,     0.78879,     0.78979,     0.79079,     0.79179,\n",
       "           0.79279,     0.79379,     0.79479,      0.7958,      0.7968,      0.7978,      0.7988,      0.7998,      0.8008,      0.8018,      0.8028,      0.8038,      0.8048,     0.80581,     0.80681,     0.80781,     0.80881,     0.80981,     0.81081,     0.81181,     0.81281,     0.81381,     0.81481,     0.81582,\n",
       "           0.81682,     0.81782,     0.81882,     0.81982,     0.82082,     0.82182,     0.82282,     0.82382,     0.82482,     0.82583,     0.82683,     0.82783,     0.82883,     0.82983,     0.83083,     0.83183,     0.83283,     0.83383,     0.83483,     0.83584,     0.83684,     0.83784,     0.83884,     0.83984,\n",
       "           0.84084,     0.84184,     0.84284,     0.84384,     0.84484,     0.84585,     0.84685,     0.84785,     0.84885,     0.84985,     0.85085,     0.85185,     0.85285,     0.85385,     0.85485,     0.85586,     0.85686,     0.85786,     0.85886,     0.85986,     0.86086,     0.86186,     0.86286,     0.86386,\n",
       "           0.86486,     0.86587,     0.86687,     0.86787,     0.86887,     0.86987,     0.87087,     0.87187,     0.87287,     0.87387,     0.87487,     0.87588,     0.87688,     0.87788,     0.87888,     0.87988,     0.88088,     0.88188,     0.88288,     0.88388,     0.88488,     0.88589,     0.88689,     0.88789,\n",
       "           0.88889,     0.88989,     0.89089,     0.89189,     0.89289,     0.89389,     0.89489,      0.8959,      0.8969,      0.8979,      0.8989,      0.8999,      0.9009,      0.9019,      0.9029,      0.9039,      0.9049,     0.90591,     0.90691,     0.90791,     0.90891,     0.90991,     0.91091,     0.91191,\n",
       "           0.91291,     0.91391,     0.91491,     0.91592,     0.91692,     0.91792,     0.91892,     0.91992,     0.92092,     0.92192,     0.92292,     0.92392,     0.92492,     0.92593,     0.92693,     0.92793,     0.92893,     0.92993,     0.93093,     0.93193,     0.93293,     0.93393,     0.93493,     0.93594,\n",
       "           0.93694,     0.93794,     0.93894,     0.93994,     0.94094,     0.94194,     0.94294,     0.94394,     0.94494,     0.94595,     0.94695,     0.94795,     0.94895,     0.94995,     0.95095,     0.95195,     0.95295,     0.95395,     0.95495,     0.95596,     0.95696,     0.95796,     0.95896,     0.95996,\n",
       "           0.96096,     0.96196,     0.96296,     0.96396,     0.96496,     0.96597,     0.96697,     0.96797,     0.96897,     0.96997,     0.97097,     0.97197,     0.97297,     0.97397,     0.97497,     0.97598,     0.97698,     0.97798,     0.97898,     0.97998,     0.98098,     0.98198,     0.98298,     0.98398,\n",
       "           0.98498,     0.98599,     0.98699,     0.98799,     0.98899,     0.98999,     0.99099,     0.99199,     0.99299,     0.99399,     0.99499,       0.996,       0.997,       0.998,       0.999,           1]), array([[          1,           1,           1,           1,           1,           1,           1,           1,           1,           1,           1,           1,           1,           1,           1,           1,           1,           1,           1,           1,           1,           1,           1,\n",
       "                  1,           1,           1,           1,           1,           1,           1,           1,           1,           1,           1,           1,           1,           1,           1,           1,           1,           1,           1,           1,           1,           1,           1,\n",
       "                  1,           1,           1,           1,           1,           1,           1,           1,           1,           1,           1,           1,           1,           1,           1,           1,           1,           1,           1,           1,           1,           1,           1,\n",
       "                  1,           1,           1,           1,           1,           1,           1,           1,           1,           1,           1,           1,           1,           1,           1,           1,           1,           1,           1,           1,           1,           1,           1,\n",
       "                  1,           1,           1,           1,           1,           1,           1,           1,           1,           1,           1,           1,           1,           1,           1,           1,           1,           1,           1,           1,           1,           1,           1,\n",
       "                  1,           1,           1,           1,           1,           1,           1,           1,           1,           1,           1,           1,           1,           1,           1,           1,           1,           1,           1,           1,           1,           1,           1,\n",
       "                  1,           1,           1,           1,           1,           1,           1,           1,           1,           1,           1,           1,           1,           1,           1,           1,           1,           1,           1,           1,           1,           1,           1,\n",
       "                  1,           1,           1,           1,           1,           1,           1,           1,           1,           1,           1,           1,           1,           1,           1,           1,           1,           1,           1,           1,           1,           1,           1,\n",
       "                  1,           1,           1,           1,           1,           1,           1,           1,           1,           1,           1,           1,           1,           1,           1,           1,           1,           1,           1,           1,           1,           1,           1,\n",
       "                  1,           1,           1,           1,           1,           1,           1,           1,           1,           1,           1,           1,           1,           1,           1,           1,           1,           1,           1,           1,           1,           1,           1,\n",
       "                  1,           1,           1,           1,           1,           1,           1,           1,           1,           1,           1,           1,           1,           1,           1,           1,           1,           1,           1,           1,           1,           1,           1,\n",
       "                  1,           1,           1,           1,           1,           1,           1,           1,           1,           1,           1,           1,           1,           1,           1,           1,           1,           1,           1,           1,           1,           1,           1,\n",
       "                  1,           1,           1,           1,           1,           1,           1,           1,           1,           1,           1,           1,           1,           1,           1,           1,           1,           1,           1,           1,           1,           1,           1,\n",
       "                  1,           1,           1,           1,           1,           1,           1,           1,           1,           1,           1,           1,           1,           1,           1,           1,           1,           1,           1,           1,           1,           1,           1,\n",
       "                  1,           1,           1,           1,           1,           1,           1,           1,           1,           1,           1,           1,           1,           1,           1,           1,           1,           1,           1,           1,           1,           1,           1,\n",
       "                  1,           1,           1,           1,           1,           1,           1,           1,           1,           1,           1,           1,           1,           1,           1,           1,           1,           1,           1,           1,           1,           1,           1,\n",
       "                  1,           1,           1,           1,           1,           1,           1,           1,           1,           1,           1,           1,           1,           1,           1,           1,           1,           1,           1,           1,           1,           1,           1,\n",
       "                  1,           1,           1,           1,           1,           1,           1,           1,           1,           1,           1,           1,           1,           1,           1,           1,           1,           1,           1,           1,           1,           1,           1,\n",
       "                  1,           1,           1,           1,           1,           1,           1,           1,           1,           1,           1,           1,           1,           1,           1,           1,           1,           1,           1,           1,           1,           1,           1,\n",
       "                  1,           1,           1,           1,           1,           1,           1,           1,           1,           1,           1,           1,           1,           1,           1,           1,           1,           1,           1,           1,           1,           1,           1,\n",
       "                  1,           1,           1,           1,           1,           1,           1,           1,           1,           1,           1,           1,           1,           1,           1,           1,           1,           1,           1,           1,           1,           1,           1,\n",
       "                  1,           1,           1,           1,           1,           1,           1,           1,           1,           1,           1,           1,           1,           1,           1,           1,           1,           1,           1,           1,           1,           1,           1,\n",
       "                  1,           1,           1,           1,           1,           1,           1,           1,           1,           1,           1,           1,           1,           1,           1,           1,           1,           1,           1,           1,           1,           1,           1,\n",
       "                  1,           1,           1,           1,           1,           1,           1,           1,           1,           1,           1,           1,           1,           1,           1,           1,           1,           1,           1,           1,           1,           1,           1,\n",
       "                  1,           1,           1,           1,           1,           1,           1,           1,           1,           1,           1,           1,           1,           1,           1,           1,           1,           1,           1,           1,           1,           1,           1,\n",
       "                  1,           1,           1,           1,           1,           1,           1,           1,           1,           1,           1,           1,           1,           1,           1,           1,           1,           1,           1,           1,           1,           1,           1,\n",
       "                  1,           1,           1,           1,           1,           1,           1,           1,           1,           1,           1,           1,           1,           1,           1,           1,           1,           1,           1,           1,           1,           1,           1,\n",
       "                  1,           1,           1,           1,           1,           1,           1,           1,           1,           1,           1,           1,           1,           1,           1,           1,           1,           1,           1,           1,           1,           1,           1,\n",
       "                  1,           1,           1,           1,           1,           1,           1,           1,           1,           1,           1,           1,           1,           1,           1,           1,           1,           1,           1,           1,           1,           1,           1,\n",
       "                  1,           1,           1,           1,           1,           1,           1,           1,           1,           1,           1,           1,           1,           1,           1,           1,           1,           1,           1,           1,           1,           1,           1,\n",
       "                  1,           1,           1,           1,           1,           1,           1,           1,           1,           1,           1,           1,           1,           1,           1,           1,           1,           1,           1,           1,           1,           1,           1,\n",
       "                  1,           1,           1,           1,           1,           1,           1,           1,           1,           1,           1,           1,           1,           1,           1,           1,           1,           1,           1,           1,           1,           1,           1,\n",
       "                  1,           1,           1,           1,           1,           1,           1,           1,           1,           1,           1,           1,           1,           1,           1,           1,           1,           1,           1,           1,           1,           1,           1,\n",
       "                  1,           1,           1,           1,           1,           1,           1,           1,           1,           1,           1,           1,           1,           1,           1,           1,           1,           1,           1,           1,           1,           1,           1,\n",
       "                  1,           1,           1,           1,           1,           1,           1,           1,           1,           1,           1,           1,           1,           1,           1,           1,           1,           1,           1,           1,           1,           1,           1,\n",
       "                  1,           1,           1,           1,           1,           1,           1,           1,           1,           1,           1,           1,           1,           1,           1,           1,           1,           1,           1,           1,           1,           1,           1,\n",
       "                  1,           1,           1,           1,           1,           1,           1,           1,           1,           1,           1,           1,           1,           1,           1,           1,           1,           1,           1,           1,           1,           1,           1,\n",
       "                  1,           1,           1,           1,           1,           1,           1,           1,           1,           1,           1,           1,           1,           1,           1,           1,           1,           1,           1,           1,           1,           1,           1,\n",
       "                  1,           1,           1,           1,           1,           1,           1,           1,           1,           1,           1,           1,           1,           1,           1,           1,           1,           1,           1,           1,           1,           1,           1,\n",
       "                  1,           1,           1,           1,           1,           1,           1,           1,           1,           1,           1,           1,           1,           1,           1,           1,           1,           1,           1,           1,           1,           1,           1,\n",
       "                  1,           1,           1,           1,           1,           1,           1,           1,           1,           1,           1,           1,           1,           1,           1,           1,           1,           1,           1,           1,           1,           1,           1,\n",
       "                  1,           1,           1,           1,           1,           1,           1,           1,           1,           1,           1,           1,           1,           1,           1,           1,           1,           1,           1,           1,           1,           1,           1,\n",
       "                  1,           1,           1,           1,           1,           1,           1,           1,           1,           1,           1,           1,           1,           1,           1,           1,           1,           1,           1,           1,           1,           1,           1,\n",
       "                  1,           1,           1,           1,           1,           1,           1,           1,           1,           1,           0]]), 'Recall', 'Precision'], [array([          0,    0.001001,    0.002002,    0.003003,    0.004004,    0.005005,    0.006006,    0.007007,    0.008008,    0.009009,     0.01001,    0.011011,    0.012012,    0.013013,    0.014014,    0.015015,    0.016016,    0.017017,    0.018018,    0.019019,     0.02002,    0.021021,    0.022022,    0.023023,\n",
       "          0.024024,    0.025025,    0.026026,    0.027027,    0.028028,    0.029029,     0.03003,    0.031031,    0.032032,    0.033033,    0.034034,    0.035035,    0.036036,    0.037037,    0.038038,    0.039039,     0.04004,    0.041041,    0.042042,    0.043043,    0.044044,    0.045045,    0.046046,    0.047047,\n",
       "          0.048048,    0.049049,     0.05005,    0.051051,    0.052052,    0.053053,    0.054054,    0.055055,    0.056056,    0.057057,    0.058058,    0.059059,     0.06006,    0.061061,    0.062062,    0.063063,    0.064064,    0.065065,    0.066066,    0.067067,    0.068068,    0.069069,     0.07007,    0.071071,\n",
       "          0.072072,    0.073073,    0.074074,    0.075075,    0.076076,    0.077077,    0.078078,    0.079079,     0.08008,    0.081081,    0.082082,    0.083083,    0.084084,    0.085085,    0.086086,    0.087087,    0.088088,    0.089089,     0.09009,    0.091091,    0.092092,    0.093093,    0.094094,    0.095095,\n",
       "          0.096096,    0.097097,    0.098098,    0.099099,      0.1001,      0.1011,      0.1021,      0.1031,      0.1041,     0.10511,     0.10611,     0.10711,     0.10811,     0.10911,     0.11011,     0.11111,     0.11211,     0.11311,     0.11411,     0.11512,     0.11612,     0.11712,     0.11812,     0.11912,\n",
       "           0.12012,     0.12112,     0.12212,     0.12312,     0.12412,     0.12513,     0.12613,     0.12713,     0.12813,     0.12913,     0.13013,     0.13113,     0.13213,     0.13313,     0.13413,     0.13514,     0.13614,     0.13714,     0.13814,     0.13914,     0.14014,     0.14114,     0.14214,     0.14314,\n",
       "           0.14414,     0.14515,     0.14615,     0.14715,     0.14815,     0.14915,     0.15015,     0.15115,     0.15215,     0.15315,     0.15415,     0.15516,     0.15616,     0.15716,     0.15816,     0.15916,     0.16016,     0.16116,     0.16216,     0.16316,     0.16416,     0.16517,     0.16617,     0.16717,\n",
       "           0.16817,     0.16917,     0.17017,     0.17117,     0.17217,     0.17317,     0.17417,     0.17518,     0.17618,     0.17718,     0.17818,     0.17918,     0.18018,     0.18118,     0.18218,     0.18318,     0.18418,     0.18519,     0.18619,     0.18719,     0.18819,     0.18919,     0.19019,     0.19119,\n",
       "           0.19219,     0.19319,     0.19419,      0.1952,      0.1962,      0.1972,      0.1982,      0.1992,      0.2002,      0.2012,      0.2022,      0.2032,      0.2042,     0.20521,     0.20621,     0.20721,     0.20821,     0.20921,     0.21021,     0.21121,     0.21221,     0.21321,     0.21421,     0.21522,\n",
       "           0.21622,     0.21722,     0.21822,     0.21922,     0.22022,     0.22122,     0.22222,     0.22322,     0.22422,     0.22523,     0.22623,     0.22723,     0.22823,     0.22923,     0.23023,     0.23123,     0.23223,     0.23323,     0.23423,     0.23524,     0.23624,     0.23724,     0.23824,     0.23924,\n",
       "           0.24024,     0.24124,     0.24224,     0.24324,     0.24424,     0.24525,     0.24625,     0.24725,     0.24825,     0.24925,     0.25025,     0.25125,     0.25225,     0.25325,     0.25425,     0.25526,     0.25626,     0.25726,     0.25826,     0.25926,     0.26026,     0.26126,     0.26226,     0.26326,\n",
       "           0.26426,     0.26527,     0.26627,     0.26727,     0.26827,     0.26927,     0.27027,     0.27127,     0.27227,     0.27327,     0.27427,     0.27528,     0.27628,     0.27728,     0.27828,     0.27928,     0.28028,     0.28128,     0.28228,     0.28328,     0.28428,     0.28529,     0.28629,     0.28729,\n",
       "           0.28829,     0.28929,     0.29029,     0.29129,     0.29229,     0.29329,     0.29429,      0.2953,      0.2963,      0.2973,      0.2983,      0.2993,      0.3003,      0.3013,      0.3023,      0.3033,      0.3043,     0.30531,     0.30631,     0.30731,     0.30831,     0.30931,     0.31031,     0.31131,\n",
       "           0.31231,     0.31331,     0.31431,     0.31532,     0.31632,     0.31732,     0.31832,     0.31932,     0.32032,     0.32132,     0.32232,     0.32332,     0.32432,     0.32533,     0.32633,     0.32733,     0.32833,     0.32933,     0.33033,     0.33133,     0.33233,     0.33333,     0.33433,     0.33534,\n",
       "           0.33634,     0.33734,     0.33834,     0.33934,     0.34034,     0.34134,     0.34234,     0.34334,     0.34434,     0.34535,     0.34635,     0.34735,     0.34835,     0.34935,     0.35035,     0.35135,     0.35235,     0.35335,     0.35435,     0.35536,     0.35636,     0.35736,     0.35836,     0.35936,\n",
       "           0.36036,     0.36136,     0.36236,     0.36336,     0.36436,     0.36537,     0.36637,     0.36737,     0.36837,     0.36937,     0.37037,     0.37137,     0.37237,     0.37337,     0.37437,     0.37538,     0.37638,     0.37738,     0.37838,     0.37938,     0.38038,     0.38138,     0.38238,     0.38338,\n",
       "           0.38438,     0.38539,     0.38639,     0.38739,     0.38839,     0.38939,     0.39039,     0.39139,     0.39239,     0.39339,     0.39439,      0.3954,      0.3964,      0.3974,      0.3984,      0.3994,      0.4004,      0.4014,      0.4024,      0.4034,      0.4044,     0.40541,     0.40641,     0.40741,\n",
       "           0.40841,     0.40941,     0.41041,     0.41141,     0.41241,     0.41341,     0.41441,     0.41542,     0.41642,     0.41742,     0.41842,     0.41942,     0.42042,     0.42142,     0.42242,     0.42342,     0.42442,     0.42543,     0.42643,     0.42743,     0.42843,     0.42943,     0.43043,     0.43143,\n",
       "           0.43243,     0.43343,     0.43443,     0.43544,     0.43644,     0.43744,     0.43844,     0.43944,     0.44044,     0.44144,     0.44244,     0.44344,     0.44444,     0.44545,     0.44645,     0.44745,     0.44845,     0.44945,     0.45045,     0.45145,     0.45245,     0.45345,     0.45445,     0.45546,\n",
       "           0.45646,     0.45746,     0.45846,     0.45946,     0.46046,     0.46146,     0.46246,     0.46346,     0.46446,     0.46547,     0.46647,     0.46747,     0.46847,     0.46947,     0.47047,     0.47147,     0.47247,     0.47347,     0.47447,     0.47548,     0.47648,     0.47748,     0.47848,     0.47948,\n",
       "           0.48048,     0.48148,     0.48248,     0.48348,     0.48448,     0.48549,     0.48649,     0.48749,     0.48849,     0.48949,     0.49049,     0.49149,     0.49249,     0.49349,     0.49449,      0.4955,      0.4965,      0.4975,      0.4985,      0.4995,      0.5005,      0.5015,      0.5025,      0.5035,\n",
       "            0.5045,     0.50551,     0.50651,     0.50751,     0.50851,     0.50951,     0.51051,     0.51151,     0.51251,     0.51351,     0.51451,     0.51552,     0.51652,     0.51752,     0.51852,     0.51952,     0.52052,     0.52152,     0.52252,     0.52352,     0.52452,     0.52553,     0.52653,     0.52753,\n",
       "           0.52853,     0.52953,     0.53053,     0.53153,     0.53253,     0.53353,     0.53453,     0.53554,     0.53654,     0.53754,     0.53854,     0.53954,     0.54054,     0.54154,     0.54254,     0.54354,     0.54454,     0.54555,     0.54655,     0.54755,     0.54855,     0.54955,     0.55055,     0.55155,\n",
       "           0.55255,     0.55355,     0.55455,     0.55556,     0.55656,     0.55756,     0.55856,     0.55956,     0.56056,     0.56156,     0.56256,     0.56356,     0.56456,     0.56557,     0.56657,     0.56757,     0.56857,     0.56957,     0.57057,     0.57157,     0.57257,     0.57357,     0.57457,     0.57558,\n",
       "           0.57658,     0.57758,     0.57858,     0.57958,     0.58058,     0.58158,     0.58258,     0.58358,     0.58458,     0.58559,     0.58659,     0.58759,     0.58859,     0.58959,     0.59059,     0.59159,     0.59259,     0.59359,     0.59459,      0.5956,      0.5966,      0.5976,      0.5986,      0.5996,\n",
       "            0.6006,      0.6016,      0.6026,      0.6036,      0.6046,     0.60561,     0.60661,     0.60761,     0.60861,     0.60961,     0.61061,     0.61161,     0.61261,     0.61361,     0.61461,     0.61562,     0.61662,     0.61762,     0.61862,     0.61962,     0.62062,     0.62162,     0.62262,     0.62362,\n",
       "           0.62462,     0.62563,     0.62663,     0.62763,     0.62863,     0.62963,     0.63063,     0.63163,     0.63263,     0.63363,     0.63463,     0.63564,     0.63664,     0.63764,     0.63864,     0.63964,     0.64064,     0.64164,     0.64264,     0.64364,     0.64464,     0.64565,     0.64665,     0.64765,\n",
       "           0.64865,     0.64965,     0.65065,     0.65165,     0.65265,     0.65365,     0.65465,     0.65566,     0.65666,     0.65766,     0.65866,     0.65966,     0.66066,     0.66166,     0.66266,     0.66366,     0.66466,     0.66567,     0.66667,     0.66767,     0.66867,     0.66967,     0.67067,     0.67167,\n",
       "           0.67267,     0.67367,     0.67467,     0.67568,     0.67668,     0.67768,     0.67868,     0.67968,     0.68068,     0.68168,     0.68268,     0.68368,     0.68468,     0.68569,     0.68669,     0.68769,     0.68869,     0.68969,     0.69069,     0.69169,     0.69269,     0.69369,     0.69469,      0.6957,\n",
       "            0.6967,      0.6977,      0.6987,      0.6997,      0.7007,      0.7017,      0.7027,      0.7037,      0.7047,     0.70571,     0.70671,     0.70771,     0.70871,     0.70971,     0.71071,     0.71171,     0.71271,     0.71371,     0.71471,     0.71572,     0.71672,     0.71772,     0.71872,     0.71972,\n",
       "           0.72072,     0.72172,     0.72272,     0.72372,     0.72472,     0.72573,     0.72673,     0.72773,     0.72873,     0.72973,     0.73073,     0.73173,     0.73273,     0.73373,     0.73473,     0.73574,     0.73674,     0.73774,     0.73874,     0.73974,     0.74074,     0.74174,     0.74274,     0.74374,\n",
       "           0.74474,     0.74575,     0.74675,     0.74775,     0.74875,     0.74975,     0.75075,     0.75175,     0.75275,     0.75375,     0.75475,     0.75576,     0.75676,     0.75776,     0.75876,     0.75976,     0.76076,     0.76176,     0.76276,     0.76376,     0.76476,     0.76577,     0.76677,     0.76777,\n",
       "           0.76877,     0.76977,     0.77077,     0.77177,     0.77277,     0.77377,     0.77477,     0.77578,     0.77678,     0.77778,     0.77878,     0.77978,     0.78078,     0.78178,     0.78278,     0.78378,     0.78478,     0.78579,     0.78679,     0.78779,     0.78879,     0.78979,     0.79079,     0.79179,\n",
       "           0.79279,     0.79379,     0.79479,      0.7958,      0.7968,      0.7978,      0.7988,      0.7998,      0.8008,      0.8018,      0.8028,      0.8038,      0.8048,     0.80581,     0.80681,     0.80781,     0.80881,     0.80981,     0.81081,     0.81181,     0.81281,     0.81381,     0.81481,     0.81582,\n",
       "           0.81682,     0.81782,     0.81882,     0.81982,     0.82082,     0.82182,     0.82282,     0.82382,     0.82482,     0.82583,     0.82683,     0.82783,     0.82883,     0.82983,     0.83083,     0.83183,     0.83283,     0.83383,     0.83483,     0.83584,     0.83684,     0.83784,     0.83884,     0.83984,\n",
       "           0.84084,     0.84184,     0.84284,     0.84384,     0.84484,     0.84585,     0.84685,     0.84785,     0.84885,     0.84985,     0.85085,     0.85185,     0.85285,     0.85385,     0.85485,     0.85586,     0.85686,     0.85786,     0.85886,     0.85986,     0.86086,     0.86186,     0.86286,     0.86386,\n",
       "           0.86486,     0.86587,     0.86687,     0.86787,     0.86887,     0.86987,     0.87087,     0.87187,     0.87287,     0.87387,     0.87487,     0.87588,     0.87688,     0.87788,     0.87888,     0.87988,     0.88088,     0.88188,     0.88288,     0.88388,     0.88488,     0.88589,     0.88689,     0.88789,\n",
       "           0.88889,     0.88989,     0.89089,     0.89189,     0.89289,     0.89389,     0.89489,      0.8959,      0.8969,      0.8979,      0.8989,      0.8999,      0.9009,      0.9019,      0.9029,      0.9039,      0.9049,     0.90591,     0.90691,     0.90791,     0.90891,     0.90991,     0.91091,     0.91191,\n",
       "           0.91291,     0.91391,     0.91491,     0.91592,     0.91692,     0.91792,     0.91892,     0.91992,     0.92092,     0.92192,     0.92292,     0.92392,     0.92492,     0.92593,     0.92693,     0.92793,     0.92893,     0.92993,     0.93093,     0.93193,     0.93293,     0.93393,     0.93493,     0.93594,\n",
       "           0.93694,     0.93794,     0.93894,     0.93994,     0.94094,     0.94194,     0.94294,     0.94394,     0.94494,     0.94595,     0.94695,     0.94795,     0.94895,     0.94995,     0.95095,     0.95195,     0.95295,     0.95395,     0.95495,     0.95596,     0.95696,     0.95796,     0.95896,     0.95996,\n",
       "           0.96096,     0.96196,     0.96296,     0.96396,     0.96496,     0.96597,     0.96697,     0.96797,     0.96897,     0.96997,     0.97097,     0.97197,     0.97297,     0.97397,     0.97497,     0.97598,     0.97698,     0.97798,     0.97898,     0.97998,     0.98098,     0.98198,     0.98298,     0.98398,\n",
       "           0.98498,     0.98599,     0.98699,     0.98799,     0.98899,     0.98999,     0.99099,     0.99199,     0.99299,     0.99399,     0.99499,       0.996,       0.997,       0.998,       0.999,           1]), array([[    0.99917,     0.99917,     0.99917,     0.99917,     0.99917,     0.99917,     0.99917,     0.99917,     0.99917,     0.99917,     0.99917,     0.99918,     0.99918,     0.99918,     0.99918,     0.99918,     0.99918,     0.99918,     0.99918,     0.99918,     0.99918,     0.99918,     0.99919,\n",
       "            0.99919,     0.99919,     0.99919,     0.99919,     0.99919,     0.99919,     0.99919,     0.99919,     0.99919,     0.99919,     0.99919,      0.9992,      0.9992,      0.9992,      0.9992,      0.9992,      0.9992,      0.9992,      0.9992,      0.9992,      0.9992,      0.9992,     0.99921,\n",
       "            0.99921,     0.99921,     0.99921,     0.99921,     0.99921,     0.99921,     0.99921,     0.99921,     0.99921,     0.99921,     0.99922,     0.99922,     0.99922,     0.99922,     0.99922,     0.99922,     0.99922,     0.99922,     0.99922,     0.99922,     0.99922,     0.99922,     0.99923,\n",
       "            0.99923,     0.99923,     0.99923,     0.99923,     0.99923,     0.99923,     0.99923,     0.99923,     0.99923,     0.99923,     0.99924,     0.99924,     0.99924,     0.99924,     0.99924,     0.99924,     0.99924,     0.99924,     0.99924,     0.99924,     0.99924,     0.99924,     0.99925,\n",
       "            0.99925,     0.99925,     0.99925,     0.99925,     0.99925,     0.99925,     0.99925,     0.99925,     0.99925,     0.99925,     0.99926,     0.99926,     0.99926,     0.99926,     0.99926,     0.99926,     0.99926,     0.99926,     0.99926,     0.99926,     0.99926,     0.99926,     0.99927,\n",
       "            0.99927,     0.99927,     0.99927,     0.99927,     0.99927,     0.99927,     0.99927,     0.99927,     0.99927,     0.99927,     0.99928,     0.99928,     0.99928,     0.99928,     0.99928,     0.99928,     0.99928,     0.99928,     0.99928,     0.99928,     0.99928,     0.99929,     0.99929,\n",
       "            0.99929,     0.99929,     0.99929,     0.99929,     0.99929,     0.99929,     0.99929,     0.99929,     0.99929,     0.99929,      0.9993,      0.9993,      0.9993,      0.9993,      0.9993,      0.9993,      0.9993,      0.9993,      0.9993,      0.9993,      0.9993,     0.99931,     0.99931,\n",
       "            0.99931,     0.99931,     0.99931,     0.99931,     0.99931,     0.99931,     0.99931,     0.99931,     0.99931,     0.99931,     0.99932,     0.99932,     0.99932,     0.99932,     0.99932,     0.99932,     0.99932,     0.99932,     0.99932,     0.99932,     0.99932,     0.99933,     0.99933,\n",
       "            0.99933,     0.99933,     0.99933,     0.99933,     0.99933,     0.99933,     0.99933,     0.99933,     0.99933,     0.99933,     0.99934,     0.99934,     0.99934,     0.99934,     0.99934,     0.99934,     0.99934,     0.99934,     0.99934,     0.99934,     0.99934,     0.99935,     0.99935,\n",
       "            0.99935,     0.99935,     0.99935,     0.99935,     0.99935,     0.99935,     0.99935,     0.99935,     0.99935,     0.99936,     0.99936,     0.99936,     0.99936,     0.99936,     0.99936,     0.99936,     0.99936,     0.99936,     0.99936,     0.99936,     0.99936,     0.99937,     0.99937,\n",
       "            0.99937,     0.99937,     0.99937,     0.99937,     0.99937,     0.99937,     0.99937,     0.99937,     0.99937,     0.99938,     0.99938,     0.99938,     0.99938,     0.99938,     0.99938,     0.99938,     0.99938,     0.99938,     0.99938,     0.99938,     0.99938,     0.99939,     0.99939,\n",
       "            0.99939,     0.99939,     0.99939,     0.99939,     0.99939,     0.99939,     0.99939,     0.99939,     0.99939,      0.9994,      0.9994,      0.9994,      0.9994,      0.9994,      0.9994,      0.9994,      0.9994,      0.9994,      0.9994,      0.9994,     0.99941,     0.99941,     0.99941,\n",
       "            0.99941,     0.99941,     0.99941,     0.99941,     0.99941,     0.99941,     0.99941,     0.99941,     0.99941,     0.99942,     0.99942,     0.99942,     0.99942,     0.99942,     0.99942,     0.99942,     0.99942,     0.99942,     0.99942,     0.99942,     0.99943,     0.99943,     0.99943,\n",
       "            0.99943,     0.99943,     0.99943,     0.99943,     0.99943,     0.99943,     0.99943,     0.99943,     0.99943,     0.99944,     0.99944,     0.99944,     0.99944,     0.99944,     0.99944,     0.99944,     0.99944,     0.99944,     0.99944,     0.99944,     0.99945,     0.99945,     0.99945,\n",
       "            0.99945,     0.99945,     0.99945,     0.99945,     0.99945,     0.99945,     0.99945,     0.99945,     0.99945,     0.99946,     0.99946,     0.99946,     0.99946,     0.99946,     0.99946,     0.99946,     0.99946,     0.99946,     0.99946,     0.99946,     0.99947,     0.99947,     0.99947,\n",
       "            0.99947,     0.99947,     0.99947,     0.99947,     0.99947,     0.99947,     0.99947,     0.99947,     0.99948,     0.99948,     0.99948,     0.99948,     0.99948,     0.99948,     0.99948,     0.99948,     0.99948,     0.99948,     0.99948,     0.99948,     0.99949,     0.99949,     0.99949,\n",
       "            0.99949,     0.99949,     0.99949,     0.99949,     0.99949,     0.99949,     0.99949,     0.99949,      0.9995,      0.9995,      0.9995,      0.9995,      0.9995,      0.9995,      0.9995,      0.9995,      0.9995,      0.9995,      0.9995,      0.9995,     0.99951,     0.99951,     0.99951,\n",
       "            0.99951,     0.99951,     0.99951,     0.99951,     0.99951,     0.99951,     0.99951,     0.99951,     0.99952,     0.99952,     0.99952,     0.99952,     0.99952,     0.99952,     0.99952,     0.99952,     0.99952,     0.99952,     0.99952,     0.99952,     0.99953,     0.99953,     0.99953,\n",
       "            0.99953,     0.99953,     0.99953,     0.99953,     0.99953,     0.99953,     0.99953,     0.99953,     0.99954,     0.99954,     0.99954,     0.99954,     0.99954,     0.99954,     0.99954,     0.99954,     0.99954,     0.99954,     0.99954,     0.99955,     0.99955,     0.99955,     0.99955,\n",
       "            0.99955,     0.99955,     0.99955,     0.99955,     0.99955,     0.99955,     0.99955,     0.99955,     0.99956,     0.99956,     0.99956,     0.99956,     0.99956,     0.99956,     0.99956,     0.99956,     0.99956,     0.99956,     0.99956,     0.99957,     0.99957,     0.99957,     0.99957,\n",
       "            0.99957,     0.99957,     0.99957,     0.99957,     0.99957,     0.99957,     0.99957,     0.99957,     0.99958,     0.99958,     0.99958,     0.99958,     0.99958,     0.99958,     0.99958,     0.99958,     0.99958,     0.99958,     0.99958,     0.99959,     0.99959,     0.99959,     0.99959,\n",
       "            0.99959,     0.99959,     0.99959,     0.99959,     0.99959,     0.99959,     0.99959,     0.99959,      0.9996,      0.9996,      0.9996,      0.9996,      0.9996,      0.9996,      0.9996,      0.9996,      0.9996,      0.9996,      0.9996,     0.99961,     0.99961,     0.99961,     0.99961,\n",
       "            0.99961,     0.99961,     0.99961,     0.99961,     0.99961,     0.99961,     0.99961,     0.99962,     0.99962,     0.99962,     0.99962,     0.99962,     0.99962,     0.99962,     0.99962,     0.99962,     0.99962,     0.99962,     0.99962,     0.99963,     0.99963,     0.99963,     0.99963,\n",
       "            0.99963,     0.99963,     0.99963,     0.99963,     0.99963,     0.99963,     0.99963,     0.99964,     0.99964,     0.99964,     0.99964,     0.99964,     0.99964,     0.99964,     0.99964,     0.99964,     0.99964,     0.99964,     0.99964,     0.99965,     0.99965,     0.99965,     0.99965,\n",
       "            0.99965,     0.99965,     0.99965,     0.99965,     0.99965,     0.99965,     0.99965,     0.99966,     0.99966,     0.99966,     0.99966,     0.99966,     0.99966,     0.99966,     0.99966,     0.99966,     0.99966,     0.99966,     0.99966,     0.99967,     0.99967,     0.99967,     0.99967,\n",
       "            0.99967,     0.99967,     0.99967,     0.99967,     0.99967,     0.99967,     0.99967,     0.99968,     0.99968,     0.99968,     0.99968,     0.99968,     0.99968,     0.99968,     0.99968,     0.99968,     0.99968,     0.99968,     0.99969,     0.99969,     0.99969,     0.99969,     0.99969,\n",
       "            0.99969,     0.99969,     0.99969,     0.99969,     0.99969,     0.99969,     0.99969,      0.9997,      0.9997,      0.9997,      0.9997,      0.9997,      0.9997,      0.9997,      0.9997,      0.9997,      0.9997,      0.9997,     0.99971,     0.99971,     0.99971,     0.99971,     0.99971,\n",
       "            0.99971,     0.99971,     0.99971,     0.99971,     0.99971,     0.99971,     0.99971,     0.99972,     0.99972,     0.99972,     0.99972,     0.99972,     0.99972,     0.99972,     0.99972,     0.99972,     0.99972,     0.99972,     0.99973,     0.99973,     0.99973,     0.99973,     0.99973,\n",
       "            0.99973,     0.99973,     0.99973,     0.99973,     0.99973,     0.99973,     0.99973,     0.99974,     0.99974,     0.99974,     0.99974,     0.99974,     0.99974,     0.99974,     0.99974,     0.99974,     0.99974,     0.99974,     0.99975,     0.99975,     0.99975,     0.99975,     0.99975,\n",
       "            0.99975,     0.99975,     0.99975,     0.99975,     0.99975,     0.99975,     0.99976,     0.99976,     0.99976,     0.99976,     0.99976,     0.99976,     0.99976,     0.99976,     0.99976,     0.99976,     0.99976,     0.99976,     0.99977,     0.99977,     0.99977,     0.99977,     0.99977,\n",
       "            0.99977,     0.99977,     0.99977,     0.99977,     0.99977,     0.99977,     0.99978,     0.99978,     0.99978,     0.99978,     0.99978,     0.99978,     0.99978,     0.99978,     0.99978,     0.99978,     0.99978,     0.99978,     0.99979,     0.99979,     0.99979,     0.99979,     0.99979,\n",
       "            0.99979,     0.99979,     0.99979,     0.99979,     0.99979,     0.99979,      0.9998,      0.9998,      0.9998,      0.9998,      0.9998,      0.9998,      0.9998,      0.9998,      0.9998,      0.9998,      0.9998,      0.9998,     0.99981,     0.99981,     0.99981,     0.99981,     0.99981,\n",
       "            0.99981,     0.99981,     0.99981,     0.99981,     0.99981,     0.99981,     0.99982,     0.99982,     0.99982,     0.99982,     0.99982,     0.99982,     0.99982,     0.99982,     0.99982,     0.99982,     0.99982,     0.99982,     0.99983,     0.99983,     0.99983,     0.99983,     0.99983,\n",
       "            0.99983,     0.99983,     0.99983,     0.99983,     0.99983,     0.99983,     0.99984,     0.99984,     0.99984,     0.99984,     0.99984,     0.99984,     0.99984,     0.99984,     0.99984,     0.99984,     0.99984,     0.99985,     0.99985,     0.99985,     0.99985,     0.99985,     0.99985,\n",
       "            0.99985,     0.99985,     0.99985,     0.99985,     0.99985,     0.99985,     0.99986,     0.99986,     0.99986,     0.99986,     0.99986,     0.99986,     0.99986,     0.99986,     0.99986,     0.99986,     0.99986,     0.99987,     0.99987,     0.99987,     0.99987,     0.99987,     0.99987,\n",
       "            0.99987,     0.99987,     0.99987,     0.99987,     0.99987,     0.99987,     0.99988,     0.99988,     0.99988,     0.99988,     0.99988,     0.99988,     0.99988,     0.99988,     0.99988,     0.99988,     0.99988,     0.99989,     0.99989,     0.99989,     0.99989,     0.99989,     0.99989,\n",
       "            0.99989,     0.99989,     0.99989,     0.99989,     0.99989,     0.99989,      0.9999,      0.9999,      0.9999,      0.9999,      0.9999,      0.9999,      0.9999,      0.9999,      0.9999,      0.9999,      0.9999,     0.99991,     0.99991,     0.99991,     0.99991,     0.99991,     0.99991,\n",
       "            0.99991,     0.99991,     0.99991,     0.99991,     0.99991,     0.99992,     0.99992,     0.99992,     0.99992,     0.99992,     0.99992,     0.99992,     0.99992,     0.99992,     0.99992,     0.99992,     0.99992,     0.99993,     0.99993,     0.99993,     0.99993,     0.99993,     0.99993,\n",
       "            0.99993,     0.99993,     0.99993,     0.99993,     0.99993,     0.99994,     0.99994,     0.99994,     0.99994,     0.99994,     0.99994,     0.99994,     0.99994,     0.99994,     0.99994,     0.99994,     0.99994,     0.99995,     0.99995,     0.99995,     0.99995,     0.99995,     0.99995,\n",
       "            0.99995,     0.99995,     0.99995,     0.99995,     0.99995,     0.99996,     0.99996,     0.99996,     0.99996,     0.99996,     0.99996,     0.99996,     0.99996,     0.99996,     0.99996,     0.99996,     0.99996,     0.99997,     0.99997,     0.99997,     0.99997,     0.99997,     0.99997,\n",
       "            0.99997,     0.99997,     0.99997,     0.99997,     0.99997,     0.99998,     0.99998,     0.99998,     0.99998,     0.99998,     0.99998,     0.99998,     0.99998,     0.99998,     0.99998,     0.99998,     0.99999,     0.99999,     0.99999,     0.99999,     0.99999,     0.99999,     0.99999,\n",
       "            0.99999,     0.99999,     0.99999,     0.99999,     0.99999,           1,           1,           1,           1,           1,           1,     0.99896,     0.99839,     0.98747,     0.95752,     0.92958,     0.88372,     0.79874,     0.73271,     0.59625,     0.50524,     0.43699,     0.39936,\n",
       "            0.35312,     0.33009,     0.28706,     0.27214,     0.24421,     0.19658,     0.16612,     0.14328,     0.10801,    0.077543,     0.04926,    0.023393,   0.0034974,           0,           0,           0,           0,           0,           0,           0,           0,           0,           0,\n",
       "                  0,           0,           0,           0,           0,           0,           0,           0,           0,           0,           0]]), 'Confidence', 'F1'], [array([          0,    0.001001,    0.002002,    0.003003,    0.004004,    0.005005,    0.006006,    0.007007,    0.008008,    0.009009,     0.01001,    0.011011,    0.012012,    0.013013,    0.014014,    0.015015,    0.016016,    0.017017,    0.018018,    0.019019,     0.02002,    0.021021,    0.022022,    0.023023,\n",
       "          0.024024,    0.025025,    0.026026,    0.027027,    0.028028,    0.029029,     0.03003,    0.031031,    0.032032,    0.033033,    0.034034,    0.035035,    0.036036,    0.037037,    0.038038,    0.039039,     0.04004,    0.041041,    0.042042,    0.043043,    0.044044,    0.045045,    0.046046,    0.047047,\n",
       "          0.048048,    0.049049,     0.05005,    0.051051,    0.052052,    0.053053,    0.054054,    0.055055,    0.056056,    0.057057,    0.058058,    0.059059,     0.06006,    0.061061,    0.062062,    0.063063,    0.064064,    0.065065,    0.066066,    0.067067,    0.068068,    0.069069,     0.07007,    0.071071,\n",
       "          0.072072,    0.073073,    0.074074,    0.075075,    0.076076,    0.077077,    0.078078,    0.079079,     0.08008,    0.081081,    0.082082,    0.083083,    0.084084,    0.085085,    0.086086,    0.087087,    0.088088,    0.089089,     0.09009,    0.091091,    0.092092,    0.093093,    0.094094,    0.095095,\n",
       "          0.096096,    0.097097,    0.098098,    0.099099,      0.1001,      0.1011,      0.1021,      0.1031,      0.1041,     0.10511,     0.10611,     0.10711,     0.10811,     0.10911,     0.11011,     0.11111,     0.11211,     0.11311,     0.11411,     0.11512,     0.11612,     0.11712,     0.11812,     0.11912,\n",
       "           0.12012,     0.12112,     0.12212,     0.12312,     0.12412,     0.12513,     0.12613,     0.12713,     0.12813,     0.12913,     0.13013,     0.13113,     0.13213,     0.13313,     0.13413,     0.13514,     0.13614,     0.13714,     0.13814,     0.13914,     0.14014,     0.14114,     0.14214,     0.14314,\n",
       "           0.14414,     0.14515,     0.14615,     0.14715,     0.14815,     0.14915,     0.15015,     0.15115,     0.15215,     0.15315,     0.15415,     0.15516,     0.15616,     0.15716,     0.15816,     0.15916,     0.16016,     0.16116,     0.16216,     0.16316,     0.16416,     0.16517,     0.16617,     0.16717,\n",
       "           0.16817,     0.16917,     0.17017,     0.17117,     0.17217,     0.17317,     0.17417,     0.17518,     0.17618,     0.17718,     0.17818,     0.17918,     0.18018,     0.18118,     0.18218,     0.18318,     0.18418,     0.18519,     0.18619,     0.18719,     0.18819,     0.18919,     0.19019,     0.19119,\n",
       "           0.19219,     0.19319,     0.19419,      0.1952,      0.1962,      0.1972,      0.1982,      0.1992,      0.2002,      0.2012,      0.2022,      0.2032,      0.2042,     0.20521,     0.20621,     0.20721,     0.20821,     0.20921,     0.21021,     0.21121,     0.21221,     0.21321,     0.21421,     0.21522,\n",
       "           0.21622,     0.21722,     0.21822,     0.21922,     0.22022,     0.22122,     0.22222,     0.22322,     0.22422,     0.22523,     0.22623,     0.22723,     0.22823,     0.22923,     0.23023,     0.23123,     0.23223,     0.23323,     0.23423,     0.23524,     0.23624,     0.23724,     0.23824,     0.23924,\n",
       "           0.24024,     0.24124,     0.24224,     0.24324,     0.24424,     0.24525,     0.24625,     0.24725,     0.24825,     0.24925,     0.25025,     0.25125,     0.25225,     0.25325,     0.25425,     0.25526,     0.25626,     0.25726,     0.25826,     0.25926,     0.26026,     0.26126,     0.26226,     0.26326,\n",
       "           0.26426,     0.26527,     0.26627,     0.26727,     0.26827,     0.26927,     0.27027,     0.27127,     0.27227,     0.27327,     0.27427,     0.27528,     0.27628,     0.27728,     0.27828,     0.27928,     0.28028,     0.28128,     0.28228,     0.28328,     0.28428,     0.28529,     0.28629,     0.28729,\n",
       "           0.28829,     0.28929,     0.29029,     0.29129,     0.29229,     0.29329,     0.29429,      0.2953,      0.2963,      0.2973,      0.2983,      0.2993,      0.3003,      0.3013,      0.3023,      0.3033,      0.3043,     0.30531,     0.30631,     0.30731,     0.30831,     0.30931,     0.31031,     0.31131,\n",
       "           0.31231,     0.31331,     0.31431,     0.31532,     0.31632,     0.31732,     0.31832,     0.31932,     0.32032,     0.32132,     0.32232,     0.32332,     0.32432,     0.32533,     0.32633,     0.32733,     0.32833,     0.32933,     0.33033,     0.33133,     0.33233,     0.33333,     0.33433,     0.33534,\n",
       "           0.33634,     0.33734,     0.33834,     0.33934,     0.34034,     0.34134,     0.34234,     0.34334,     0.34434,     0.34535,     0.34635,     0.34735,     0.34835,     0.34935,     0.35035,     0.35135,     0.35235,     0.35335,     0.35435,     0.35536,     0.35636,     0.35736,     0.35836,     0.35936,\n",
       "           0.36036,     0.36136,     0.36236,     0.36336,     0.36436,     0.36537,     0.36637,     0.36737,     0.36837,     0.36937,     0.37037,     0.37137,     0.37237,     0.37337,     0.37437,     0.37538,     0.37638,     0.37738,     0.37838,     0.37938,     0.38038,     0.38138,     0.38238,     0.38338,\n",
       "           0.38438,     0.38539,     0.38639,     0.38739,     0.38839,     0.38939,     0.39039,     0.39139,     0.39239,     0.39339,     0.39439,      0.3954,      0.3964,      0.3974,      0.3984,      0.3994,      0.4004,      0.4014,      0.4024,      0.4034,      0.4044,     0.40541,     0.40641,     0.40741,\n",
       "           0.40841,     0.40941,     0.41041,     0.41141,     0.41241,     0.41341,     0.41441,     0.41542,     0.41642,     0.41742,     0.41842,     0.41942,     0.42042,     0.42142,     0.42242,     0.42342,     0.42442,     0.42543,     0.42643,     0.42743,     0.42843,     0.42943,     0.43043,     0.43143,\n",
       "           0.43243,     0.43343,     0.43443,     0.43544,     0.43644,     0.43744,     0.43844,     0.43944,     0.44044,     0.44144,     0.44244,     0.44344,     0.44444,     0.44545,     0.44645,     0.44745,     0.44845,     0.44945,     0.45045,     0.45145,     0.45245,     0.45345,     0.45445,     0.45546,\n",
       "           0.45646,     0.45746,     0.45846,     0.45946,     0.46046,     0.46146,     0.46246,     0.46346,     0.46446,     0.46547,     0.46647,     0.46747,     0.46847,     0.46947,     0.47047,     0.47147,     0.47247,     0.47347,     0.47447,     0.47548,     0.47648,     0.47748,     0.47848,     0.47948,\n",
       "           0.48048,     0.48148,     0.48248,     0.48348,     0.48448,     0.48549,     0.48649,     0.48749,     0.48849,     0.48949,     0.49049,     0.49149,     0.49249,     0.49349,     0.49449,      0.4955,      0.4965,      0.4975,      0.4985,      0.4995,      0.5005,      0.5015,      0.5025,      0.5035,\n",
       "            0.5045,     0.50551,     0.50651,     0.50751,     0.50851,     0.50951,     0.51051,     0.51151,     0.51251,     0.51351,     0.51451,     0.51552,     0.51652,     0.51752,     0.51852,     0.51952,     0.52052,     0.52152,     0.52252,     0.52352,     0.52452,     0.52553,     0.52653,     0.52753,\n",
       "           0.52853,     0.52953,     0.53053,     0.53153,     0.53253,     0.53353,     0.53453,     0.53554,     0.53654,     0.53754,     0.53854,     0.53954,     0.54054,     0.54154,     0.54254,     0.54354,     0.54454,     0.54555,     0.54655,     0.54755,     0.54855,     0.54955,     0.55055,     0.55155,\n",
       "           0.55255,     0.55355,     0.55455,     0.55556,     0.55656,     0.55756,     0.55856,     0.55956,     0.56056,     0.56156,     0.56256,     0.56356,     0.56456,     0.56557,     0.56657,     0.56757,     0.56857,     0.56957,     0.57057,     0.57157,     0.57257,     0.57357,     0.57457,     0.57558,\n",
       "           0.57658,     0.57758,     0.57858,     0.57958,     0.58058,     0.58158,     0.58258,     0.58358,     0.58458,     0.58559,     0.58659,     0.58759,     0.58859,     0.58959,     0.59059,     0.59159,     0.59259,     0.59359,     0.59459,      0.5956,      0.5966,      0.5976,      0.5986,      0.5996,\n",
       "            0.6006,      0.6016,      0.6026,      0.6036,      0.6046,     0.60561,     0.60661,     0.60761,     0.60861,     0.60961,     0.61061,     0.61161,     0.61261,     0.61361,     0.61461,     0.61562,     0.61662,     0.61762,     0.61862,     0.61962,     0.62062,     0.62162,     0.62262,     0.62362,\n",
       "           0.62462,     0.62563,     0.62663,     0.62763,     0.62863,     0.62963,     0.63063,     0.63163,     0.63263,     0.63363,     0.63463,     0.63564,     0.63664,     0.63764,     0.63864,     0.63964,     0.64064,     0.64164,     0.64264,     0.64364,     0.64464,     0.64565,     0.64665,     0.64765,\n",
       "           0.64865,     0.64965,     0.65065,     0.65165,     0.65265,     0.65365,     0.65465,     0.65566,     0.65666,     0.65766,     0.65866,     0.65966,     0.66066,     0.66166,     0.66266,     0.66366,     0.66466,     0.66567,     0.66667,     0.66767,     0.66867,     0.66967,     0.67067,     0.67167,\n",
       "           0.67267,     0.67367,     0.67467,     0.67568,     0.67668,     0.67768,     0.67868,     0.67968,     0.68068,     0.68168,     0.68268,     0.68368,     0.68468,     0.68569,     0.68669,     0.68769,     0.68869,     0.68969,     0.69069,     0.69169,     0.69269,     0.69369,     0.69469,      0.6957,\n",
       "            0.6967,      0.6977,      0.6987,      0.6997,      0.7007,      0.7017,      0.7027,      0.7037,      0.7047,     0.70571,     0.70671,     0.70771,     0.70871,     0.70971,     0.71071,     0.71171,     0.71271,     0.71371,     0.71471,     0.71572,     0.71672,     0.71772,     0.71872,     0.71972,\n",
       "           0.72072,     0.72172,     0.72272,     0.72372,     0.72472,     0.72573,     0.72673,     0.72773,     0.72873,     0.72973,     0.73073,     0.73173,     0.73273,     0.73373,     0.73473,     0.73574,     0.73674,     0.73774,     0.73874,     0.73974,     0.74074,     0.74174,     0.74274,     0.74374,\n",
       "           0.74474,     0.74575,     0.74675,     0.74775,     0.74875,     0.74975,     0.75075,     0.75175,     0.75275,     0.75375,     0.75475,     0.75576,     0.75676,     0.75776,     0.75876,     0.75976,     0.76076,     0.76176,     0.76276,     0.76376,     0.76476,     0.76577,     0.76677,     0.76777,\n",
       "           0.76877,     0.76977,     0.77077,     0.77177,     0.77277,     0.77377,     0.77477,     0.77578,     0.77678,     0.77778,     0.77878,     0.77978,     0.78078,     0.78178,     0.78278,     0.78378,     0.78478,     0.78579,     0.78679,     0.78779,     0.78879,     0.78979,     0.79079,     0.79179,\n",
       "           0.79279,     0.79379,     0.79479,      0.7958,      0.7968,      0.7978,      0.7988,      0.7998,      0.8008,      0.8018,      0.8028,      0.8038,      0.8048,     0.80581,     0.80681,     0.80781,     0.80881,     0.80981,     0.81081,     0.81181,     0.81281,     0.81381,     0.81481,     0.81582,\n",
       "           0.81682,     0.81782,     0.81882,     0.81982,     0.82082,     0.82182,     0.82282,     0.82382,     0.82482,     0.82583,     0.82683,     0.82783,     0.82883,     0.82983,     0.83083,     0.83183,     0.83283,     0.83383,     0.83483,     0.83584,     0.83684,     0.83784,     0.83884,     0.83984,\n",
       "           0.84084,     0.84184,     0.84284,     0.84384,     0.84484,     0.84585,     0.84685,     0.84785,     0.84885,     0.84985,     0.85085,     0.85185,     0.85285,     0.85385,     0.85485,     0.85586,     0.85686,     0.85786,     0.85886,     0.85986,     0.86086,     0.86186,     0.86286,     0.86386,\n",
       "           0.86486,     0.86587,     0.86687,     0.86787,     0.86887,     0.86987,     0.87087,     0.87187,     0.87287,     0.87387,     0.87487,     0.87588,     0.87688,     0.87788,     0.87888,     0.87988,     0.88088,     0.88188,     0.88288,     0.88388,     0.88488,     0.88589,     0.88689,     0.88789,\n",
       "           0.88889,     0.88989,     0.89089,     0.89189,     0.89289,     0.89389,     0.89489,      0.8959,      0.8969,      0.8979,      0.8989,      0.8999,      0.9009,      0.9019,      0.9029,      0.9039,      0.9049,     0.90591,     0.90691,     0.90791,     0.90891,     0.90991,     0.91091,     0.91191,\n",
       "           0.91291,     0.91391,     0.91491,     0.91592,     0.91692,     0.91792,     0.91892,     0.91992,     0.92092,     0.92192,     0.92292,     0.92392,     0.92492,     0.92593,     0.92693,     0.92793,     0.92893,     0.92993,     0.93093,     0.93193,     0.93293,     0.93393,     0.93493,     0.93594,\n",
       "           0.93694,     0.93794,     0.93894,     0.93994,     0.94094,     0.94194,     0.94294,     0.94394,     0.94494,     0.94595,     0.94695,     0.94795,     0.94895,     0.94995,     0.95095,     0.95195,     0.95295,     0.95395,     0.95495,     0.95596,     0.95696,     0.95796,     0.95896,     0.95996,\n",
       "           0.96096,     0.96196,     0.96296,     0.96396,     0.96496,     0.96597,     0.96697,     0.96797,     0.96897,     0.96997,     0.97097,     0.97197,     0.97297,     0.97397,     0.97497,     0.97598,     0.97698,     0.97798,     0.97898,     0.97998,     0.98098,     0.98198,     0.98298,     0.98398,\n",
       "           0.98498,     0.98599,     0.98699,     0.98799,     0.98899,     0.98999,     0.99099,     0.99199,     0.99299,     0.99399,     0.99499,       0.996,       0.997,       0.998,       0.999,           1]), array([[    0.99834,     0.99834,     0.99834,     0.99834,     0.99834,     0.99834,     0.99834,     0.99835,     0.99835,     0.99835,     0.99835,     0.99835,     0.99835,     0.99836,     0.99836,     0.99836,     0.99836,     0.99836,     0.99836,     0.99837,     0.99837,     0.99837,     0.99837,\n",
       "            0.99837,     0.99838,     0.99838,     0.99838,     0.99838,     0.99838,     0.99838,     0.99839,     0.99839,     0.99839,     0.99839,     0.99839,     0.99839,      0.9984,      0.9984,      0.9984,      0.9984,      0.9984,     0.99841,     0.99841,     0.99841,     0.99841,     0.99841,\n",
       "            0.99841,     0.99842,     0.99842,     0.99842,     0.99842,     0.99842,     0.99842,     0.99843,     0.99843,     0.99843,     0.99843,     0.99843,     0.99843,     0.99844,     0.99844,     0.99844,     0.99844,     0.99844,     0.99845,     0.99845,     0.99845,     0.99845,     0.99845,\n",
       "            0.99845,     0.99846,     0.99846,     0.99846,     0.99846,     0.99846,     0.99846,     0.99847,     0.99847,     0.99847,     0.99847,     0.99847,     0.99848,     0.99848,     0.99848,     0.99848,     0.99848,     0.99848,     0.99849,     0.99849,     0.99849,     0.99849,     0.99849,\n",
       "            0.99849,      0.9985,      0.9985,      0.9985,      0.9985,      0.9985,      0.9985,     0.99851,     0.99851,     0.99851,     0.99851,     0.99851,     0.99852,     0.99852,     0.99852,     0.99852,     0.99852,     0.99852,     0.99853,     0.99853,     0.99853,     0.99853,     0.99853,\n",
       "            0.99853,     0.99854,     0.99854,     0.99854,     0.99854,     0.99854,     0.99854,     0.99855,     0.99855,     0.99855,     0.99855,     0.99855,     0.99856,     0.99856,     0.99856,     0.99856,     0.99856,     0.99856,     0.99857,     0.99857,     0.99857,     0.99857,     0.99857,\n",
       "            0.99857,     0.99858,     0.99858,     0.99858,     0.99858,     0.99858,     0.99859,     0.99859,     0.99859,     0.99859,     0.99859,     0.99859,      0.9986,      0.9986,      0.9986,      0.9986,      0.9986,      0.9986,     0.99861,     0.99861,     0.99861,     0.99861,     0.99861,\n",
       "            0.99861,     0.99862,     0.99862,     0.99862,     0.99862,     0.99862,     0.99863,     0.99863,     0.99863,     0.99863,     0.99863,     0.99863,     0.99864,     0.99864,     0.99864,     0.99864,     0.99864,     0.99864,     0.99865,     0.99865,     0.99865,     0.99865,     0.99865,\n",
       "            0.99866,     0.99866,     0.99866,     0.99866,     0.99866,     0.99866,     0.99867,     0.99867,     0.99867,     0.99867,     0.99867,     0.99867,     0.99868,     0.99868,     0.99868,     0.99868,     0.99868,     0.99868,     0.99869,     0.99869,     0.99869,     0.99869,     0.99869,\n",
       "             0.9987,      0.9987,      0.9987,      0.9987,      0.9987,      0.9987,     0.99871,     0.99871,     0.99871,     0.99871,     0.99871,     0.99871,     0.99872,     0.99872,     0.99872,     0.99872,     0.99872,     0.99873,     0.99873,     0.99873,     0.99873,     0.99873,     0.99873,\n",
       "            0.99874,     0.99874,     0.99874,     0.99874,     0.99874,     0.99874,     0.99875,     0.99875,     0.99875,     0.99875,     0.99875,     0.99875,     0.99876,     0.99876,     0.99876,     0.99876,     0.99876,     0.99877,     0.99877,     0.99877,     0.99877,     0.99877,     0.99877,\n",
       "            0.99878,     0.99878,     0.99878,     0.99878,     0.99878,     0.99878,     0.99879,     0.99879,     0.99879,     0.99879,     0.99879,      0.9988,      0.9988,      0.9988,      0.9988,      0.9988,      0.9988,     0.99881,     0.99881,     0.99881,     0.99881,     0.99881,     0.99881,\n",
       "            0.99882,     0.99882,     0.99882,     0.99882,     0.99882,     0.99882,     0.99883,     0.99883,     0.99883,     0.99883,     0.99883,     0.99884,     0.99884,     0.99884,     0.99884,     0.99884,     0.99884,     0.99885,     0.99885,     0.99885,     0.99885,     0.99885,     0.99885,\n",
       "            0.99886,     0.99886,     0.99886,     0.99886,     0.99886,     0.99886,     0.99887,     0.99887,     0.99887,     0.99887,     0.99887,     0.99888,     0.99888,     0.99888,     0.99888,     0.99888,     0.99888,     0.99889,     0.99889,     0.99889,     0.99889,     0.99889,     0.99889,\n",
       "             0.9989,      0.9989,      0.9989,      0.9989,      0.9989,     0.99891,     0.99891,     0.99891,     0.99891,     0.99891,     0.99891,     0.99892,     0.99892,     0.99892,     0.99892,     0.99892,     0.99892,     0.99893,     0.99893,     0.99893,     0.99893,     0.99893,     0.99893,\n",
       "            0.99894,     0.99894,     0.99894,     0.99894,     0.99894,     0.99895,     0.99895,     0.99895,     0.99895,     0.99895,     0.99895,     0.99896,     0.99896,     0.99896,     0.99896,     0.99896,     0.99896,     0.99897,     0.99897,     0.99897,     0.99897,     0.99897,     0.99898,\n",
       "            0.99898,     0.99898,     0.99898,     0.99898,     0.99898,     0.99899,     0.99899,     0.99899,     0.99899,     0.99899,     0.99899,       0.999,       0.999,       0.999,       0.999,       0.999,       0.999,     0.99901,     0.99901,     0.99901,     0.99901,     0.99901,     0.99902,\n",
       "            0.99902,     0.99902,     0.99902,     0.99902,     0.99902,     0.99903,     0.99903,     0.99903,     0.99903,     0.99903,     0.99903,     0.99904,     0.99904,     0.99904,     0.99904,     0.99904,     0.99905,     0.99905,     0.99905,     0.99905,     0.99905,     0.99905,     0.99906,\n",
       "            0.99906,     0.99906,     0.99906,     0.99906,     0.99906,     0.99907,     0.99907,     0.99907,     0.99907,     0.99907,     0.99907,     0.99908,     0.99908,     0.99908,     0.99908,     0.99908,     0.99909,     0.99909,     0.99909,     0.99909,     0.99909,     0.99909,      0.9991,\n",
       "             0.9991,      0.9991,      0.9991,      0.9991,      0.9991,     0.99911,     0.99911,     0.99911,     0.99911,     0.99911,     0.99912,     0.99912,     0.99912,     0.99912,     0.99912,     0.99912,     0.99913,     0.99913,     0.99913,     0.99913,     0.99913,     0.99913,     0.99914,\n",
       "            0.99914,     0.99914,     0.99914,     0.99914,     0.99914,     0.99915,     0.99915,     0.99915,     0.99915,     0.99915,     0.99916,     0.99916,     0.99916,     0.99916,     0.99916,     0.99916,     0.99917,     0.99917,     0.99917,     0.99917,     0.99917,     0.99917,     0.99918,\n",
       "            0.99918,     0.99918,     0.99918,     0.99918,     0.99918,     0.99919,     0.99919,     0.99919,     0.99919,     0.99919,      0.9992,      0.9992,      0.9992,      0.9992,      0.9992,      0.9992,     0.99921,     0.99921,     0.99921,     0.99921,     0.99921,     0.99921,     0.99922,\n",
       "            0.99922,     0.99922,     0.99922,     0.99922,     0.99923,     0.99923,     0.99923,     0.99923,     0.99923,     0.99923,     0.99924,     0.99924,     0.99924,     0.99924,     0.99924,     0.99924,     0.99925,     0.99925,     0.99925,     0.99925,     0.99925,     0.99925,     0.99926,\n",
       "            0.99926,     0.99926,     0.99926,     0.99926,     0.99927,     0.99927,     0.99927,     0.99927,     0.99927,     0.99927,     0.99928,     0.99928,     0.99928,     0.99928,     0.99928,     0.99928,     0.99929,     0.99929,     0.99929,     0.99929,     0.99929,      0.9993,      0.9993,\n",
       "             0.9993,      0.9993,      0.9993,      0.9993,     0.99931,     0.99931,     0.99931,     0.99931,     0.99931,     0.99931,     0.99932,     0.99932,     0.99932,     0.99932,     0.99932,     0.99932,     0.99933,     0.99933,     0.99933,     0.99933,     0.99933,     0.99934,     0.99934,\n",
       "            0.99934,     0.99934,     0.99934,     0.99934,     0.99935,     0.99935,     0.99935,     0.99935,     0.99935,     0.99935,     0.99936,     0.99936,     0.99936,     0.99936,     0.99936,     0.99937,     0.99937,     0.99937,     0.99937,     0.99937,     0.99937,     0.99938,     0.99938,\n",
       "            0.99938,     0.99938,     0.99938,     0.99938,     0.99939,     0.99939,     0.99939,     0.99939,     0.99939,     0.99939,      0.9994,      0.9994,      0.9994,      0.9994,      0.9994,     0.99941,     0.99941,     0.99941,     0.99941,     0.99941,     0.99941,     0.99942,     0.99942,\n",
       "            0.99942,     0.99942,     0.99942,     0.99942,     0.99943,     0.99943,     0.99943,     0.99943,     0.99943,     0.99943,     0.99944,     0.99944,     0.99944,     0.99944,     0.99944,     0.99945,     0.99945,     0.99945,     0.99945,     0.99945,     0.99945,     0.99946,     0.99946,\n",
       "            0.99946,     0.99946,     0.99946,     0.99946,     0.99947,     0.99947,     0.99947,     0.99947,     0.99947,     0.99948,     0.99948,     0.99948,     0.99948,     0.99948,     0.99948,     0.99949,     0.99949,     0.99949,     0.99949,     0.99949,     0.99949,      0.9995,      0.9995,\n",
       "             0.9995,      0.9995,      0.9995,      0.9995,     0.99951,     0.99951,     0.99951,     0.99951,     0.99951,     0.99952,     0.99952,     0.99952,     0.99952,     0.99952,     0.99952,     0.99953,     0.99953,     0.99953,     0.99953,     0.99953,     0.99953,     0.99954,     0.99954,\n",
       "            0.99954,     0.99954,     0.99954,     0.99955,     0.99955,     0.99955,     0.99955,     0.99955,     0.99955,     0.99956,     0.99956,     0.99956,     0.99956,     0.99956,     0.99956,     0.99957,     0.99957,     0.99957,     0.99957,     0.99957,     0.99957,     0.99958,     0.99958,\n",
       "            0.99958,     0.99958,     0.99958,     0.99959,     0.99959,     0.99959,     0.99959,     0.99959,     0.99959,      0.9996,      0.9996,      0.9996,      0.9996,      0.9996,      0.9996,     0.99961,     0.99961,     0.99961,     0.99961,     0.99961,     0.99962,     0.99962,     0.99962,\n",
       "            0.99962,     0.99962,     0.99962,     0.99963,     0.99963,     0.99963,     0.99963,     0.99963,     0.99963,     0.99964,     0.99964,     0.99964,     0.99964,     0.99964,     0.99964,     0.99965,     0.99965,     0.99965,     0.99965,     0.99965,     0.99966,     0.99966,     0.99966,\n",
       "            0.99966,     0.99966,     0.99966,     0.99967,     0.99967,     0.99967,     0.99967,     0.99967,     0.99967,     0.99968,     0.99968,     0.99968,     0.99968,     0.99968,     0.99969,     0.99969,     0.99969,     0.99969,     0.99969,     0.99969,      0.9997,      0.9997,      0.9997,\n",
       "             0.9997,      0.9997,      0.9997,     0.99971,     0.99971,     0.99971,     0.99971,     0.99971,     0.99971,     0.99972,     0.99972,     0.99972,     0.99972,     0.99972,     0.99973,     0.99973,     0.99973,     0.99973,     0.99973,     0.99973,     0.99974,     0.99974,     0.99974,\n",
       "            0.99974,     0.99974,     0.99974,     0.99975,     0.99975,     0.99975,     0.99975,     0.99975,     0.99975,     0.99976,     0.99976,     0.99976,     0.99976,     0.99976,     0.99977,     0.99977,     0.99977,     0.99977,     0.99977,     0.99977,     0.99978,     0.99978,     0.99978,\n",
       "            0.99978,     0.99978,     0.99978,     0.99979,     0.99979,     0.99979,     0.99979,     0.99979,      0.9998,      0.9998,      0.9998,      0.9998,      0.9998,      0.9998,     0.99981,     0.99981,     0.99981,     0.99981,     0.99981,     0.99981,     0.99982,     0.99982,     0.99982,\n",
       "            0.99982,     0.99982,     0.99982,     0.99983,     0.99983,     0.99983,     0.99983,     0.99983,     0.99984,     0.99984,     0.99984,     0.99984,     0.99984,     0.99984,     0.99985,     0.99985,     0.99985,     0.99985,     0.99985,     0.99985,     0.99986,     0.99986,     0.99986,\n",
       "            0.99986,     0.99986,     0.99987,     0.99987,     0.99987,     0.99987,     0.99987,     0.99987,     0.99988,     0.99988,     0.99988,     0.99988,     0.99988,     0.99988,     0.99989,     0.99989,     0.99989,     0.99989,     0.99989,     0.99989,      0.9999,      0.9999,      0.9999,\n",
       "             0.9999,      0.9999,     0.99991,     0.99991,     0.99991,     0.99991,     0.99991,     0.99991,     0.99992,     0.99992,     0.99992,     0.99992,     0.99992,     0.99992,     0.99993,     0.99993,     0.99993,     0.99993,     0.99993,     0.99994,     0.99994,     0.99994,     0.99994,\n",
       "            0.99994,     0.99994,     0.99995,     0.99995,     0.99995,     0.99995,     0.99995,     0.99995,     0.99996,     0.99996,     0.99996,     0.99996,     0.99996,     0.99996,     0.99997,     0.99997,     0.99997,     0.99997,     0.99997,     0.99998,     0.99998,     0.99998,     0.99998,\n",
       "            0.99998,     0.99998,     0.99999,     0.99999,     0.99999,     0.99999,     0.99999,     0.99999,           1,           1,           1,           1,           1,           1,           1,           1,           1,           1,           1,           1,           1,           1,           1,\n",
       "                  1,           1,           1,           1,           1,           1,           1,           1,           1,           1,           1,           1,           1,           1,           1,           1,           1,           1,           1,           1,           1,           1,           1,\n",
       "                  1,           1,           1,           1,           1,           1,           1,           1,           1,           1,           1]]), 'Confidence', 'Precision'], [array([          0,    0.001001,    0.002002,    0.003003,    0.004004,    0.005005,    0.006006,    0.007007,    0.008008,    0.009009,     0.01001,    0.011011,    0.012012,    0.013013,    0.014014,    0.015015,    0.016016,    0.017017,    0.018018,    0.019019,     0.02002,    0.021021,    0.022022,    0.023023,\n",
       "          0.024024,    0.025025,    0.026026,    0.027027,    0.028028,    0.029029,     0.03003,    0.031031,    0.032032,    0.033033,    0.034034,    0.035035,    0.036036,    0.037037,    0.038038,    0.039039,     0.04004,    0.041041,    0.042042,    0.043043,    0.044044,    0.045045,    0.046046,    0.047047,\n",
       "          0.048048,    0.049049,     0.05005,    0.051051,    0.052052,    0.053053,    0.054054,    0.055055,    0.056056,    0.057057,    0.058058,    0.059059,     0.06006,    0.061061,    0.062062,    0.063063,    0.064064,    0.065065,    0.066066,    0.067067,    0.068068,    0.069069,     0.07007,    0.071071,\n",
       "          0.072072,    0.073073,    0.074074,    0.075075,    0.076076,    0.077077,    0.078078,    0.079079,     0.08008,    0.081081,    0.082082,    0.083083,    0.084084,    0.085085,    0.086086,    0.087087,    0.088088,    0.089089,     0.09009,    0.091091,    0.092092,    0.093093,    0.094094,    0.095095,\n",
       "          0.096096,    0.097097,    0.098098,    0.099099,      0.1001,      0.1011,      0.1021,      0.1031,      0.1041,     0.10511,     0.10611,     0.10711,     0.10811,     0.10911,     0.11011,     0.11111,     0.11211,     0.11311,     0.11411,     0.11512,     0.11612,     0.11712,     0.11812,     0.11912,\n",
       "           0.12012,     0.12112,     0.12212,     0.12312,     0.12412,     0.12513,     0.12613,     0.12713,     0.12813,     0.12913,     0.13013,     0.13113,     0.13213,     0.13313,     0.13413,     0.13514,     0.13614,     0.13714,     0.13814,     0.13914,     0.14014,     0.14114,     0.14214,     0.14314,\n",
       "           0.14414,     0.14515,     0.14615,     0.14715,     0.14815,     0.14915,     0.15015,     0.15115,     0.15215,     0.15315,     0.15415,     0.15516,     0.15616,     0.15716,     0.15816,     0.15916,     0.16016,     0.16116,     0.16216,     0.16316,     0.16416,     0.16517,     0.16617,     0.16717,\n",
       "           0.16817,     0.16917,     0.17017,     0.17117,     0.17217,     0.17317,     0.17417,     0.17518,     0.17618,     0.17718,     0.17818,     0.17918,     0.18018,     0.18118,     0.18218,     0.18318,     0.18418,     0.18519,     0.18619,     0.18719,     0.18819,     0.18919,     0.19019,     0.19119,\n",
       "           0.19219,     0.19319,     0.19419,      0.1952,      0.1962,      0.1972,      0.1982,      0.1992,      0.2002,      0.2012,      0.2022,      0.2032,      0.2042,     0.20521,     0.20621,     0.20721,     0.20821,     0.20921,     0.21021,     0.21121,     0.21221,     0.21321,     0.21421,     0.21522,\n",
       "           0.21622,     0.21722,     0.21822,     0.21922,     0.22022,     0.22122,     0.22222,     0.22322,     0.22422,     0.22523,     0.22623,     0.22723,     0.22823,     0.22923,     0.23023,     0.23123,     0.23223,     0.23323,     0.23423,     0.23524,     0.23624,     0.23724,     0.23824,     0.23924,\n",
       "           0.24024,     0.24124,     0.24224,     0.24324,     0.24424,     0.24525,     0.24625,     0.24725,     0.24825,     0.24925,     0.25025,     0.25125,     0.25225,     0.25325,     0.25425,     0.25526,     0.25626,     0.25726,     0.25826,     0.25926,     0.26026,     0.26126,     0.26226,     0.26326,\n",
       "           0.26426,     0.26527,     0.26627,     0.26727,     0.26827,     0.26927,     0.27027,     0.27127,     0.27227,     0.27327,     0.27427,     0.27528,     0.27628,     0.27728,     0.27828,     0.27928,     0.28028,     0.28128,     0.28228,     0.28328,     0.28428,     0.28529,     0.28629,     0.28729,\n",
       "           0.28829,     0.28929,     0.29029,     0.29129,     0.29229,     0.29329,     0.29429,      0.2953,      0.2963,      0.2973,      0.2983,      0.2993,      0.3003,      0.3013,      0.3023,      0.3033,      0.3043,     0.30531,     0.30631,     0.30731,     0.30831,     0.30931,     0.31031,     0.31131,\n",
       "           0.31231,     0.31331,     0.31431,     0.31532,     0.31632,     0.31732,     0.31832,     0.31932,     0.32032,     0.32132,     0.32232,     0.32332,     0.32432,     0.32533,     0.32633,     0.32733,     0.32833,     0.32933,     0.33033,     0.33133,     0.33233,     0.33333,     0.33433,     0.33534,\n",
       "           0.33634,     0.33734,     0.33834,     0.33934,     0.34034,     0.34134,     0.34234,     0.34334,     0.34434,     0.34535,     0.34635,     0.34735,     0.34835,     0.34935,     0.35035,     0.35135,     0.35235,     0.35335,     0.35435,     0.35536,     0.35636,     0.35736,     0.35836,     0.35936,\n",
       "           0.36036,     0.36136,     0.36236,     0.36336,     0.36436,     0.36537,     0.36637,     0.36737,     0.36837,     0.36937,     0.37037,     0.37137,     0.37237,     0.37337,     0.37437,     0.37538,     0.37638,     0.37738,     0.37838,     0.37938,     0.38038,     0.38138,     0.38238,     0.38338,\n",
       "           0.38438,     0.38539,     0.38639,     0.38739,     0.38839,     0.38939,     0.39039,     0.39139,     0.39239,     0.39339,     0.39439,      0.3954,      0.3964,      0.3974,      0.3984,      0.3994,      0.4004,      0.4014,      0.4024,      0.4034,      0.4044,     0.40541,     0.40641,     0.40741,\n",
       "           0.40841,     0.40941,     0.41041,     0.41141,     0.41241,     0.41341,     0.41441,     0.41542,     0.41642,     0.41742,     0.41842,     0.41942,     0.42042,     0.42142,     0.42242,     0.42342,     0.42442,     0.42543,     0.42643,     0.42743,     0.42843,     0.42943,     0.43043,     0.43143,\n",
       "           0.43243,     0.43343,     0.43443,     0.43544,     0.43644,     0.43744,     0.43844,     0.43944,     0.44044,     0.44144,     0.44244,     0.44344,     0.44444,     0.44545,     0.44645,     0.44745,     0.44845,     0.44945,     0.45045,     0.45145,     0.45245,     0.45345,     0.45445,     0.45546,\n",
       "           0.45646,     0.45746,     0.45846,     0.45946,     0.46046,     0.46146,     0.46246,     0.46346,     0.46446,     0.46547,     0.46647,     0.46747,     0.46847,     0.46947,     0.47047,     0.47147,     0.47247,     0.47347,     0.47447,     0.47548,     0.47648,     0.47748,     0.47848,     0.47948,\n",
       "           0.48048,     0.48148,     0.48248,     0.48348,     0.48448,     0.48549,     0.48649,     0.48749,     0.48849,     0.48949,     0.49049,     0.49149,     0.49249,     0.49349,     0.49449,      0.4955,      0.4965,      0.4975,      0.4985,      0.4995,      0.5005,      0.5015,      0.5025,      0.5035,\n",
       "            0.5045,     0.50551,     0.50651,     0.50751,     0.50851,     0.50951,     0.51051,     0.51151,     0.51251,     0.51351,     0.51451,     0.51552,     0.51652,     0.51752,     0.51852,     0.51952,     0.52052,     0.52152,     0.52252,     0.52352,     0.52452,     0.52553,     0.52653,     0.52753,\n",
       "           0.52853,     0.52953,     0.53053,     0.53153,     0.53253,     0.53353,     0.53453,     0.53554,     0.53654,     0.53754,     0.53854,     0.53954,     0.54054,     0.54154,     0.54254,     0.54354,     0.54454,     0.54555,     0.54655,     0.54755,     0.54855,     0.54955,     0.55055,     0.55155,\n",
       "           0.55255,     0.55355,     0.55455,     0.55556,     0.55656,     0.55756,     0.55856,     0.55956,     0.56056,     0.56156,     0.56256,     0.56356,     0.56456,     0.56557,     0.56657,     0.56757,     0.56857,     0.56957,     0.57057,     0.57157,     0.57257,     0.57357,     0.57457,     0.57558,\n",
       "           0.57658,     0.57758,     0.57858,     0.57958,     0.58058,     0.58158,     0.58258,     0.58358,     0.58458,     0.58559,     0.58659,     0.58759,     0.58859,     0.58959,     0.59059,     0.59159,     0.59259,     0.59359,     0.59459,      0.5956,      0.5966,      0.5976,      0.5986,      0.5996,\n",
       "            0.6006,      0.6016,      0.6026,      0.6036,      0.6046,     0.60561,     0.60661,     0.60761,     0.60861,     0.60961,     0.61061,     0.61161,     0.61261,     0.61361,     0.61461,     0.61562,     0.61662,     0.61762,     0.61862,     0.61962,     0.62062,     0.62162,     0.62262,     0.62362,\n",
       "           0.62462,     0.62563,     0.62663,     0.62763,     0.62863,     0.62963,     0.63063,     0.63163,     0.63263,     0.63363,     0.63463,     0.63564,     0.63664,     0.63764,     0.63864,     0.63964,     0.64064,     0.64164,     0.64264,     0.64364,     0.64464,     0.64565,     0.64665,     0.64765,\n",
       "           0.64865,     0.64965,     0.65065,     0.65165,     0.65265,     0.65365,     0.65465,     0.65566,     0.65666,     0.65766,     0.65866,     0.65966,     0.66066,     0.66166,     0.66266,     0.66366,     0.66466,     0.66567,     0.66667,     0.66767,     0.66867,     0.66967,     0.67067,     0.67167,\n",
       "           0.67267,     0.67367,     0.67467,     0.67568,     0.67668,     0.67768,     0.67868,     0.67968,     0.68068,     0.68168,     0.68268,     0.68368,     0.68468,     0.68569,     0.68669,     0.68769,     0.68869,     0.68969,     0.69069,     0.69169,     0.69269,     0.69369,     0.69469,      0.6957,\n",
       "            0.6967,      0.6977,      0.6987,      0.6997,      0.7007,      0.7017,      0.7027,      0.7037,      0.7047,     0.70571,     0.70671,     0.70771,     0.70871,     0.70971,     0.71071,     0.71171,     0.71271,     0.71371,     0.71471,     0.71572,     0.71672,     0.71772,     0.71872,     0.71972,\n",
       "           0.72072,     0.72172,     0.72272,     0.72372,     0.72472,     0.72573,     0.72673,     0.72773,     0.72873,     0.72973,     0.73073,     0.73173,     0.73273,     0.73373,     0.73473,     0.73574,     0.73674,     0.73774,     0.73874,     0.73974,     0.74074,     0.74174,     0.74274,     0.74374,\n",
       "           0.74474,     0.74575,     0.74675,     0.74775,     0.74875,     0.74975,     0.75075,     0.75175,     0.75275,     0.75375,     0.75475,     0.75576,     0.75676,     0.75776,     0.75876,     0.75976,     0.76076,     0.76176,     0.76276,     0.76376,     0.76476,     0.76577,     0.76677,     0.76777,\n",
       "           0.76877,     0.76977,     0.77077,     0.77177,     0.77277,     0.77377,     0.77477,     0.77578,     0.77678,     0.77778,     0.77878,     0.77978,     0.78078,     0.78178,     0.78278,     0.78378,     0.78478,     0.78579,     0.78679,     0.78779,     0.78879,     0.78979,     0.79079,     0.79179,\n",
       "           0.79279,     0.79379,     0.79479,      0.7958,      0.7968,      0.7978,      0.7988,      0.7998,      0.8008,      0.8018,      0.8028,      0.8038,      0.8048,     0.80581,     0.80681,     0.80781,     0.80881,     0.80981,     0.81081,     0.81181,     0.81281,     0.81381,     0.81481,     0.81582,\n",
       "           0.81682,     0.81782,     0.81882,     0.81982,     0.82082,     0.82182,     0.82282,     0.82382,     0.82482,     0.82583,     0.82683,     0.82783,     0.82883,     0.82983,     0.83083,     0.83183,     0.83283,     0.83383,     0.83483,     0.83584,     0.83684,     0.83784,     0.83884,     0.83984,\n",
       "           0.84084,     0.84184,     0.84284,     0.84384,     0.84484,     0.84585,     0.84685,     0.84785,     0.84885,     0.84985,     0.85085,     0.85185,     0.85285,     0.85385,     0.85485,     0.85586,     0.85686,     0.85786,     0.85886,     0.85986,     0.86086,     0.86186,     0.86286,     0.86386,\n",
       "           0.86486,     0.86587,     0.86687,     0.86787,     0.86887,     0.86987,     0.87087,     0.87187,     0.87287,     0.87387,     0.87487,     0.87588,     0.87688,     0.87788,     0.87888,     0.87988,     0.88088,     0.88188,     0.88288,     0.88388,     0.88488,     0.88589,     0.88689,     0.88789,\n",
       "           0.88889,     0.88989,     0.89089,     0.89189,     0.89289,     0.89389,     0.89489,      0.8959,      0.8969,      0.8979,      0.8989,      0.8999,      0.9009,      0.9019,      0.9029,      0.9039,      0.9049,     0.90591,     0.90691,     0.90791,     0.90891,     0.90991,     0.91091,     0.91191,\n",
       "           0.91291,     0.91391,     0.91491,     0.91592,     0.91692,     0.91792,     0.91892,     0.91992,     0.92092,     0.92192,     0.92292,     0.92392,     0.92492,     0.92593,     0.92693,     0.92793,     0.92893,     0.92993,     0.93093,     0.93193,     0.93293,     0.93393,     0.93493,     0.93594,\n",
       "           0.93694,     0.93794,     0.93894,     0.93994,     0.94094,     0.94194,     0.94294,     0.94394,     0.94494,     0.94595,     0.94695,     0.94795,     0.94895,     0.94995,     0.95095,     0.95195,     0.95295,     0.95395,     0.95495,     0.95596,     0.95696,     0.95796,     0.95896,     0.95996,\n",
       "           0.96096,     0.96196,     0.96296,     0.96396,     0.96496,     0.96597,     0.96697,     0.96797,     0.96897,     0.96997,     0.97097,     0.97197,     0.97297,     0.97397,     0.97497,     0.97598,     0.97698,     0.97798,     0.97898,     0.97998,     0.98098,     0.98198,     0.98298,     0.98398,\n",
       "           0.98498,     0.98599,     0.98699,     0.98799,     0.98899,     0.98999,     0.99099,     0.99199,     0.99299,     0.99399,     0.99499,       0.996,       0.997,       0.998,       0.999,           1]), array([[          1,           1,           1,           1,           1,           1,           1,           1,           1,           1,           1,           1,           1,           1,           1,           1,           1,           1,           1,           1,           1,           1,           1,\n",
       "                  1,           1,           1,           1,           1,           1,           1,           1,           1,           1,           1,           1,           1,           1,           1,           1,           1,           1,           1,           1,           1,           1,           1,\n",
       "                  1,           1,           1,           1,           1,           1,           1,           1,           1,           1,           1,           1,           1,           1,           1,           1,           1,           1,           1,           1,           1,           1,           1,\n",
       "                  1,           1,           1,           1,           1,           1,           1,           1,           1,           1,           1,           1,           1,           1,           1,           1,           1,           1,           1,           1,           1,           1,           1,\n",
       "                  1,           1,           1,           1,           1,           1,           1,           1,           1,           1,           1,           1,           1,           1,           1,           1,           1,           1,           1,           1,           1,           1,           1,\n",
       "                  1,           1,           1,           1,           1,           1,           1,           1,           1,           1,           1,           1,           1,           1,           1,           1,           1,           1,           1,           1,           1,           1,           1,\n",
       "                  1,           1,           1,           1,           1,           1,           1,           1,           1,           1,           1,           1,           1,           1,           1,           1,           1,           1,           1,           1,           1,           1,           1,\n",
       "                  1,           1,           1,           1,           1,           1,           1,           1,           1,           1,           1,           1,           1,           1,           1,           1,           1,           1,           1,           1,           1,           1,           1,\n",
       "                  1,           1,           1,           1,           1,           1,           1,           1,           1,           1,           1,           1,           1,           1,           1,           1,           1,           1,           1,           1,           1,           1,           1,\n",
       "                  1,           1,           1,           1,           1,           1,           1,           1,           1,           1,           1,           1,           1,           1,           1,           1,           1,           1,           1,           1,           1,           1,           1,\n",
       "                  1,           1,           1,           1,           1,           1,           1,           1,           1,           1,           1,           1,           1,           1,           1,           1,           1,           1,           1,           1,           1,           1,           1,\n",
       "                  1,           1,           1,           1,           1,           1,           1,           1,           1,           1,           1,           1,           1,           1,           1,           1,           1,           1,           1,           1,           1,           1,           1,\n",
       "                  1,           1,           1,           1,           1,           1,           1,           1,           1,           1,           1,           1,           1,           1,           1,           1,           1,           1,           1,           1,           1,           1,           1,\n",
       "                  1,           1,           1,           1,           1,           1,           1,           1,           1,           1,           1,           1,           1,           1,           1,           1,           1,           1,           1,           1,           1,           1,           1,\n",
       "                  1,           1,           1,           1,           1,           1,           1,           1,           1,           1,           1,           1,           1,           1,           1,           1,           1,           1,           1,           1,           1,           1,           1,\n",
       "                  1,           1,           1,           1,           1,           1,           1,           1,           1,           1,           1,           1,           1,           1,           1,           1,           1,           1,           1,           1,           1,           1,           1,\n",
       "                  1,           1,           1,           1,           1,           1,           1,           1,           1,           1,           1,           1,           1,           1,           1,           1,           1,           1,           1,           1,           1,           1,           1,\n",
       "                  1,           1,           1,           1,           1,           1,           1,           1,           1,           1,           1,           1,           1,           1,           1,           1,           1,           1,           1,           1,           1,           1,           1,\n",
       "                  1,           1,           1,           1,           1,           1,           1,           1,           1,           1,           1,           1,           1,           1,           1,           1,           1,           1,           1,           1,           1,           1,           1,\n",
       "                  1,           1,           1,           1,           1,           1,           1,           1,           1,           1,           1,           1,           1,           1,           1,           1,           1,           1,           1,           1,           1,           1,           1,\n",
       "                  1,           1,           1,           1,           1,           1,           1,           1,           1,           1,           1,           1,           1,           1,           1,           1,           1,           1,           1,           1,           1,           1,           1,\n",
       "                  1,           1,           1,           1,           1,           1,           1,           1,           1,           1,           1,           1,           1,           1,           1,           1,           1,           1,           1,           1,           1,           1,           1,\n",
       "                  1,           1,           1,           1,           1,           1,           1,           1,           1,           1,           1,           1,           1,           1,           1,           1,           1,           1,           1,           1,           1,           1,           1,\n",
       "                  1,           1,           1,           1,           1,           1,           1,           1,           1,           1,           1,           1,           1,           1,           1,           1,           1,           1,           1,           1,           1,           1,           1,\n",
       "                  1,           1,           1,           1,           1,           1,           1,           1,           1,           1,           1,           1,           1,           1,           1,           1,           1,           1,           1,           1,           1,           1,           1,\n",
       "                  1,           1,           1,           1,           1,           1,           1,           1,           1,           1,           1,           1,           1,           1,           1,           1,           1,           1,           1,           1,           1,           1,           1,\n",
       "                  1,           1,           1,           1,           1,           1,           1,           1,           1,           1,           1,           1,           1,           1,           1,           1,           1,           1,           1,           1,           1,           1,           1,\n",
       "                  1,           1,           1,           1,           1,           1,           1,           1,           1,           1,           1,           1,           1,           1,           1,           1,           1,           1,           1,           1,           1,           1,           1,\n",
       "                  1,           1,           1,           1,           1,           1,           1,           1,           1,           1,           1,           1,           1,           1,           1,           1,           1,           1,           1,           1,           1,           1,           1,\n",
       "                  1,           1,           1,           1,           1,           1,           1,           1,           1,           1,           1,           1,           1,           1,           1,           1,           1,           1,           1,           1,           1,           1,           1,\n",
       "                  1,           1,           1,           1,           1,           1,           1,           1,           1,           1,           1,           1,           1,           1,           1,           1,           1,           1,           1,           1,           1,           1,           1,\n",
       "                  1,           1,           1,           1,           1,           1,           1,           1,           1,           1,           1,           1,           1,           1,           1,           1,           1,           1,           1,           1,           1,           1,           1,\n",
       "                  1,           1,           1,           1,           1,           1,           1,           1,           1,           1,           1,           1,           1,           1,           1,           1,           1,           1,           1,           1,           1,           1,           1,\n",
       "                  1,           1,           1,           1,           1,           1,           1,           1,           1,           1,           1,           1,           1,           1,           1,           1,           1,           1,           1,           1,           1,           1,           1,\n",
       "                  1,           1,           1,           1,           1,           1,           1,           1,           1,           1,           1,           1,           1,           1,           1,           1,           1,           1,           1,           1,           1,           1,           1,\n",
       "                  1,           1,           1,           1,           1,           1,           1,           1,           1,           1,           1,           1,           1,           1,           1,           1,           1,           1,           1,           1,           1,           1,           1,\n",
       "                  1,           1,           1,           1,           1,           1,           1,           1,           1,           1,           1,           1,           1,           1,           1,           1,           1,           1,           1,           1,           1,           1,           1,\n",
       "                  1,           1,           1,           1,           1,           1,           1,           1,           1,           1,           1,           1,           1,           1,           1,           1,           1,           1,           1,           1,           1,           1,           1,\n",
       "                  1,           1,           1,           1,           1,           1,           1,           1,           1,           1,           1,           1,           1,           1,           1,           1,           1,           1,           1,           1,           1,           1,           1,\n",
       "                  1,           1,           1,           1,           1,           1,           1,           1,           1,           1,           1,           1,           1,           1,           1,           1,           1,           1,           1,           1,           1,           1,           1,\n",
       "                  1,           1,           1,           1,           1,           1,           1,           1,           1,           1,           1,           1,           1,           1,           1,           1,           1,           1,           1,           1,           1,           1,           1,\n",
       "                  1,           1,           1,           1,           1,           1,           1,           1,           1,           1,           1,     0.99792,     0.99678,     0.97525,      0.9185,     0.86842,     0.79167,     0.66492,     0.57817,     0.42475,       0.338,     0.27959,      0.2495,\n",
       "            0.21442,     0.19767,     0.16759,      0.1575,     0.13909,       0.109,    0.090586,    0.077169,    0.057085,    0.040335,    0.025252,    0.011835,   0.0017518,           0,           0,           0,           0,           0,           0,           0,           0,           0,           0,\n",
       "                  0,           0,           0,           0,           0,           0,           0,           0,           0,           0,           0]]), 'Confidence', 'Recall']]\n",
       "fitness: 0.992964966342359\n",
       "keys: ['metrics/precision(B)', 'metrics/recall(B)', 'metrics/mAP50(B)', 'metrics/mAP50-95(B)']\n",
       "maps: array([    0.99274])\n",
       "names: {0: 'Reaction_Zone'}\n",
       "plot: True\n",
       "results_dict: {'metrics/precision(B)': 0.9999123172261652, 'metrics/recall(B)': 1.0, 'metrics/mAP50(B)': 0.995, 'metrics/mAP50-95(B)': 0.99273885149151, 'fitness': 0.992964966342359}\n",
       "save_dir: WindowsPath('runs/detect/train')\n",
       "speed: {'preprocess': 0.05811055501302083, 'inference': 0.6369237105051677, 'loss': 0.0, 'postprocess': 1.2323339780171714}\n",
       "task: 'detect'"
      ]
     },
     "execution_count": 4,
     "metadata": {},
     "output_type": "execute_result"
    }
   ],
   "source": [
    "model.train(data='C:/Users/smallBird/Desktop/OT/EXP12_Yolo/data.yaml',epochs=50,imgsz=96) #,imgsz=160"
   ]
  },
  {
   "cell_type": "code",
   "execution_count": 5,
   "id": "3fc941e2",
   "metadata": {},
   "outputs": [
    {
     "name": "stdout",
     "output_type": "stream",
     "text": [
      "<class 'dict'> 1\n"
     ]
    }
   ],
   "source": [
    "print(type(model.names), len(model.names))"
   ]
  },
  {
   "cell_type": "code",
   "execution_count": 6,
   "id": "6d34a144",
   "metadata": {},
   "outputs": [
    {
     "name": "stdout",
     "output_type": "stream",
     "text": [
      "{0: 'Reaction_Zone'}\n"
     ]
    }
   ],
   "source": [
    "print(model.names)"
   ]
  },
  {
   "cell_type": "code",
   "execution_count": 7,
   "id": "bf4e0d98",
   "metadata": {},
   "outputs": [
    {
     "name": "stdout",
     "output_type": "stream",
     "text": [
      "\n",
      "image 1/300 C:\\Users\\smallBird\\Desktop\\OT\\EXP12_Yolo\\test\\images\\cap103_5918151d-1cf0-48f3-8cb2-947e45526152_jpg.rf.08f78ee84f1004353b23bf3e1a2d6d92.jpg: 96x96 1 Reaction_Zone, 10.0ms\n",
      "image 2/300 C:\\Users\\smallBird\\Desktop\\OT\\EXP12_Yolo\\test\\images\\cap11_ab6a5e66-3c0b-4b53-beb1-b2a11f9862e4_jpg.rf.84c9525f3e36cfbb7b08a83da4bdede3.jpg: 96x96 1 Reaction_Zone, 13.0ms\n",
      "image 3/300 C:\\Users\\smallBird\\Desktop\\OT\\EXP12_Yolo\\test\\images\\cap149_b9eec068-f5e7-4509-91d7-9e25d24834ef_jpg.rf.a9bce9c73f24f8ab5faaecb841a307ec.jpg: 96x96 1 Reaction_Zone, 9.9ms\n",
      "image 4/300 C:\\Users\\smallBird\\Desktop\\OT\\EXP12_Yolo\\test\\images\\cap14_89dc68a3-ea5d-4244-aaf8-de1fc05b70fd_jpg.rf.caf10e4c620fa564a0163791fd6cf6c8.jpg: 96x96 1 Reaction_Zone, 10.0ms\n",
      "image 5/300 C:\\Users\\smallBird\\Desktop\\OT\\EXP12_Yolo\\test\\images\\cap159_951cdfd1-35af-47a3-961f-9655ae0afe1c_jpg.rf.e0b3c8fe98f075af09fc3887f37fc6fb.jpg: 96x96 1 Reaction_Zone, 10.0ms\n",
      "image 6/300 C:\\Users\\smallBird\\Desktop\\OT\\EXP12_Yolo\\test\\images\\cap161_a36b9d71-10b5-4949-b1de-d053c8062905_jpg.rf.7a3f28c18939937dc8183cb02b23ee4a.jpg: 96x96 1 Reaction_Zone, 8.0ms\n",
      "image 7/300 C:\\Users\\smallBird\\Desktop\\OT\\EXP12_Yolo\\test\\images\\cap170_7294fb2e-dc0e-4ca0-bf52-4066716bb5f1_jpg.rf.2c1b335b7fd3782bd75dba9def49c4c7.jpg: 96x96 1 Reaction_Zone, 9.0ms\n",
      "image 8/300 C:\\Users\\smallBird\\Desktop\\OT\\EXP12_Yolo\\test\\images\\cap186_4a6768fa-3bc7-4e81-b16c-c949a07c74fe_jpg.rf.7308a5bdb170cead017178282fb16df6.jpg: 96x96 1 Reaction_Zone, 8.0ms\n",
      "image 9/300 C:\\Users\\smallBird\\Desktop\\OT\\EXP12_Yolo\\test\\images\\cap200_71606fee-7b21-45a8-baf7-93bd91124658_jpg.rf.0a286d51ef819dba5084af798e780843.jpg: 96x96 1 Reaction_Zone, 8.0ms\n",
      "image 10/300 C:\\Users\\smallBird\\Desktop\\OT\\EXP12_Yolo\\test\\images\\cap205_dc42593b-cc4e-499d-b47e-010c589c0ea1_jpg.rf.4e969a29fb8afd97bf8bcca97ddda2fd.jpg: 96x96 1 Reaction_Zone, 10.0ms\n",
      "image 11/300 C:\\Users\\smallBird\\Desktop\\OT\\EXP12_Yolo\\test\\images\\cap216_8e04c99e-b77f-4c4c-854a-34097224cf02_jpg.rf.88ed04428e8af737807f2c23f057baea.jpg: 96x96 1 Reaction_Zone, 9.0ms\n",
      "image 12/300 C:\\Users\\smallBird\\Desktop\\OT\\EXP12_Yolo\\test\\images\\cap222_b18dedf3-d4df-40cc-9b43-f6cc1b8b5f26_jpg.rf.42437cda03a8bc45666f9d6a1468d545.jpg: 96x96 1 Reaction_Zone, 10.0ms\n",
      "image 13/300 C:\\Users\\smallBird\\Desktop\\OT\\EXP12_Yolo\\test\\images\\cap22_b6c089c5-b0b1-4b6f-97ae-69a2c4ca648d_jpg.rf.20674a9404590b46d9f72a4cc003011d.jpg: 96x96 1 Reaction_Zone, 11.0ms\n",
      "image 14/300 C:\\Users\\smallBird\\Desktop\\OT\\EXP12_Yolo\\test\\images\\cap253_e11d21d3-62a1-4c31-8f4e-a152d056ebcc_jpg.rf.a6a9a1b315c70a3df8772dfd54213789.jpg: 96x96 1 Reaction_Zone, 10.0ms\n",
      "image 15/300 C:\\Users\\smallBird\\Desktop\\OT\\EXP12_Yolo\\test\\images\\cap266_bc149b35-e4f5-49f7-a795-09bca59c7865_jpg.rf.4d4f52ac01dc31a45a733404d3c1a732.jpg: 96x96 1 Reaction_Zone, 12.7ms\n",
      "image 16/300 C:\\Users\\smallBird\\Desktop\\OT\\EXP12_Yolo\\test\\images\\cap270_61bcf373-e31e-4732-8337-1b4176252ecf_jpg.rf.eb9ebc189982ade61f28bf1ae106c680.jpg: 96x96 1 Reaction_Zone, 9.0ms\n",
      "image 17/300 C:\\Users\\smallBird\\Desktop\\OT\\EXP12_Yolo\\test\\images\\cap285_2e5f2ae8-8379-4e08-aeca-0be65e1edc38_jpg.rf.e814120a88dba33c9f442a7c0b602db9.jpg: 96x96 1 Reaction_Zone, 7.0ms\n",
      "image 18/300 C:\\Users\\smallBird\\Desktop\\OT\\EXP12_Yolo\\test\\images\\cap292_c16d4616-b393-43f0-9d26-5dc60c116b48_jpg.rf.1864003c53b300694872cca1edeb5f5b.jpg: 96x96 1 Reaction_Zone, 8.0ms\n",
      "image 19/300 C:\\Users\\smallBird\\Desktop\\OT\\EXP12_Yolo\\test\\images\\cap294_448b7686-8080-4fd7-82a2-e72385535e71_jpg.rf.e7b3570e5615240886f00dce582236b3.jpg: 96x96 1 Reaction_Zone, 9.0ms\n",
      "image 20/300 C:\\Users\\smallBird\\Desktop\\OT\\EXP12_Yolo\\test\\images\\cap302_ae705050-d09a-41ae-97b6-96d5e8606826_jpg.rf.15485e29c97fa254d265226ae4fcd54b.jpg: 96x96 1 Reaction_Zone, 10.0ms\n",
      "image 21/300 C:\\Users\\smallBird\\Desktop\\OT\\EXP12_Yolo\\test\\images\\cap305_34fb5553-81a9-459e-b994-92f5692f8d55_jpg.rf.03463acb9f6efff25335559893bc3a1e.jpg: 96x96 1 Reaction_Zone, 8.0ms\n",
      "image 22/300 C:\\Users\\smallBird\\Desktop\\OT\\EXP12_Yolo\\test\\images\\cap309_ce938bde-56d2-4eca-b3e6-e1e9e7c456fe_jpg.rf.43eea3d947d7882c99ed2e27954bc4b5.jpg: 96x96 1 Reaction_Zone, 8.0ms\n",
      "image 23/300 C:\\Users\\smallBird\\Desktop\\OT\\EXP12_Yolo\\test\\images\\cap312_3f952cdf-8b57-450e-a609-e759ba8e3140_jpg.rf.7e8167bf39c039a2a3af4442b4c6814b.jpg: 96x96 1 Reaction_Zone, 10.0ms\n",
      "image 24/300 C:\\Users\\smallBird\\Desktop\\OT\\EXP12_Yolo\\test\\images\\cap328_0567cee4-d0dd-4d0b-ab8d-bf729d96f166_jpg.rf.a2a7be70bac8f55533d1527041fe1bcf.jpg: 96x96 1 Reaction_Zone, 12.0ms\n",
      "image 25/300 C:\\Users\\smallBird\\Desktop\\OT\\EXP12_Yolo\\test\\images\\cap338_fecd88fd-8cc8-4f7f-b848-34cd8bdbb09b_jpg.rf.a3cfb7a63f0ca8339da6fd404dec23c4.jpg: 96x96 1 Reaction_Zone, 11.0ms\n",
      "image 26/300 C:\\Users\\smallBird\\Desktop\\OT\\EXP12_Yolo\\test\\images\\cap371_e62e6b9f-4149-4bbd-a0fd-1a8449571123_jpg.rf.bfeaa2302c3f580890d757462125ddfb.jpg: 96x96 1 Reaction_Zone, 11.8ms\n",
      "image 27/300 C:\\Users\\smallBird\\Desktop\\OT\\EXP12_Yolo\\test\\images\\cap375_a3f51c8c-fda9-4896-ad59-e097b5b4ada1_jpg.rf.98df365654c1ef25cad70bb862e9f950.jpg: 96x96 1 Reaction_Zone, 9.0ms\n",
      "image 28/300 C:\\Users\\smallBird\\Desktop\\OT\\EXP12_Yolo\\test\\images\\cap378_c2dc7eaf-bcb0-4c17-a94c-fd366e9919cc_jpg.rf.79d5448442a027266fdf57b53ca00e6c.jpg: 96x96 1 Reaction_Zone, 10.0ms\n",
      "image 29/300 C:\\Users\\smallBird\\Desktop\\OT\\EXP12_Yolo\\test\\images\\cap390_ad17be84-e82d-42a2-bd04-e4f35cdb9b1c_jpg.rf.842cc8cefb7dedb854a683e8b9bc8555.jpg: 96x96 1 Reaction_Zone, 10.0ms\n",
      "image 30/300 C:\\Users\\smallBird\\Desktop\\OT\\EXP12_Yolo\\test\\images\\cap391_9fa5ae94-7e7f-4689-8c8c-687bb3ae69b0_jpg.rf.2475ac891b092e3e349de330bbaece5e.jpg: 96x96 1 Reaction_Zone, 12.0ms\n",
      "image 31/300 C:\\Users\\smallBird\\Desktop\\OT\\EXP12_Yolo\\test\\images\\cap398_53c0ff78-7d2c-4990-9b51-77ca3d1c2472_jpg.rf.70ec848c1fac06ff03bfe76416d7b391.jpg: 96x96 1 Reaction_Zone, 10.6ms\n",
      "image 32/300 C:\\Users\\smallBird\\Desktop\\OT\\EXP12_Yolo\\test\\images\\cap409_10c25d2a-8047-4879-bc66-7377ddae7cbd_jpg.rf.2839402c2a56c6ee4460b61f1eaa02be.jpg: 96x96 1 Reaction_Zone, 10.0ms\n",
      "image 33/300 C:\\Users\\smallBird\\Desktop\\OT\\EXP12_Yolo\\test\\images\\cap414_47d17ebc-e028-4804-8106-604de55be2b1_jpg.rf.04c1386bc05df5c019b4c236b3a6eb14.jpg: 96x96 1 Reaction_Zone, 10.0ms\n",
      "image 34/300 C:\\Users\\smallBird\\Desktop\\OT\\EXP12_Yolo\\test\\images\\cap421_91cd4ce2-745e-4cb2-a9c3-386b9489bc3b_jpg.rf.1373c86f3427f2894084696bae78a398.jpg: 96x96 1 Reaction_Zone, 11.0ms\n",
      "image 35/300 C:\\Users\\smallBird\\Desktop\\OT\\EXP12_Yolo\\test\\images\\cap43_0e969cdc-9812-45a2-a340-289d6cd7d09c_jpg.rf.0a1642f5812b08bf27bec6d7a51ad0a8.jpg: 96x96 1 Reaction_Zone, 10.0ms\n",
      "image 36/300 C:\\Users\\smallBird\\Desktop\\OT\\EXP12_Yolo\\test\\images\\cap442_21ad8b7a-14c3-4060-b438-0b86529e6223_jpg.rf.3d95342e65c983e2dea8d0f52d6e9446.jpg: 96x96 1 Reaction_Zone, 10.0ms\n",
      "image 37/300 C:\\Users\\smallBird\\Desktop\\OT\\EXP12_Yolo\\test\\images\\cap444_81c11304-dcf8-4267-b222-94de7039cebf_jpg.rf.c1002d58595a7849c06eb74843fe79f7.jpg: 96x96 1 Reaction_Zone, 12.0ms\n",
      "image 38/300 C:\\Users\\smallBird\\Desktop\\OT\\EXP12_Yolo\\test\\images\\cap45_9b51d1b4-325c-480f-9837-1c3a4643a77c_jpg.rf.7156661b313f7b0d3628602b638c3f0e.jpg: 96x96 1 Reaction_Zone, 8.0ms\n",
      "image 39/300 C:\\Users\\smallBird\\Desktop\\OT\\EXP12_Yolo\\test\\images\\cap470_10856eed-b9b6-48ef-8a31-cd13be3c42e9_jpg.rf.cac6cb2718bd5c530b588edd3b3b73e9.jpg: 96x96 1 Reaction_Zone, 14.0ms\n",
      "image 40/300 C:\\Users\\smallBird\\Desktop\\OT\\EXP12_Yolo\\test\\images\\cap48_0328f84b-030d-4beb-8d69-fc0e5693479c_jpg.rf.670233cb926ffa59ed897441a28fd093.jpg: 96x96 1 Reaction_Zone, 15.0ms\n",
      "image 41/300 C:\\Users\\smallBird\\Desktop\\OT\\EXP12_Yolo\\test\\images\\cap4_cce8a285-e4d6-4b20-bf54-aad5668e2b28_jpg.rf.00c203703589d5972c332c7eb1c07b6d.jpg: 96x96 1 Reaction_Zone, 13.4ms\n",
      "image 42/300 C:\\Users\\smallBird\\Desktop\\OT\\EXP12_Yolo\\test\\images\\cap501_0f186eec-cbf5-4b19-a630-1bc9a0a3b048_jpg.rf.49fc463577f29ae814392681a349bec2.jpg: 96x96 1 Reaction_Zone, 13.0ms\n",
      "image 43/300 C:\\Users\\smallBird\\Desktop\\OT\\EXP12_Yolo\\test\\images\\cap519_bb50fff3-f8ae-41f8-80c1-30b836c78d82_jpg.rf.2d8f5792700dcd3297960d4d14706644.jpg: 96x96 1 Reaction_Zone, 13.0ms\n",
      "image 44/300 C:\\Users\\smallBird\\Desktop\\OT\\EXP12_Yolo\\test\\images\\cap524_c6a962d0-25b2-4733-a047-19354e6f1cfe_jpg.rf.13ffedd09a7eef63427628928b6b8b14.jpg: 96x96 1 Reaction_Zone, 30.9ms\n",
      "image 45/300 C:\\Users\\smallBird\\Desktop\\OT\\EXP12_Yolo\\test\\images\\cap525_95bdf8f7-f715-4b12-a86f-da02392862ad_jpg.rf.b40649d87f6ef6ad01bea17c5ac7230e.jpg: 96x96 1 Reaction_Zone, 37.9ms\n"
     ]
    },
    {
     "name": "stdout",
     "output_type": "stream",
     "text": [
      "image 46/300 C:\\Users\\smallBird\\Desktop\\OT\\EXP12_Yolo\\test\\images\\cap526_7450d85e-91d6-46f1-8e09-5d803a150dd8_jpg.rf.982baff14e73dc3b3a087ba9981597d7.jpg: 96x96 1 Reaction_Zone, 19.9ms\n",
      "image 47/300 C:\\Users\\smallBird\\Desktop\\OT\\EXP12_Yolo\\test\\images\\cap537_7eecb503-a2aa-467f-b7d9-7591226aef34_jpg.rf.d9943d8843e6d8218aa93359368a7019.jpg: 96x96 1 Reaction_Zone, 10.0ms\n",
      "image 48/300 C:\\Users\\smallBird\\Desktop\\OT\\EXP12_Yolo\\test\\images\\cap543_f05d80c6-da68-4a28-b909-7f664113d62c_jpg.rf.c99e5203c7c185621bc26a20a9e226bc.jpg: 96x96 1 Reaction_Zone, 13.0ms\n",
      "image 49/300 C:\\Users\\smallBird\\Desktop\\OT\\EXP12_Yolo\\test\\images\\cap555_0ba68470-a4a3-4948-a6b3-2a7f1dc5d6e2_jpg.rf.871427f8c8b679f37f2f5b23471346bc.jpg: 96x96 1 Reaction_Zone, 9.0ms\n",
      "image 50/300 C:\\Users\\smallBird\\Desktop\\OT\\EXP12_Yolo\\test\\images\\cap569_f2302631-7339-4935-bce6-769b6ad733ea_jpg.rf.dd9b094781af23a8995c5c1d088679c8.jpg: 96x96 1 Reaction_Zone, 11.0ms\n",
      "image 51/300 C:\\Users\\smallBird\\Desktop\\OT\\EXP12_Yolo\\test\\images\\cap576_668451dd-f0ab-4df5-bada-73e83c38944c_jpg.rf.44ddf376f809ab02742ae97449922ba3.jpg: 96x96 1 Reaction_Zone, 14.0ms\n",
      "image 52/300 C:\\Users\\smallBird\\Desktop\\OT\\EXP12_Yolo\\test\\images\\cap582_06843851-5860-4834-bf3c-dd6595c9f77f_jpg.rf.3e363d66bbeb93a119c86d0d5a90a974.jpg: 96x96 1 Reaction_Zone, 14.0ms\n",
      "image 53/300 C:\\Users\\smallBird\\Desktop\\OT\\EXP12_Yolo\\test\\images\\cap594_e3a26394-8130-411c-9f26-d1b75c257198_jpg.rf.a1b34d874b11d841dbf007d155fd853a.jpg: 96x96 1 Reaction_Zone, 14.0ms\n",
      "image 54/300 C:\\Users\\smallBird\\Desktop\\OT\\EXP12_Yolo\\test\\images\\cap604_47735338-a153-4f3a-98f0-1f6357ba5be2_jpg.rf.2708fc66b5f3cc14301f55dccc24f3a2.jpg: 96x96 1 Reaction_Zone, 11.0ms\n",
      "image 55/300 C:\\Users\\smallBird\\Desktop\\OT\\EXP12_Yolo\\test\\images\\cap609_3fdba415-8109-4696-8508-6185a6978895_jpg.rf.2ff6fca6a2a46fd643cb5461de793983.jpg: 96x96 1 Reaction_Zone, 9.0ms\n",
      "image 56/300 C:\\Users\\smallBird\\Desktop\\OT\\EXP12_Yolo\\test\\images\\cap611_c6a7f662-a103-4d0e-b92b-1ca9c9396d6a_jpg.rf.cd1183b0aa260253e74d9552fbd3ad05.jpg: 96x96 1 Reaction_Zone, 11.0ms\n",
      "image 57/300 C:\\Users\\smallBird\\Desktop\\OT\\EXP12_Yolo\\test\\images\\cap612_9609b1b7-3c9c-4508-ad75-afbc941356fe_jpg.rf.6ed8e74b65a549979fed67c62aa7c80b.jpg: 96x96 1 Reaction_Zone, 13.0ms\n",
      "image 58/300 C:\\Users\\smallBird\\Desktop\\OT\\EXP12_Yolo\\test\\images\\cap625_94e318ef-29ce-4012-b052-1e8bf66c0bc6_jpg.rf.a5b2b7888c5c6da1c4202bba4ddfe4d5.jpg: 96x96 1 Reaction_Zone, 14.0ms\n",
      "image 59/300 C:\\Users\\smallBird\\Desktop\\OT\\EXP12_Yolo\\test\\images\\cap62_700e1efa-c7d8-4608-8c71-ac493e9a800f_jpg.rf.7fadd3b1cf9e6a206aeb3dc689eca9d9.jpg: 96x96 1 Reaction_Zone, 9.0ms\n",
      "image 60/300 C:\\Users\\smallBird\\Desktop\\OT\\EXP12_Yolo\\test\\images\\cap633_951da042-61a0-41fc-a053-a96f67555d43_jpg.rf.4a243536d9c75d2021c34deaeb88e833.jpg: 96x96 1 Reaction_Zone, 12.0ms\n",
      "image 61/300 C:\\Users\\smallBird\\Desktop\\OT\\EXP12_Yolo\\test\\images\\cap634_b75f424b-7a83-40e6-af70-5bad3119929f_jpg.rf.1a82e0a9d4f059bbc01da1c23d520227.jpg: 96x96 1 Reaction_Zone, 10.0ms\n",
      "image 62/300 C:\\Users\\smallBird\\Desktop\\OT\\EXP12_Yolo\\test\\images\\cap645_df40d985-6e15-4a87-9bca-b6a237d22fec_jpg.rf.d9cb7fa461f352a551d44a189a2527a8.jpg: 96x96 1 Reaction_Zone, 10.0ms\n",
      "image 63/300 C:\\Users\\smallBird\\Desktop\\OT\\EXP12_Yolo\\test\\images\\cap660_705ba290-1d9b-456a-9a8b-79cc942b73f1_jpg.rf.88df416a1feb2c40e8965d2d267f84be.jpg: 96x96 1 Reaction_Zone, 9.0ms\n",
      "image 64/300 C:\\Users\\smallBird\\Desktop\\OT\\EXP12_Yolo\\test\\images\\cap664_cd0b7350-9bcc-4f45-b10b-4a54f77f9a45_jpg.rf.93b099b7d47f415e8fff2a7a6675f1eb.jpg: 96x96 1 Reaction_Zone, 10.0ms\n",
      "image 65/300 C:\\Users\\smallBird\\Desktop\\OT\\EXP12_Yolo\\test\\images\\cap67_f8a1e2a0-1e62-41c4-8437-c5dc5bc2d196_jpg.rf.b677ee974d251b57b0ed6138d5c3399d.jpg: 96x96 1 Reaction_Zone, 13.0ms\n",
      "image 66/300 C:\\Users\\smallBird\\Desktop\\OT\\EXP12_Yolo\\test\\images\\cap688_99541c68-a4b7-400d-99b4-3ff61bfae2c7_jpg.rf.8f2ab334af521c78206eae6cc1ae6f30.jpg: 96x96 1 Reaction_Zone, 12.0ms\n",
      "image 67/300 C:\\Users\\smallBird\\Desktop\\OT\\EXP12_Yolo\\test\\images\\cap701_16a4c27b-1e0a-4e5a-9886-db5baf136b23_jpg.rf.31cbc173da47e2f0651feae324e0cd6b.jpg: 96x96 1 Reaction_Zone, 11.0ms\n",
      "image 68/300 C:\\Users\\smallBird\\Desktop\\OT\\EXP12_Yolo\\test\\images\\cap710_a38bdb1d-f92a-41ff-9b8f-f41823f1570e_jpg.rf.059c7cba9344973325f6432f957c48e1.jpg: 96x96 1 Reaction_Zone, 12.0ms\n",
      "image 69/300 C:\\Users\\smallBird\\Desktop\\OT\\EXP12_Yolo\\test\\images\\cap712_b9f044df-6e45-4170-9ed5-733c643be94f_jpg.rf.6dd4775c07daba47ceef022d3f29f372.jpg: 96x96 1 Reaction_Zone, 13.0ms\n",
      "image 70/300 C:\\Users\\smallBird\\Desktop\\OT\\EXP12_Yolo\\test\\images\\cap717_d6de0cbd-22b3-46f3-b47d-0025c5a852ff_jpg.rf.0fd134a05f5e372a882e4d8d4337fc19.jpg: 96x96 1 Reaction_Zone, 11.0ms\n",
      "image 71/300 C:\\Users\\smallBird\\Desktop\\OT\\EXP12_Yolo\\test\\images\\cap722_9944d202-c103-4830-ab60-830bb7d53e37_jpg.rf.37ad6a9af9eee44df44352d677b44f77.jpg: 96x96 1 Reaction_Zone, 11.0ms\n",
      "image 72/300 C:\\Users\\smallBird\\Desktop\\OT\\EXP12_Yolo\\test\\images\\cap754_d66cd405-8197-4820-9801-a1cf01690676_jpg.rf.744865d2cd4e1eb9d6d653f028c3c530.jpg: 96x96 1 Reaction_Zone, 11.0ms\n",
      "image 73/300 C:\\Users\\smallBird\\Desktop\\OT\\EXP12_Yolo\\test\\images\\cap7_75135dd1-49e8-40cf-9734-fbc87914abb1_jpg.rf.f4fbba1a512fa1106361da5c1c93da17.jpg: 96x96 1 Reaction_Zone, 10.0ms\n",
      "image 74/300 C:\\Users\\smallBird\\Desktop\\OT\\EXP12_Yolo\\test\\images\\cap841_56ddd09e-934e-467c-8a56-76a78a1e393f_jpg.rf.2dbdd852dcd6ba28e5b19e3248f47dee.jpg: 96x96 1 Reaction_Zone, 14.0ms\n",
      "image 75/300 C:\\Users\\smallBird\\Desktop\\OT\\EXP12_Yolo\\test\\images\\cap853_0ff169e6-6997-4bde-bee5-e84c863fe674_jpg.rf.69e39f4de891e3e333e9509e44c0f530.jpg: 96x96 1 Reaction_Zone, 14.0ms\n",
      "image 76/300 C:\\Users\\smallBird\\Desktop\\OT\\EXP12_Yolo\\test\\images\\cap857_0cfe9a5a-8e3d-4c02-8162-a693d67e85b4_jpg.rf.d51fb5c63c271f2aa17c2e18dd654d29.jpg: 96x96 1 Reaction_Zone, 11.0ms\n",
      "image 77/300 C:\\Users\\smallBird\\Desktop\\OT\\EXP12_Yolo\\test\\images\\cap868_60599650-b7d6-4884-a2cd-d4db3232869a_jpg.rf.4f35104192ca74dcd3a8caff177ab82a.jpg: 96x96 1 Reaction_Zone, 8.0ms\n",
      "image 78/300 C:\\Users\\smallBird\\Desktop\\OT\\EXP12_Yolo\\test\\images\\cap86_775eed9c-8a62-4c5f-af7b-b562aa48601f_jpg.rf.10bcca8c1a2a806a784dbfce25d1bc6b.jpg: 96x96 1 Reaction_Zone, 8.0ms\n",
      "image 79/300 C:\\Users\\smallBird\\Desktop\\OT\\EXP12_Yolo\\test\\images\\cap879_77de0c74-4331-4e6a-ae76-81e854549f97_jpg.rf.bab39743f18c254ee046f03206ebbf72.jpg: 96x96 1 Reaction_Zone, 10.0ms\n",
      "image 80/300 C:\\Users\\smallBird\\Desktop\\OT\\EXP12_Yolo\\test\\images\\cap884_65aacdfc-cb58-4353-8e69-179cd66d1ede_jpg.rf.adff18ac93deb6ece4fb9a96ba17b1c6.jpg: 96x96 1 Reaction_Zone, 9.0ms\n",
      "image 81/300 C:\\Users\\smallBird\\Desktop\\OT\\EXP12_Yolo\\test\\images\\cap8_d7ca9035-080f-435c-8491-cb450516e320_jpg.rf.2e84c2f1b4b83c5a0f8805e4cf99d1ca.jpg: 96x96 1 Reaction_Zone, 11.0ms\n",
      "image 82/300 C:\\Users\\smallBird\\Desktop\\OT\\EXP12_Yolo\\test\\images\\cap90_34130cfe-de2a-4c5c-b327-50e633b21dd3_jpg.rf.4d3efdfd2811299f3e8e3d5ef85a0ff2.jpg: 96x96 1 Reaction_Zone, 12.0ms\n",
      "image 83/300 C:\\Users\\smallBird\\Desktop\\OT\\EXP12_Yolo\\test\\images\\cap912_9f29da77-979a-4921-ada7-f5608d133e31_jpg.rf.e2cc1fade6bd58a3d50ec165bdb6f795.jpg: 96x96 1 Reaction_Zone, 8.0ms\n",
      "image 84/300 C:\\Users\\smallBird\\Desktop\\OT\\EXP12_Yolo\\test\\images\\cap929_661a2c2e-420d-4627-95f2-f2eeedaf323b_jpg.rf.861bef3a3b8886e1863b9d51e6e1ef9c.jpg: 96x96 1 Reaction_Zone, 9.0ms\n",
      "image 85/300 C:\\Users\\smallBird\\Desktop\\OT\\EXP12_Yolo\\test\\images\\cap938_e358249b-5fe9-480f-a26c-074ddf07edf2_jpg.rf.4cd4ea1b5e3e75c8c3a53c7c95b99355.jpg: 96x96 1 Reaction_Zone, 9.0ms\n",
      "image 86/300 C:\\Users\\smallBird\\Desktop\\OT\\EXP12_Yolo\\test\\images\\cap940_1fea167c-c816-4344-9528-72d1c189807b_jpg.rf.1c79095a23230d881c14caec4ef27ca2.jpg: 96x96 1 Reaction_Zone, 8.0ms\n",
      "image 87/300 C:\\Users\\smallBird\\Desktop\\OT\\EXP12_Yolo\\test\\images\\cap949_56458d83-808a-4a07-92fd-f1f01d255dc4_jpg.rf.e2f2f60d943cf9dde23ced07a086eb21.jpg: 96x96 1 Reaction_Zone, 9.0ms\n",
      "image 88/300 C:\\Users\\smallBird\\Desktop\\OT\\EXP12_Yolo\\test\\images\\cap97_c5de9376-c16f-4c41-97a6-577dbc23001e_jpg.rf.35cf7f6ad73ac6d66fbab41d324183e3.jpg: 96x96 1 Reaction_Zone, 12.0ms\n",
      "image 89/300 C:\\Users\\smallBird\\Desktop\\OT\\EXP12_Yolo\\test\\images\\cap9_20b79e01-12e1-47c3-b7d1-46932159ee4e_jpg.rf.0242f26a1dae9468243d941e4bc5bb15.jpg: 96x96 1 Reaction_Zone, 11.0ms\n",
      "image 90/300 C:\\Users\\smallBird\\Desktop\\OT\\EXP12_Yolo\\test\\images\\v1_frame_10090_jpg.rf.58c218a2f8e856b16c46e2e57efd298a.jpg: 96x96 1 Reaction_Zone, 8.0ms\n"
     ]
    },
    {
     "name": "stdout",
     "output_type": "stream",
     "text": [
      "image 91/300 C:\\Users\\smallBird\\Desktop\\OT\\EXP12_Yolo\\test\\images\\v1_frame_10200_jpg.rf.e9fdadb546a06fcdc745fed946e0d24b.jpg: 96x96 1 Reaction_Zone, 8.0ms\n",
      "image 92/300 C:\\Users\\smallBird\\Desktop\\OT\\EXP12_Yolo\\test\\images\\v1_frame_10210_jpg.rf.0a5b0cba3361719bf28f719ebb0b5706.jpg: 96x96 1 Reaction_Zone, 11.5ms\n",
      "image 93/300 C:\\Users\\smallBird\\Desktop\\OT\\EXP12_Yolo\\test\\images\\v1_frame_10360_jpg.rf.ab4f4a17d494f7f462bf8a1645fdd292.jpg: 96x96 1 Reaction_Zone, 9.0ms\n",
      "image 94/300 C:\\Users\\smallBird\\Desktop\\OT\\EXP12_Yolo\\test\\images\\v1_frame_10440_jpg.rf.42f0f60df9bbb76d58012afbcd2d7f9f.jpg: 96x96 1 Reaction_Zone, 9.0ms\n",
      "image 95/300 C:\\Users\\smallBird\\Desktop\\OT\\EXP12_Yolo\\test\\images\\v1_frame_11725_jpg.rf.0d8991680281eeb3cd246948ba7b415a.jpg: 96x96 1 Reaction_Zone, 9.0ms\n",
      "image 96/300 C:\\Users\\smallBird\\Desktop\\OT\\EXP12_Yolo\\test\\images\\v1_frame_2243_jpg.rf.70513f04aa569dfbbf53e3e35d8b6d37.jpg: 96x96 1 Reaction_Zone, 10.0ms\n",
      "image 97/300 C:\\Users\\smallBird\\Desktop\\OT\\EXP12_Yolo\\test\\images\\v1_frame_2249_jpg.rf.7c166c89a55a29d338b41d0a90207adb.jpg: 96x96 1 Reaction_Zone, 11.0ms\n",
      "image 98/300 C:\\Users\\smallBird\\Desktop\\OT\\EXP12_Yolo\\test\\images\\v1_frame_2255_jpg.rf.cc920ea7aa99802b127c17479720e227.jpg: 96x96 1 Reaction_Zone, 10.0ms\n",
      "image 99/300 C:\\Users\\smallBird\\Desktop\\OT\\EXP12_Yolo\\test\\images\\v1_frame_2262_jpg.rf.41350f76201a180eef5071941a97a69f.jpg: 96x96 1 Reaction_Zone, 10.0ms\n",
      "image 100/300 C:\\Users\\smallBird\\Desktop\\OT\\EXP12_Yolo\\test\\images\\v1_frame_2275_jpg.rf.f9134c212e4fd33137e42c87e8cffb64.jpg: 96x96 1 Reaction_Zone, 10.9ms\n",
      "image 101/300 C:\\Users\\smallBird\\Desktop\\OT\\EXP12_Yolo\\test\\images\\v1_frame_2277_jpg.rf.4690f5579899cf7ad6de91c936cc227a.jpg: 96x96 1 Reaction_Zone, 8.0ms\n",
      "image 102/300 C:\\Users\\smallBird\\Desktop\\OT\\EXP12_Yolo\\test\\images\\v1_frame_2283_jpg.rf.a7512b696c449259dbcf2c38d596c249.jpg: 96x96 1 Reaction_Zone, 8.0ms\n",
      "image 103/300 C:\\Users\\smallBird\\Desktop\\OT\\EXP12_Yolo\\test\\images\\v1_frame_2285_jpg.rf.80bb7ddae73e1ef3f1c46947cfb058b8.jpg: 96x96 1 Reaction_Zone, 8.0ms\n",
      "image 104/300 C:\\Users\\smallBird\\Desktop\\OT\\EXP12_Yolo\\test\\images\\v1_frame_2292_jpg.rf.22e1c8b8a9f1400918a5cb5b4b044615.jpg: 96x96 1 Reaction_Zone, 10.0ms\n",
      "image 105/300 C:\\Users\\smallBird\\Desktop\\OT\\EXP12_Yolo\\test\\images\\v1_frame_2399_jpg.rf.3c69216be253dd73b238c4899bccb047.jpg: 96x96 1 Reaction_Zone, 10.0ms\n",
      "image 106/300 C:\\Users\\smallBird\\Desktop\\OT\\EXP12_Yolo\\test\\images\\v1_frame_2400_jpg.rf.95380f57d4b09973806b53d46e3d6f94.jpg: 96x96 1 Reaction_Zone, 11.0ms\n",
      "image 107/300 C:\\Users\\smallBird\\Desktop\\OT\\EXP12_Yolo\\test\\images\\v1_frame_2401_jpg.rf.17f41c24877980e9f48bd41ddc57ffb2.jpg: 96x96 1 Reaction_Zone, 10.0ms\n",
      "image 108/300 C:\\Users\\smallBird\\Desktop\\OT\\EXP12_Yolo\\test\\images\\v1_frame_2402_jpg.rf.af7595f6a98a341805c7d36027e607d5.jpg: 96x96 1 Reaction_Zone, 10.0ms\n",
      "image 109/300 C:\\Users\\smallBird\\Desktop\\OT\\EXP12_Yolo\\test\\images\\v1_frame_2405_jpg.rf.6a97eeccab3a9b6613695f7e93a8a436.jpg: 96x96 1 Reaction_Zone, 12.0ms\n",
      "image 110/300 C:\\Users\\smallBird\\Desktop\\OT\\EXP12_Yolo\\test\\images\\v1_frame_2421_jpg.rf.a84b668293c93abbd1208830297de5fc.jpg: 96x96 1 Reaction_Zone, 13.0ms\n",
      "image 111/300 C:\\Users\\smallBird\\Desktop\\OT\\EXP12_Yolo\\test\\images\\v1_frame_2422_jpg.rf.94883c9df3a124230db3e0af6aa5fe13.jpg: 96x96 1 Reaction_Zone, 9.0ms\n",
      "image 112/300 C:\\Users\\smallBird\\Desktop\\OT\\EXP12_Yolo\\test\\images\\v1_frame_2428_jpg.rf.26257e7a94bab4d91eec64b2bb0e7535.jpg: 96x96 1 Reaction_Zone, 8.0ms\n",
      "image 113/300 C:\\Users\\smallBird\\Desktop\\OT\\EXP12_Yolo\\test\\images\\v1_frame_2451_jpg.rf.3c7ca96677d2b039c2da1c1f2c8a2338.jpg: 96x96 1 Reaction_Zone, 9.0ms\n",
      "image 114/300 C:\\Users\\smallBird\\Desktop\\OT\\EXP12_Yolo\\test\\images\\v1_frame_2459_jpg.rf.d67ef281e366647c6097435a62f62ae6.jpg: 96x96 1 Reaction_Zone, 9.0ms\n",
      "image 115/300 C:\\Users\\smallBird\\Desktop\\OT\\EXP12_Yolo\\test\\images\\v1_frame_2478_jpg.rf.dae39ba872c7ed2c9ac85b60a2808a90.jpg: 96x96 1 Reaction_Zone, 9.0ms\n",
      "image 116/300 C:\\Users\\smallBird\\Desktop\\OT\\EXP12_Yolo\\test\\images\\v1_frame_2482_jpg.rf.18ee88318c2a4018003e720dfc0a4220.jpg: 96x96 1 Reaction_Zone, 10.0ms\n",
      "image 117/300 C:\\Users\\smallBird\\Desktop\\OT\\EXP12_Yolo\\test\\images\\v1_frame_2504_jpg.rf.21e1e050f3798fcc728b2e67c7a54f62.jpg: 96x96 1 Reaction_Zone, 11.0ms\n",
      "image 118/300 C:\\Users\\smallBird\\Desktop\\OT\\EXP12_Yolo\\test\\images\\v1_frame_2523_jpg.rf.6a66994a82d19aae7b5b3f65c3e1e99e.jpg: 96x96 1 Reaction_Zone, 10.0ms\n",
      "image 119/300 C:\\Users\\smallBird\\Desktop\\OT\\EXP12_Yolo\\test\\images\\v1_frame_2547_jpg.rf.882f83fc0f6aae3e281ffe04711b38b3.jpg: 96x96 1 Reaction_Zone, 9.0ms\n",
      "image 120/300 C:\\Users\\smallBird\\Desktop\\OT\\EXP12_Yolo\\test\\images\\v1_frame_3088_jpg.rf.920c22510097f6afbdc21e5e9211287e.jpg: 96x96 1 Reaction_Zone, 12.0ms\n",
      "image 121/300 C:\\Users\\smallBird\\Desktop\\OT\\EXP12_Yolo\\test\\images\\v1_frame_3089_jpg.rf.8bc85c8cd4a5365206bf4ca136692771.jpg: 96x96 1 Reaction_Zone, 11.0ms\n",
      "image 122/300 C:\\Users\\smallBird\\Desktop\\OT\\EXP12_Yolo\\test\\images\\v1_frame_3744_jpg.rf.9b17cc231d40d5524e86777e20c9db9d.jpg: 96x96 1 Reaction_Zone, 17.0ms\n",
      "image 123/300 C:\\Users\\smallBird\\Desktop\\OT\\EXP12_Yolo\\test\\images\\v1_frame_3748_jpg.rf.d5353f70c74cb82cdf0187c323c03fb7.jpg: 96x96 1 Reaction_Zone, 11.1ms\n",
      "image 124/300 C:\\Users\\smallBird\\Desktop\\OT\\EXP12_Yolo\\test\\images\\v1_frame_3751_jpg.rf.280dd2cc082f251125cc4ada71505bb6.jpg: 96x96 1 Reaction_Zone, 15.0ms\n",
      "image 125/300 C:\\Users\\smallBird\\Desktop\\OT\\EXP12_Yolo\\test\\images\\v1_frame_4034_jpg.rf.c74d4357c09753a2095ec197e6a299c1.jpg: 96x96 1 Reaction_Zone, 8.0ms\n",
      "image 126/300 C:\\Users\\smallBird\\Desktop\\OT\\EXP12_Yolo\\test\\images\\v1_frame_4037_jpg.rf.26270027d6f279c6dd58613fbc9c5d25.jpg: 96x96 1 Reaction_Zone, 11.0ms\n",
      "image 127/300 C:\\Users\\smallBird\\Desktop\\OT\\EXP12_Yolo\\test\\images\\v1_frame_4070_jpg.rf.2c71d6c5373938c01964c6f266069b1e.jpg: 96x96 1 Reaction_Zone, 9.0ms\n",
      "image 128/300 C:\\Users\\smallBird\\Desktop\\OT\\EXP12_Yolo\\test\\images\\v1_frame_4074_jpg.rf.c649a93c4c897154c186d08bccd31426.jpg: 96x96 1 Reaction_Zone, 10.0ms\n",
      "image 129/300 C:\\Users\\smallBird\\Desktop\\OT\\EXP12_Yolo\\test\\images\\v1_frame_4086_jpg.rf.f212ced677d7d6d485ea60babcf9e5c5.jpg: 96x96 1 Reaction_Zone, 9.0ms\n",
      "image 130/300 C:\\Users\\smallBird\\Desktop\\OT\\EXP12_Yolo\\test\\images\\v1_frame_4103_jpg.rf.292152755aff6da1abfc52daabb96b8e.jpg: 96x96 1 Reaction_Zone, 10.0ms\n",
      "image 131/300 C:\\Users\\smallBird\\Desktop\\OT\\EXP12_Yolo\\test\\images\\v1_frame_4111_jpg.rf.7f2561a927bb0733b0b0d4433e8122c8.jpg: 96x96 1 Reaction_Zone, 8.0ms\n",
      "image 132/300 C:\\Users\\smallBird\\Desktop\\OT\\EXP12_Yolo\\test\\images\\v1_frame_4116_jpg.rf.0d7301f3a7276964a5880bcf2e457ae1.jpg: 96x96 1 Reaction_Zone, 12.0ms\n",
      "image 133/300 C:\\Users\\smallBird\\Desktop\\OT\\EXP12_Yolo\\test\\images\\v1_frame_4117_jpg.rf.c4be3c74e79ffee5e130314d58eefc28.jpg: 96x96 1 Reaction_Zone, 9.0ms\n",
      "image 134/300 C:\\Users\\smallBird\\Desktop\\OT\\EXP12_Yolo\\test\\images\\v1_frame_4119_jpg.rf.a2771eb36c47ffe0095ff4b02e7822ee.jpg: 96x96 1 Reaction_Zone, 10.0ms\n",
      "image 135/300 C:\\Users\\smallBird\\Desktop\\OT\\EXP12_Yolo\\test\\images\\v1_frame_4129_jpg.rf.dd8dc81ad1eb577dbf79b64e7ef0aff2.jpg: 96x96 1 Reaction_Zone, 9.0ms\n",
      "image 136/300 C:\\Users\\smallBird\\Desktop\\OT\\EXP12_Yolo\\test\\images\\v1_frame_4131_jpg.rf.07f8b40885313b9cbdf7dd43d91126ff.jpg: 96x96 1 Reaction_Zone, 9.0ms\n",
      "image 137/300 C:\\Users\\smallBird\\Desktop\\OT\\EXP12_Yolo\\test\\images\\v1_frame_4134_jpg.rf.4b4303e42430a731cb10d242a9ca244d.jpg: 96x96 1 Reaction_Zone, 11.0ms\n",
      "image 138/300 C:\\Users\\smallBird\\Desktop\\OT\\EXP12_Yolo\\test\\images\\v1_frame_4145_jpg.rf.e44cb1ec9e6222cb821305ebd2cd8d99.jpg: 96x96 1 Reaction_Zone, 8.0ms\n",
      "image 139/300 C:\\Users\\smallBird\\Desktop\\OT\\EXP12_Yolo\\test\\images\\v1_frame_4167_jpg.rf.d3b8811239273c99ce99c73cec8077a4.jpg: 96x96 1 Reaction_Zone, 12.0ms\n",
      "image 140/300 C:\\Users\\smallBird\\Desktop\\OT\\EXP12_Yolo\\test\\images\\v1_frame_4185_jpg.rf.65d3fd0c3deab30af0f1a593307a3159.jpg: 96x96 1 Reaction_Zone, 9.0ms\n",
      "image 141/300 C:\\Users\\smallBird\\Desktop\\OT\\EXP12_Yolo\\test\\images\\v1_frame_4193_jpg.rf.d0dc5b26b6c290c2e0c57c030323a951.jpg: 96x96 1 Reaction_Zone, 9.0ms\n",
      "image 142/300 C:\\Users\\smallBird\\Desktop\\OT\\EXP12_Yolo\\test\\images\\v1_frame_4196_jpg.rf.2012b870ddce01009eee314f80dcf443.jpg: 96x96 1 Reaction_Zone, 8.0ms\n",
      "image 143/300 C:\\Users\\smallBird\\Desktop\\OT\\EXP12_Yolo\\test\\images\\v1_frame_4210_jpg.rf.17d60e9bed854a3ccdb5ce8cd9a16b2f.jpg: 96x96 1 Reaction_Zone, 8.0ms\n"
     ]
    },
    {
     "name": "stdout",
     "output_type": "stream",
     "text": [
      "image 144/300 C:\\Users\\smallBird\\Desktop\\OT\\EXP12_Yolo\\test\\images\\v1_frame_4213_jpg.rf.f8af892a4efe7fee93d5793b0c2fad20.jpg: 96x96 1 Reaction_Zone, 9.0ms\n",
      "image 145/300 C:\\Users\\smallBird\\Desktop\\OT\\EXP12_Yolo\\test\\images\\v1_frame_4227_jpg.rf.0440294cebb6fed78561ae45dd22d8c4.jpg: 96x96 1 Reaction_Zone, 11.0ms\n",
      "image 146/300 C:\\Users\\smallBird\\Desktop\\OT\\EXP12_Yolo\\test\\images\\v1_frame_4228_jpg.rf.3cee580f150ab42a3fe1397999551437.jpg: 96x96 1 Reaction_Zone, 9.0ms\n",
      "image 147/300 C:\\Users\\smallBird\\Desktop\\OT\\EXP12_Yolo\\test\\images\\v1_frame_4230_jpg.rf.c146a7bb753c7e418036c8018b6e2abf.jpg: 96x96 1 Reaction_Zone, 8.0ms\n",
      "image 148/300 C:\\Users\\smallBird\\Desktop\\OT\\EXP12_Yolo\\test\\images\\v1_frame_4249_jpg.rf.5df80dc2e5d85943cb0735e1fe1ffbee.jpg: 96x96 1 Reaction_Zone, 8.0ms\n",
      "image 149/300 C:\\Users\\smallBird\\Desktop\\OT\\EXP12_Yolo\\test\\images\\v1_frame_4282_jpg.rf.16c8c1903a29ba0948390cebd553af50.jpg: 96x96 1 Reaction_Zone, 10.0ms\n",
      "image 150/300 C:\\Users\\smallBird\\Desktop\\OT\\EXP12_Yolo\\test\\images\\v1_frame_4286_jpg.rf.d806a55f6bb39c918e4ba3ec82bab39a.jpg: 96x96 1 Reaction_Zone, 9.0ms\n",
      "image 151/300 C:\\Users\\smallBird\\Desktop\\OT\\EXP12_Yolo\\test\\images\\v1_frame_4291_jpg.rf.365a451fbb6687b8d6897283b797be13.jpg: 96x96 1 Reaction_Zone, 11.0ms\n",
      "image 152/300 C:\\Users\\smallBird\\Desktop\\OT\\EXP12_Yolo\\test\\images\\v1_frame_4296_jpg.rf.64dff02085af3784748ca1828ec2098d.jpg: 96x96 1 Reaction_Zone, 11.0ms\n",
      "image 153/300 C:\\Users\\smallBird\\Desktop\\OT\\EXP12_Yolo\\test\\images\\v1_frame_4325_jpg.rf.5b72e0b6b08863722887f07601c64e3b.jpg: 96x96 1 Reaction_Zone, 11.0ms\n",
      "image 154/300 C:\\Users\\smallBird\\Desktop\\OT\\EXP12_Yolo\\test\\images\\v1_frame_4341_jpg.rf.afe80d74aeadcdde41c3cad401168a29.jpg: 96x96 1 Reaction_Zone, 8.0ms\n",
      "image 155/300 C:\\Users\\smallBird\\Desktop\\OT\\EXP12_Yolo\\test\\images\\v1_frame_4353_jpg.rf.b795974a880b37d70e7ef747310c0eda.jpg: 96x96 1 Reaction_Zone, 10.0ms\n",
      "image 156/300 C:\\Users\\smallBird\\Desktop\\OT\\EXP12_Yolo\\test\\images\\v1_frame_4355_jpg.rf.ff50dba34718cf38e6492b49b45f3ef3.jpg: 96x96 1 Reaction_Zone, 10.0ms\n",
      "image 157/300 C:\\Users\\smallBird\\Desktop\\OT\\EXP12_Yolo\\test\\images\\v1_frame_4370_jpg.rf.a2ab7767583266e3c3a4beab35a1017c.jpg: 96x96 1 Reaction_Zone, 9.0ms\n",
      "image 158/300 C:\\Users\\smallBird\\Desktop\\OT\\EXP12_Yolo\\test\\images\\v1_frame_4374_jpg.rf.9220735d1f2e209bd3962d6ebf1d59a1.jpg: 96x96 1 Reaction_Zone, 10.0ms\n",
      "image 159/300 C:\\Users\\smallBird\\Desktop\\OT\\EXP12_Yolo\\test\\images\\v1_frame_4377_jpg.rf.3fc8b8f80d4f09d318993879f63259c2.jpg: 96x96 1 Reaction_Zone, 10.0ms\n",
      "image 160/300 C:\\Users\\smallBird\\Desktop\\OT\\EXP12_Yolo\\test\\images\\v1_frame_4393_jpg.rf.1c3f3fbbe27a49da31c05f7294db2b16.jpg: 96x96 1 Reaction_Zone, 10.0ms\n",
      "image 161/300 C:\\Users\\smallBird\\Desktop\\OT\\EXP12_Yolo\\test\\images\\v1_frame_4394_jpg.rf.4d1d7897a73f93b5cdd28a466f6b57c6.jpg: 96x96 1 Reaction_Zone, 12.0ms\n",
      "image 162/300 C:\\Users\\smallBird\\Desktop\\OT\\EXP12_Yolo\\test\\images\\v1_frame_4398_jpg.rf.a72214d045e7c6de68ead04c1e99f9b4.jpg: 96x96 1 Reaction_Zone, 12.0ms\n",
      "image 163/300 C:\\Users\\smallBird\\Desktop\\OT\\EXP12_Yolo\\test\\images\\v1_frame_4408_jpg.rf.9870afee7bda49a2ba0abae46c4bda85.jpg: 96x96 1 Reaction_Zone, 10.0ms\n",
      "image 164/300 C:\\Users\\smallBird\\Desktop\\OT\\EXP12_Yolo\\test\\images\\v1_frame_4412_jpg.rf.dde2b410d6d0c8085496d2dd058561d7.jpg: 96x96 1 Reaction_Zone, 7.0ms\n",
      "image 165/300 C:\\Users\\smallBird\\Desktop\\OT\\EXP12_Yolo\\test\\images\\v1_frame_4413_jpg.rf.b227d324da3ea2b6fe0bc4d71d67d8a7.jpg: 96x96 1 Reaction_Zone, 8.0ms\n",
      "image 166/300 C:\\Users\\smallBird\\Desktop\\OT\\EXP12_Yolo\\test\\images\\v1_frame_4432_jpg.rf.59922dc6becbd39e6d84b43a37d0f678.jpg: 96x96 1 Reaction_Zone, 9.0ms\n",
      "image 167/300 C:\\Users\\smallBird\\Desktop\\OT\\EXP12_Yolo\\test\\images\\v1_frame_4436_jpg.rf.d5f326b4449fbf66531eb5e919c8b243.jpg: 96x96 1 Reaction_Zone, 9.0ms\n",
      "image 168/300 C:\\Users\\smallBird\\Desktop\\OT\\EXP12_Yolo\\test\\images\\v1_frame_4442_jpg.rf.f4153b1668faa193328ef2721021066e.jpg: 96x96 1 Reaction_Zone, 11.0ms\n",
      "image 169/300 C:\\Users\\smallBird\\Desktop\\OT\\EXP12_Yolo\\test\\images\\v1_frame_4449_jpg.rf.0bc8edd2d0b4b6fb7b6ad6669941c2cb.jpg: 96x96 1 Reaction_Zone, 11.0ms\n",
      "image 170/300 C:\\Users\\smallBird\\Desktop\\OT\\EXP12_Yolo\\test\\images\\v1_frame_4451_jpg.rf.9932d8de0fd9370d10bdda07530abfb7.jpg: 96x96 1 Reaction_Zone, 15.0ms\n",
      "image 171/300 C:\\Users\\smallBird\\Desktop\\OT\\EXP12_Yolo\\test\\images\\v1_frame_4464_jpg.rf.dc0cf3b220a8db9ee8133aedcb85a474.jpg: 96x96 1 Reaction_Zone, 15.0ms\n",
      "image 172/300 C:\\Users\\smallBird\\Desktop\\OT\\EXP12_Yolo\\test\\images\\v1_frame_4470_jpg.rf.d65df4eb013bd509142fc5a78cb1d735.jpg: 96x96 1 Reaction_Zone, 12.0ms\n",
      "image 173/300 C:\\Users\\smallBird\\Desktop\\OT\\EXP12_Yolo\\test\\images\\v1_frame_4476_jpg.rf.8141f20e1477d4d1e25e33091f1e2482.jpg: 96x96 1 Reaction_Zone, 13.0ms\n",
      "image 174/300 C:\\Users\\smallBird\\Desktop\\OT\\EXP12_Yolo\\test\\images\\v1_frame_4478_jpg.rf.d83423fe5e3b284e7ed186f51e382091.jpg: 96x96 1 Reaction_Zone, 13.0ms\n",
      "image 175/300 C:\\Users\\smallBird\\Desktop\\OT\\EXP12_Yolo\\test\\images\\v1_frame_4482_jpg.rf.e411197f985a859254443e6c3c398bb7.jpg: 96x96 1 Reaction_Zone, 14.0ms\n",
      "image 176/300 C:\\Users\\smallBird\\Desktop\\OT\\EXP12_Yolo\\test\\images\\v1_frame_4501_jpg.rf.b2f6f07d1762bfbf437defa9d377d290.jpg: 96x96 1 Reaction_Zone, 11.0ms\n",
      "image 177/300 C:\\Users\\smallBird\\Desktop\\OT\\EXP12_Yolo\\test\\images\\v1_frame_4511_jpg.rf.ba776725f81f22640290b3d23f38805e.jpg: 96x96 1 Reaction_Zone, 14.0ms\n",
      "image 178/300 C:\\Users\\smallBird\\Desktop\\OT\\EXP12_Yolo\\test\\images\\v1_frame_4542_jpg.rf.1cf497e8ba649440e51189b45b5d378a.jpg: 96x96 1 Reaction_Zone, 11.0ms\n",
      "image 179/300 C:\\Users\\smallBird\\Desktop\\OT\\EXP12_Yolo\\test\\images\\v1_frame_4545_jpg.rf.4f91289d6a42131546ad28e843fdba4e.jpg: 96x96 1 Reaction_Zone, 11.0ms\n",
      "image 180/300 C:\\Users\\smallBird\\Desktop\\OT\\EXP12_Yolo\\test\\images\\v1_frame_4573_jpg.rf.db7f8f3782d41dd68db7de583344030c.jpg: 96x96 1 Reaction_Zone, 13.0ms\n",
      "image 181/300 C:\\Users\\smallBird\\Desktop\\OT\\EXP12_Yolo\\test\\images\\v1_frame_4583_jpg.rf.2bffc7ed0c5894f8e4528abc570f5ded.jpg: 96x96 1 Reaction_Zone, 8.0ms\n",
      "image 182/300 C:\\Users\\smallBird\\Desktop\\OT\\EXP12_Yolo\\test\\images\\v1_frame_4595_jpg.rf.66a92b2892119002cf7b8a45f9459b9f.jpg: 96x96 1 Reaction_Zone, 12.0ms\n",
      "image 183/300 C:\\Users\\smallBird\\Desktop\\OT\\EXP12_Yolo\\test\\images\\v1_frame_4611_jpg.rf.d77a76c5a8127520a813a2a9dfc04724.jpg: 96x96 1 Reaction_Zone, 9.0ms\n",
      "image 184/300 C:\\Users\\smallBird\\Desktop\\OT\\EXP12_Yolo\\test\\images\\v1_frame_4616_jpg.rf.c3c70387bf6dc3ff4b444b2634aec829.jpg: 96x96 1 Reaction_Zone, 11.0ms\n",
      "image 185/300 C:\\Users\\smallBird\\Desktop\\OT\\EXP12_Yolo\\test\\images\\v1_frame_4617_jpg.rf.4ff7ab4e0594e477b421123f5ed25866.jpg: 96x96 1 Reaction_Zone, 8.0ms\n",
      "image 186/300 C:\\Users\\smallBird\\Desktop\\OT\\EXP12_Yolo\\test\\images\\v1_frame_4636_jpg.rf.14d2b22e6bbdb7a8d592d09a6ff74fe0.jpg: 96x96 1 Reaction_Zone, 16.0ms\n",
      "image 187/300 C:\\Users\\smallBird\\Desktop\\OT\\EXP12_Yolo\\test\\images\\v1_frame_4650_jpg.rf.a2169682e1b099d2c3cd7d4022e568b9.jpg: 96x96 1 Reaction_Zone, 14.0ms\n",
      "image 188/300 C:\\Users\\smallBird\\Desktop\\OT\\EXP12_Yolo\\test\\images\\v1_frame_4660_jpg.rf.5f9b016d49b6f435b99c6f17e3e1419c.jpg: 96x96 1 Reaction_Zone, 15.0ms\n",
      "image 189/300 C:\\Users\\smallBird\\Desktop\\OT\\EXP12_Yolo\\test\\images\\v1_frame_9490_jpg.rf.51e89c35706ce7026f70b98a2102320d.jpg: 96x96 1 Reaction_Zone, 26.9ms\n",
      "image 190/300 C:\\Users\\smallBird\\Desktop\\OT\\EXP12_Yolo\\test\\images\\v1_frame_9550_jpg.rf.d66f7bf9150d0fdd708d799092b2b9d2.jpg: 96x96 1 Reaction_Zone, 17.5ms\n",
      "image 191/300 C:\\Users\\smallBird\\Desktop\\OT\\EXP12_Yolo\\test\\images\\v1_frame_9740_jpg.rf.3ebdcdb6895c93c543f2f37f1e9b53e0.jpg: 96x96 1 Reaction_Zone, 17.0ms\n",
      "image 192/300 C:\\Users\\smallBird\\Desktop\\OT\\EXP12_Yolo\\test\\images\\v1_frame_9850_jpg.rf.ac56afba876ac2301d28c27bcc92d2de.jpg: 96x96 1 Reaction_Zone, 16.0ms\n",
      "image 193/300 C:\\Users\\smallBird\\Desktop\\OT\\EXP12_Yolo\\test\\images\\v1_frame_9890_jpg.rf.1d1fe0108b1c8b8789f2a1591b8fe463.jpg: 96x96 1 Reaction_Zone, 10.0ms\n",
      "image 194/300 C:\\Users\\smallBird\\Desktop\\OT\\EXP12_Yolo\\test\\images\\v1_frame_9960_jpg.rf.f933a3fffad3e07dea4babef81d53c9b.jpg: 96x96 1 Reaction_Zone, 14.0ms\n",
      "image 195/300 C:\\Users\\smallBird\\Desktop\\OT\\EXP12_Yolo\\test\\images\\v2_frame_10025_jpg.rf.3601afcccc3963fd7d3435bf608e7b2e.jpg: 96x96 1 Reaction_Zone, 9.0ms\n",
      "image 196/300 C:\\Users\\smallBird\\Desktop\\OT\\EXP12_Yolo\\test\\images\\v2_frame_10110_jpg.rf.e574144e70a632d404a4108da052a52c.jpg: 96x96 1 Reaction_Zone, 13.0ms\n"
     ]
    },
    {
     "name": "stdout",
     "output_type": "stream",
     "text": [
      "image 197/300 C:\\Users\\smallBird\\Desktop\\OT\\EXP12_Yolo\\test\\images\\v2_frame_10170_jpg.rf.7eea13c3bd810f28cebed04cb9b2327b.jpg: 96x96 1 Reaction_Zone, 12.0ms\n",
      "image 198/300 C:\\Users\\smallBird\\Desktop\\OT\\EXP12_Yolo\\test\\images\\v2_frame_10923_jpg.rf.e436ad4df3fe35196d321067da195730.jpg: 96x96 1 Reaction_Zone, 10.0ms\n",
      "image 199/300 C:\\Users\\smallBird\\Desktop\\OT\\EXP12_Yolo\\test\\images\\v2_frame_10932_jpg.rf.d098c00a8612ebe8b5757be218677935.jpg: 96x96 1 Reaction_Zone, 9.0ms\n",
      "image 200/300 C:\\Users\\smallBird\\Desktop\\OT\\EXP12_Yolo\\test\\images\\v2_frame_10934_jpg.rf.29b226127a42fd33caf3b8f6cb51aa24.jpg: 96x96 1 Reaction_Zone, 8.0ms\n",
      "image 201/300 C:\\Users\\smallBird\\Desktop\\OT\\EXP12_Yolo\\test\\images\\v2_frame_10941_jpg.rf.a4831e56260cecc3646418b26b4122e3.jpg: 96x96 1 Reaction_Zone, 9.0ms\n",
      "image 202/300 C:\\Users\\smallBird\\Desktop\\OT\\EXP12_Yolo\\test\\images\\v2_frame_10946_jpg.rf.04256033adf9140ca20cdceaa7929852.jpg: 96x96 1 Reaction_Zone, 10.0ms\n",
      "image 203/300 C:\\Users\\smallBird\\Desktop\\OT\\EXP12_Yolo\\test\\images\\v2_frame_10952_jpg.rf.0681e7c1e2ab33b6d15e666fcc3cbc0d.jpg: 96x96 1 Reaction_Zone, 13.0ms\n",
      "image 204/300 C:\\Users\\smallBird\\Desktop\\OT\\EXP12_Yolo\\test\\images\\v2_frame_10998_jpg.rf.2c8682baf20f3008070143ad63e4cd98.jpg: 96x96 1 Reaction_Zone, 10.0ms\n",
      "image 205/300 C:\\Users\\smallBird\\Desktop\\OT\\EXP12_Yolo\\test\\images\\v2_frame_11014_jpg.rf.edef7f7fafd689aa8380564687579d0c.jpg: 96x96 1 Reaction_Zone, 12.0ms\n",
      "image 206/300 C:\\Users\\smallBird\\Desktop\\OT\\EXP12_Yolo\\test\\images\\v2_frame_11040_jpg.rf.966331d3ee1fab1e2635f6c407a8eae6.jpg: 96x96 1 Reaction_Zone, 10.0ms\n",
      "image 207/300 C:\\Users\\smallBird\\Desktop\\OT\\EXP12_Yolo\\test\\images\\v2_frame_11047_jpg.rf.b600a309d3118cd6c5795c88677fe4c6.jpg: 96x96 1 Reaction_Zone, 10.0ms\n",
      "image 208/300 C:\\Users\\smallBird\\Desktop\\OT\\EXP12_Yolo\\test\\images\\v2_frame_11060_jpg.rf.6dc375a03db20b94d4d37dd342c53203.jpg: 96x96 1 Reaction_Zone, 15.0ms\n",
      "image 209/300 C:\\Users\\smallBird\\Desktop\\OT\\EXP12_Yolo\\test\\images\\v2_frame_11066_jpg.rf.045e43c8bf1458731235de388fb2566d.jpg: 96x96 1 Reaction_Zone, 15.0ms\n",
      "image 210/300 C:\\Users\\smallBird\\Desktop\\OT\\EXP12_Yolo\\test\\images\\v2_frame_11070_jpg.rf.133b6fba3e3c0050c5d1a635b2d9d463.jpg: 96x96 1 Reaction_Zone, 19.9ms\n",
      "image 211/300 C:\\Users\\smallBird\\Desktop\\OT\\EXP12_Yolo\\test\\images\\v2_frame_11075_jpg.rf.5b8a3ab4e24a9ee8d2163c8c8d363f98.jpg: 96x96 1 Reaction_Zone, 22.9ms\n",
      "image 212/300 C:\\Users\\smallBird\\Desktop\\OT\\EXP12_Yolo\\test\\images\\v2_frame_11076_jpg.rf.fcae7bdbde77bfb669d4136a34c6c212.jpg: 96x96 1 Reaction_Zone, 15.0ms\n",
      "image 213/300 C:\\Users\\smallBird\\Desktop\\OT\\EXP12_Yolo\\test\\images\\v2_frame_11085_jpg.rf.bd29779a3c2e2b6c6c8e8ae146c75ab8.jpg: 96x96 1 Reaction_Zone, 13.0ms\n",
      "image 214/300 C:\\Users\\smallBird\\Desktop\\OT\\EXP12_Yolo\\test\\images\\v2_frame_11088_jpg.rf.6b2ceb681c6d5f99391379e77d1b43aa.jpg: 96x96 1 Reaction_Zone, 8.0ms\n",
      "image 215/300 C:\\Users\\smallBird\\Desktop\\OT\\EXP12_Yolo\\test\\images\\v2_frame_11108_jpg.rf.4df9af21c95a5f13462240beb670610e.jpg: 96x96 1 Reaction_Zone, 12.0ms\n",
      "image 216/300 C:\\Users\\smallBird\\Desktop\\OT\\EXP12_Yolo\\test\\images\\v2_frame_11121_jpg.rf.93fcd72ca74104d52acd0f308b9efe12.jpg: 96x96 1 Reaction_Zone, 12.0ms\n",
      "image 217/300 C:\\Users\\smallBird\\Desktop\\OT\\EXP12_Yolo\\test\\images\\v2_frame_11139_jpg.rf.b5bbdbd4a8c38b83c76fa129c400e1c6.jpg: 96x96 1 Reaction_Zone, 9.0ms\n",
      "image 218/300 C:\\Users\\smallBird\\Desktop\\OT\\EXP12_Yolo\\test\\images\\v2_frame_11142_jpg.rf.b2d910afefb7eb8a3dd974b60fc0993b.jpg: 96x96 1 Reaction_Zone, 14.0ms\n",
      "image 219/300 C:\\Users\\smallBird\\Desktop\\OT\\EXP12_Yolo\\test\\images\\v2_frame_11144_jpg.rf.44c483d9b450a08c20127ba2b19bcf76.jpg: 96x96 1 Reaction_Zone, 15.0ms\n",
      "image 220/300 C:\\Users\\smallBird\\Desktop\\OT\\EXP12_Yolo\\test\\images\\v2_frame_11149_jpg.rf.247b7deb7283545621bea2ff515154a5.jpg: 96x96 1 Reaction_Zone, 14.0ms\n",
      "image 221/300 C:\\Users\\smallBird\\Desktop\\OT\\EXP12_Yolo\\test\\images\\v2_frame_11165_jpg.rf.8fd17cc7b116b9e30d623c5745cdf43e.jpg: 96x96 1 Reaction_Zone, 13.0ms\n",
      "image 222/300 C:\\Users\\smallBird\\Desktop\\OT\\EXP12_Yolo\\test\\images\\v2_frame_11169_jpg.rf.511b5bfa399cf845a2dbf1ec2a649e3b.jpg: 96x96 1 Reaction_Zone, 12.0ms\n",
      "image 223/300 C:\\Users\\smallBird\\Desktop\\OT\\EXP12_Yolo\\test\\images\\v2_frame_11184_jpg.rf.7f56dd461b13057e79beb98aade75c5b.jpg: 96x96 1 Reaction_Zone, 8.0ms\n",
      "image 224/300 C:\\Users\\smallBird\\Desktop\\OT\\EXP12_Yolo\\test\\images\\v2_frame_11185_jpg.rf.54b3ad468ae6680a32b7ea13d2814223.jpg: 96x96 1 Reaction_Zone, 8.0ms\n",
      "image 225/300 C:\\Users\\smallBird\\Desktop\\OT\\EXP12_Yolo\\test\\images\\v2_frame_11200_jpg.rf.3b9bf7895b9b4b307a9b05c051fe44d1.jpg: 96x96 1 Reaction_Zone, 9.0ms\n",
      "image 226/300 C:\\Users\\smallBird\\Desktop\\OT\\EXP12_Yolo\\test\\images\\v2_frame_12610_jpg.rf.65b30571eed79bcb2e2bb3beb13b1d35.jpg: 96x96 1 Reaction_Zone, 11.0ms\n",
      "image 227/300 C:\\Users\\smallBird\\Desktop\\OT\\EXP12_Yolo\\test\\images\\v2_frame_12621_jpg.rf.7aa9ddf90196c83c268507e0c931320a.jpg: 96x96 1 Reaction_Zone, 11.0ms\n",
      "image 228/300 C:\\Users\\smallBird\\Desktop\\OT\\EXP12_Yolo\\test\\images\\v2_frame_12622_jpg.rf.c845c6724c2a6018625baa0f117cdaf6.jpg: 96x96 1 Reaction_Zone, 11.0ms\n",
      "image 229/300 C:\\Users\\smallBird\\Desktop\\OT\\EXP12_Yolo\\test\\images\\v2_frame_12634_jpg.rf.126157cf2796fd0eb13a7bff545c5f65.jpg: 96x96 1 Reaction_Zone, 9.0ms\n",
      "image 230/300 C:\\Users\\smallBird\\Desktop\\OT\\EXP12_Yolo\\test\\images\\v2_frame_12636_jpg.rf.f8e7335574b493870a92ef9eedb5ced1.jpg: 96x96 1 Reaction_Zone, 9.0ms\n",
      "image 231/300 C:\\Users\\smallBird\\Desktop\\OT\\EXP12_Yolo\\test\\images\\v2_frame_12638_jpg.rf.f2aa6f7ef42ebfdb67029ed568e643e7.jpg: 96x96 1 Reaction_Zone, 10.0ms\n",
      "image 232/300 C:\\Users\\smallBird\\Desktop\\OT\\EXP12_Yolo\\test\\images\\v2_frame_12651_jpg.rf.3b17f4fa43fc4287b262cabba242fbb0.jpg: 96x96 1 Reaction_Zone, 8.0ms\n",
      "image 233/300 C:\\Users\\smallBird\\Desktop\\OT\\EXP12_Yolo\\test\\images\\v2_frame_12652_jpg.rf.4332a4a5dfc9db3a8b0624ef3b2423f0.jpg: 96x96 1 Reaction_Zone, 8.0ms\n",
      "image 234/300 C:\\Users\\smallBird\\Desktop\\OT\\EXP12_Yolo\\test\\images\\v2_frame_12668_jpg.rf.f403719a449182cfa6ed0a71c667fbfd.jpg: 96x96 1 Reaction_Zone, 9.0ms\n",
      "image 235/300 C:\\Users\\smallBird\\Desktop\\OT\\EXP12_Yolo\\test\\images\\v2_frame_12676_jpg.rf.ff30093f2d7b4f457a00714299309be5.jpg: 96x96 1 Reaction_Zone, 8.0ms\n",
      "image 236/300 C:\\Users\\smallBird\\Desktop\\OT\\EXP12_Yolo\\test\\images\\v2_frame_12691_jpg.rf.b0729521df49aac5fd959fab75122658.jpg: 96x96 1 Reaction_Zone, 9.0ms\n",
      "image 237/300 C:\\Users\\smallBird\\Desktop\\OT\\EXP12_Yolo\\test\\images\\v2_frame_14279_jpg.rf.7416f3b0480f91a4aca70b5bf364fc09.jpg: 96x96 1 Reaction_Zone, 9.0ms\n",
      "image 238/300 C:\\Users\\smallBird\\Desktop\\OT\\EXP12_Yolo\\test\\images\\v2_frame_14290_jpg.rf.4724ea33c2959fcbcbc1fa45fc5a5330.jpg: 96x96 1 Reaction_Zone, 11.0ms\n",
      "image 239/300 C:\\Users\\smallBird\\Desktop\\OT\\EXP12_Yolo\\test\\images\\v2_frame_14293_jpg.rf.88b118317019e8a378464115816381ea.jpg: 96x96 1 Reaction_Zone, 8.0ms\n",
      "image 240/300 C:\\Users\\smallBird\\Desktop\\OT\\EXP12_Yolo\\test\\images\\v2_frame_14296_jpg.rf.2e5e3c06b553b5545591ed2e84ec78fc.jpg: 96x96 1 Reaction_Zone, 11.0ms\n",
      "image 241/300 C:\\Users\\smallBird\\Desktop\\OT\\EXP12_Yolo\\test\\images\\v2_frame_14301_jpg.rf.822bdd69980a31dcd9e25d08875f8329.jpg: 96x96 1 Reaction_Zone, 8.0ms\n",
      "image 242/300 C:\\Users\\smallBird\\Desktop\\OT\\EXP12_Yolo\\test\\images\\v2_frame_14305_jpg.rf.7347866bb6e05bf1055a97221e8e62bc.jpg: 96x96 1 Reaction_Zone, 10.0ms\n",
      "image 243/300 C:\\Users\\smallBird\\Desktop\\OT\\EXP12_Yolo\\test\\images\\v2_frame_14327_jpg.rf.a263ede68050ad803b1da2e17f2a98af.jpg: 96x96 1 Reaction_Zone, 10.0ms\n",
      "image 244/300 C:\\Users\\smallBird\\Desktop\\OT\\EXP12_Yolo\\test\\images\\v2_frame_14334_jpg.rf.f2ed2d8ed862b1101a9e38479d452d62.jpg: 96x96 1 Reaction_Zone, 8.0ms\n",
      "image 245/300 C:\\Users\\smallBird\\Desktop\\OT\\EXP12_Yolo\\test\\images\\v2_frame_14347_jpg.rf.e704dd3e4b13efa0c11e9b09fd6df382.jpg: 96x96 1 Reaction_Zone, 9.9ms\n",
      "image 246/300 C:\\Users\\smallBird\\Desktop\\OT\\EXP12_Yolo\\test\\images\\v2_frame_14361_jpg.rf.bf3a836ed22850a8483e90b1e24cbf9d.jpg: 96x96 1 Reaction_Zone, 14.0ms\n",
      "image 247/300 C:\\Users\\smallBird\\Desktop\\OT\\EXP12_Yolo\\test\\images\\v2_frame_14379_jpg.rf.f5aff06589bf9b32710c53620c494e66.jpg: 96x96 1 Reaction_Zone, 13.0ms\n",
      "image 248/300 C:\\Users\\smallBird\\Desktop\\OT\\EXP12_Yolo\\test\\images\\v2_frame_1510_jpg.rf.9fd7b73d761157fde0ff262ecc220252.jpg: 96x96 1 Reaction_Zone, 9.0ms\n",
      "image 249/300 C:\\Users\\smallBird\\Desktop\\OT\\EXP12_Yolo\\test\\images\\v2_frame_15786_jpg.rf.d7fac4235738cba8ac05650db133eefc.jpg: 96x96 1 Reaction_Zone, 11.0ms\n"
     ]
    },
    {
     "name": "stdout",
     "output_type": "stream",
     "text": [
      "image 250/300 C:\\Users\\smallBird\\Desktop\\OT\\EXP12_Yolo\\test\\images\\v2_frame_15794_jpg.rf.60a466b0e19a19683725222abcd38b3f.jpg: 96x96 1 Reaction_Zone, 10.0ms\n",
      "image 251/300 C:\\Users\\smallBird\\Desktop\\OT\\EXP12_Yolo\\test\\images\\v2_frame_15808_jpg.rf.de757742fab95361d25734b5f4b60cd3.jpg: 96x96 1 Reaction_Zone, 11.0ms\n",
      "image 252/300 C:\\Users\\smallBird\\Desktop\\OT\\EXP12_Yolo\\test\\images\\v2_frame_15814_jpg.rf.0ad27e0631804397fdf529a74f558f57.jpg: 96x96 1 Reaction_Zone, 9.0ms\n",
      "image 253/300 C:\\Users\\smallBird\\Desktop\\OT\\EXP12_Yolo\\test\\images\\v2_frame_15818_jpg.rf.dbaf27e93de74da28e6c2d6434ca874a.jpg: 96x96 1 Reaction_Zone, 9.0ms\n",
      "image 254/300 C:\\Users\\smallBird\\Desktop\\OT\\EXP12_Yolo\\test\\images\\v2_frame_15824_jpg.rf.85bfb4f60dd0afb03f20806cd644f15b.jpg: 96x96 1 Reaction_Zone, 13.0ms\n",
      "image 255/300 C:\\Users\\smallBird\\Desktop\\OT\\EXP12_Yolo\\test\\images\\v2_frame_15827_jpg.rf.2eafc1e3a49b177d5a70642a6d209e59.jpg: 96x96 1 Reaction_Zone, 9.6ms\n",
      "image 256/300 C:\\Users\\smallBird\\Desktop\\OT\\EXP12_Yolo\\test\\images\\v2_frame_15833_jpg.rf.02c170c0ff3a5cac58722b987a4d7ab6.jpg: 96x96 1 Reaction_Zone, 13.0ms\n",
      "image 257/300 C:\\Users\\smallBird\\Desktop\\OT\\EXP12_Yolo\\test\\images\\v2_frame_15837_jpg.rf.83131b08f0b4d25c3e2a88f1219f3df0.jpg: 96x96 1 Reaction_Zone, 11.0ms\n",
      "image 258/300 C:\\Users\\smallBird\\Desktop\\OT\\EXP12_Yolo\\test\\images\\v2_frame_15860_jpg.rf.1aed15c8f8dd35f4ea70fd4767d84060.jpg: 96x96 1 Reaction_Zone, 10.0ms\n",
      "image 259/300 C:\\Users\\smallBird\\Desktop\\OT\\EXP12_Yolo\\test\\images\\v2_frame_15864_jpg.rf.3925bb903478697ebe8477fcafa6f7e8.jpg: 96x96 1 Reaction_Zone, 9.0ms\n",
      "image 260/300 C:\\Users\\smallBird\\Desktop\\OT\\EXP12_Yolo\\test\\images\\v2_frame_15890_jpg.rf.4a3f1fbecfbd2f9c9147e812335e9926.jpg: 96x96 1 Reaction_Zone, 10.7ms\n",
      "image 261/300 C:\\Users\\smallBird\\Desktop\\OT\\EXP12_Yolo\\test\\images\\v2_frame_15905_jpg.rf.630b496a9d7c6b971c21ee4ce8afca24.jpg: 96x96 1 Reaction_Zone, 9.0ms\n",
      "image 262/300 C:\\Users\\smallBird\\Desktop\\OT\\EXP12_Yolo\\test\\images\\v2_frame_1590_jpg.rf.d084358c3e2654f325723bf691e09a3a.jpg: 96x96 1 Reaction_Zone, 8.0ms\n",
      "image 263/300 C:\\Users\\smallBird\\Desktop\\OT\\EXP12_Yolo\\test\\images\\v2_frame_15925_jpg.rf.82f6aec91f9bc760e1afde58abb35a2c.jpg: 96x96 1 Reaction_Zone, 8.0ms\n",
      "image 264/300 C:\\Users\\smallBird\\Desktop\\OT\\EXP12_Yolo\\test\\images\\v2_frame_1640_jpg.rf.bf12bd07d60b81d35d5e4ada1c5faeac.jpg: 96x96 1 Reaction_Zone, 9.0ms\n",
      "image 265/300 C:\\Users\\smallBird\\Desktop\\OT\\EXP12_Yolo\\test\\images\\v2_frame_1890_jpg.rf.282d86596b122ebb11785940a049f037.jpg: 96x96 1 Reaction_Zone, 9.0ms\n",
      "image 266/300 C:\\Users\\smallBird\\Desktop\\OT\\EXP12_Yolo\\test\\images\\v2_frame_1920_jpg.rf.25c3fb049abd1394e760616306189f94.jpg: 96x96 1 Reaction_Zone, 12.0ms\n",
      "image 267/300 C:\\Users\\smallBird\\Desktop\\OT\\EXP12_Yolo\\test\\images\\v2_frame_2020_jpg.rf.6dfc45019ad7f45e35e05280a1d4c895.jpg: 96x96 1 Reaction_Zone, 10.0ms\n",
      "image 268/300 C:\\Users\\smallBird\\Desktop\\OT\\EXP12_Yolo\\test\\images\\v2_frame_2090_jpg.rf.fddb53733a1a6f86405efcd00d324944.jpg: 96x96 1 Reaction_Zone, 9.0ms\n",
      "image 269/300 C:\\Users\\smallBird\\Desktop\\OT\\EXP12_Yolo\\test\\images\\v2_frame_8611_jpg.rf.daa6672f984e5063511a7bd00d039f8c.jpg: 96x96 1 Reaction_Zone, 13.0ms\n",
      "image 270/300 C:\\Users\\smallBird\\Desktop\\OT\\EXP12_Yolo\\test\\images\\v2_frame_8621_jpg.rf.48210d7becc297c9a93f0103f41fff86.jpg: 96x96 1 Reaction_Zone, 9.0ms\n",
      "image 271/300 C:\\Users\\smallBird\\Desktop\\OT\\EXP12_Yolo\\test\\images\\v2_frame_8634_jpg.rf.2f5af4bb9983d3af9dcce86125f46120.jpg: 96x96 1 Reaction_Zone, 12.5ms\n",
      "image 272/300 C:\\Users\\smallBird\\Desktop\\OT\\EXP12_Yolo\\test\\images\\v2_frame_8648_jpg.rf.f89c402de98bc0b808a163da2b8e0561.jpg: 96x96 1 Reaction_Zone, 18.0ms\n",
      "image 273/300 C:\\Users\\smallBird\\Desktop\\OT\\EXP12_Yolo\\test\\images\\v2_frame_8654_jpg.rf.cdb8fb1870a38897f5caae2405154941.jpg: 96x96 1 Reaction_Zone, 13.0ms\n",
      "image 274/300 C:\\Users\\smallBird\\Desktop\\OT\\EXP12_Yolo\\test\\images\\v2_frame_8655_jpg.rf.61a1576986a3e3c9b9dad9cef3ba7e86.jpg: 96x96 1 Reaction_Zone, 12.0ms\n",
      "image 275/300 C:\\Users\\smallBird\\Desktop\\OT\\EXP12_Yolo\\test\\images\\v2_frame_8656_jpg.rf.3a8b9512d3245ca14a2b217fc8f2b2e3.jpg: 96x96 1 Reaction_Zone, 9.0ms\n",
      "image 276/300 C:\\Users\\smallBird\\Desktop\\OT\\EXP12_Yolo\\test\\images\\v2_frame_8675_jpg.rf.9b0316729147c059c78e97a8249e4d02.jpg: 96x96 1 Reaction_Zone, 8.0ms\n",
      "image 277/300 C:\\Users\\smallBird\\Desktop\\OT\\EXP12_Yolo\\test\\images\\v2_frame_8676_jpg.rf.808191e60a17218b47d6dcaa0c3e38c8.jpg: 96x96 1 Reaction_Zone, 8.0ms\n",
      "image 278/300 C:\\Users\\smallBird\\Desktop\\OT\\EXP12_Yolo\\test\\images\\v2_frame_8687_jpg.rf.b060b14014ee8713821bca58ee013bfe.jpg: 96x96 1 Reaction_Zone, 8.0ms\n",
      "image 279/300 C:\\Users\\smallBird\\Desktop\\OT\\EXP12_Yolo\\test\\images\\v2_frame_8694_jpg.rf.5fa87cdfbc4c0211555507a3634ba766.jpg: 96x96 1 Reaction_Zone, 8.0ms\n",
      "image 280/300 C:\\Users\\smallBird\\Desktop\\OT\\EXP12_Yolo\\test\\images\\v2_frame_8712_jpg.rf.c1e3986d076fa961e0cba3f5f3cf0af7.jpg: 96x96 1 Reaction_Zone, 10.0ms\n",
      "image 281/300 C:\\Users\\smallBird\\Desktop\\OT\\EXP12_Yolo\\test\\images\\v2_frame_8721_jpg.rf.8714f0808880323cd3568e4bbf25284d.jpg: 96x96 1 Reaction_Zone, 11.0ms\n",
      "image 282/300 C:\\Users\\smallBird\\Desktop\\OT\\EXP12_Yolo\\test\\images\\v2_frame_8736_jpg.rf.edcaea4ce40c4e8056e91d3104f0ef87.jpg: 96x96 1 Reaction_Zone, 9.0ms\n",
      "image 283/300 C:\\Users\\smallBird\\Desktop\\OT\\EXP12_Yolo\\test\\images\\v2_frame_8754_jpg.rf.5378c2f234da29147789debd05bc6af2.jpg: 96x96 1 Reaction_Zone, 9.0ms\n",
      "image 284/300 C:\\Users\\smallBird\\Desktop\\OT\\EXP12_Yolo\\test\\images\\v2_frame_8769_jpg.rf.5014dd8ce19b5b87ea882aeaf1cd59d6.jpg: 96x96 1 Reaction_Zone, 9.0ms\n",
      "image 285/300 C:\\Users\\smallBird\\Desktop\\OT\\EXP12_Yolo\\test\\images\\v2_frame_8783_jpg.rf.c1bf7dbdde044c8d016b501f7334c741.jpg: 96x96 1 Reaction_Zone, 8.0ms\n",
      "image 286/300 C:\\Users\\smallBird\\Desktop\\OT\\EXP12_Yolo\\test\\images\\v2_frame_8787_jpg.rf.ee523ad9e2c38513682ca267c90ea4d0.jpg: 96x96 1 Reaction_Zone, 10.0ms\n",
      "image 287/300 C:\\Users\\smallBird\\Desktop\\OT\\EXP12_Yolo\\test\\images\\v2_frame_8829_jpg.rf.5bec52f45a1bd384846c8ff44a111740.jpg: 96x96 1 Reaction_Zone, 8.0ms\n",
      "image 288/300 C:\\Users\\smallBird\\Desktop\\OT\\EXP12_Yolo\\test\\images\\v2_frame_8830_jpg.rf.583152df9df6af68357b0fcfaf876a40.jpg: 96x96 1 Reaction_Zone, 9.0ms\n",
      "image 289/300 C:\\Users\\smallBird\\Desktop\\OT\\EXP12_Yolo\\test\\images\\v2_frame_8832_jpg.rf.5cb3c621b04d747ed574670cab9042f3.jpg: 96x96 1 Reaction_Zone, 8.0ms\n",
      "image 290/300 C:\\Users\\smallBird\\Desktop\\OT\\EXP12_Yolo\\test\\images\\v2_frame_8834_jpg.rf.ac1587ab7846627ad44c4cbc799c151a.jpg: 96x96 1 Reaction_Zone, 8.0ms\n",
      "image 291/300 C:\\Users\\smallBird\\Desktop\\OT\\EXP12_Yolo\\test\\images\\v2_frame_8836_jpg.rf.b2a67b787af647dc9b33f6063927a587.jpg: 96x96 1 Reaction_Zone, 10.0ms\n",
      "image 292/300 C:\\Users\\smallBird\\Desktop\\OT\\EXP12_Yolo\\test\\images\\v2_frame_8842_jpg.rf.2c2517a59a9b0c93a8892e5640f3e29e.jpg: 96x96 1 Reaction_Zone, 8.0ms\n",
      "image 293/300 C:\\Users\\smallBird\\Desktop\\OT\\EXP12_Yolo\\test\\images\\v2_frame_8850_jpg.rf.1c86788c2998db0d3dddf25db4ea93ca.jpg: 96x96 1 Reaction_Zone, 9.0ms\n",
      "image 294/300 C:\\Users\\smallBird\\Desktop\\OT\\EXP12_Yolo\\test\\images\\v2_frame_8860_jpg.rf.8ec3ff3c83dff0ab3e228c8b56aabea7.jpg: 96x96 1 Reaction_Zone, 8.0ms\n",
      "image 295/300 C:\\Users\\smallBird\\Desktop\\OT\\EXP12_Yolo\\test\\images\\v2_frame_8866_jpg.rf.59fe3fd83bc8d8fbdbcbd6b8aa47e6b8.jpg: 96x96 1 Reaction_Zone, 9.0ms\n",
      "image 296/300 C:\\Users\\smallBird\\Desktop\\OT\\EXP12_Yolo\\test\\images\\v2_frame_8876_jpg.rf.1309d1fb41a990fad136be4bf9df3c3a.jpg: 96x96 1 Reaction_Zone, 9.0ms\n",
      "image 297/300 C:\\Users\\smallBird\\Desktop\\OT\\EXP12_Yolo\\test\\images\\v2_frame_8881_jpg.rf.c5209062dd71420370373f923a81602c.jpg: 96x96 1 Reaction_Zone, 9.0ms\n",
      "image 298/300 C:\\Users\\smallBird\\Desktop\\OT\\EXP12_Yolo\\test\\images\\v2_frame_8892_jpg.rf.2b437592675004e48302047c2a02b7ec.jpg: 96x96 1 Reaction_Zone, 11.0ms\n",
      "image 299/300 C:\\Users\\smallBird\\Desktop\\OT\\EXP12_Yolo\\test\\images\\v2_frame_9895_jpg.rf.b3e0e2adf6a3160790fced431d79522a.jpg: 96x96 1 Reaction_Zone, 8.0ms\n",
      "image 300/300 C:\\Users\\smallBird\\Desktop\\OT\\EXP12_Yolo\\test\\images\\v2_frame_9920_jpg.rf.55ab840467383411e197cc63124482e9.jpg: 96x96 1 Reaction_Zone, 9.0ms\n",
      "Speed: 0.7ms preprocess, 10.7ms inference, 2.5ms postprocess per image at shape (1, 3, 96, 96)\n",
      "Results saved to \u001b[1mruns\\detect\\train2\u001b[0m\n"
     ]
    }
   ],
   "source": [
    "results = model.predict(source='C:/Users/smallBird/Desktop/OT/EXP12_Yolo/test/images',save=True)"
   ]
  },
  {
   "cell_type": "code",
   "execution_count": null,
   "id": "f8f0435f",
   "metadata": {},
   "outputs": [],
   "source": []
  }
 ],
 "metadata": {
  "kernelspec": {
   "display_name": "Python (pytorch_gpu)",
   "language": "python",
   "name": "pytorch_gpu"
  },
  "language_info": {
   "codemirror_mode": {
    "name": "ipython",
    "version": 3
   },
   "file_extension": ".py",
   "mimetype": "text/x-python",
   "name": "python",
   "nbconvert_exporter": "python",
   "pygments_lexer": "ipython3",
   "version": "3.9.18"
  }
 },
 "nbformat": 4,
 "nbformat_minor": 5
}
