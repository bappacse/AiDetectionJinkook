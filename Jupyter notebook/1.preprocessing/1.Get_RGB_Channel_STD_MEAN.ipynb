{
 "cells": [
  {
   "cell_type": "code",
   "execution_count": 1,
   "id": "a8a53ad8",
   "metadata": {},
   "outputs": [
    {
     "name": "stdout",
     "output_type": "stream",
     "text": [
      "Mean: [0.74673263 0.78853836 0.77793464]\n",
      "Std: [0.02704629 0.02393791 0.02220872]\n"
     ]
    }
   ],
   "source": [
    "import numpy as np\n",
    "from torchvision import datasets, transforms\n",
    "from torch.utils.data import DataLoader\n",
    "\n",
    "# 定义仅转换为张量的变换（不进行标准化）\n",
    "transform = transforms.Compose([\n",
    "    transforms.ToTensor()\n",
    "])\n",
    "\n",
    "# 加载数据集 The folder path where your data is located\n",
    "dataset = datasets.ImageFolder(root='C:/Users/Desktop/Dataset', transform=transform)\n",
    "loader = DataLoader(dataset, batch_size=64, shuffle=False, num_workers=4)\n",
    "\n",
    "# 初始化均值和标准差\n",
    "mean = np.zeros(3)\n",
    "std = np.zeros(3)\n",
    "nb_samples = 0\n",
    "\n",
    "for data in loader:\n",
    "    data = data[0]  # 忽略标签\n",
    "    batch_samples = data.size(0)\n",
    "    data = data.view(batch_samples, data.size(1), -1)\n",
    "    mean += data.mean(2).sum(0).numpy()\n",
    "    std += data.std(2).sum(0).numpy()\n",
    "    nb_samples += batch_samples\n",
    "\n",
    "mean /= nb_samples\n",
    "std /= nb_samples\n",
    "\n",
    "print(f'Mean: {mean}')\n",
    "print(f'Std: {std}')\n"
   ]
  },
  {
   "cell_type": "code",
   "execution_count": 2,
   "id": "28cf9599",
   "metadata": {},
   "outputs": [
    {
     "name": "stdout",
     "output_type": "stream",
     "text": [
      "Total number of samples in the dataset: 17003\n"
     ]
    }
   ],
   "source": [
    "import numpy as np\n",
    "from torchvision import datasets, transforms\n",
    "from torch.utils.data import DataLoader\n",
    "\n",
    "# 加载数据集 The folder path where your data is located\n",
    "\n",
    "dataset = datasets.ImageFolder(root='C:/Users/Desktop/Dataset', transform=transform)\n",
    "print(\"Total number of samples in the dataset:\", len(dataset))\n"
   ]
  },
  {
   "cell_type": "code",
   "execution_count": null,
   "id": "4793f5cf",
   "metadata": {},
   "outputs": [],
   "source": []
  }
 ],
 "metadata": {
  "kernelspec": {
   "display_name": "Python (pytorch_gpu)",
   "language": "python",
   "name": "pytorch_gpu"
  },
  "language_info": {
   "codemirror_mode": {
    "name": "ipython",
    "version": 3
   },
   "file_extension": ".py",
   "mimetype": "text/x-python",
   "name": "python",
   "nbconvert_exporter": "python",
   "pygments_lexer": "ipython3",
   "version": "3.9.18"
  }
 },
 "nbformat": 4,
 "nbformat_minor": 5
}
